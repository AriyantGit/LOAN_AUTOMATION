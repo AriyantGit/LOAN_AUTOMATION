{
 "cells": [
  {
   "cell_type": "code",
   "execution_count": 1,
   "id": "c5ca62ac",
   "metadata": {
    "_cell_guid": "b1076dfc-b9ad-4769-8c92-a6c4dae69d19",
    "_uuid": "8f2839f25d086af736a60e9eeb907d3b93b6e0e5",
    "execution": {
     "iopub.execute_input": "2023-05-21T04:27:22.172245Z",
     "iopub.status.busy": "2023-05-21T04:27:22.171815Z",
     "iopub.status.idle": "2023-05-21T04:27:22.199079Z",
     "shell.execute_reply": "2023-05-21T04:27:22.197891Z"
    },
    "papermill": {
     "duration": 0.043077,
     "end_time": "2023-05-21T04:27:22.201650",
     "exception": false,
     "start_time": "2023-05-21T04:27:22.158573",
     "status": "completed"
    },
    "tags": []
   },
   "outputs": [
    {
     "name": "stdout",
     "output_type": "stream",
     "text": [
      "/kaggle/input/d/ariyantsarkar/loan-data/Loan Automaion System DATA.csv\n",
      "/kaggle/input/loan-data/train.csv\n",
      "/kaggle/input/loan-data/test.csv\n"
     ]
    }
   ],
   "source": [
    "# This Python 3 environment comes with many helpful analytics libraries installed\n",
    "# It is defined by the kaggle/python Docker image: https://github.com/kaggle/docker-python\n",
    "# For example, here's several helpful packages to load\n",
    "\n",
    "import numpy as np # linear algebra\n",
    "import pandas as pd # data processing, CSV file I/O (e.g. pd.read_csv)\n",
    "\n",
    "# Input data files are available in the read-only \"../input/\" directory\n",
    "# For example, running this (by clicking run or pressing Shift+Enter) will list all files under the input directory\n",
    "\n",
    "import os\n",
    "for dirname, _, filenames in os.walk('/kaggle/input'):\n",
    "    for filename in filenames:\n",
    "        print(os.path.join(dirname, filename))\n",
    "\n",
    "# You can write up to 20GB to the current directory (/kaggle/working/) that gets preserved as output when you create a version using \"Save & Run All\" \n",
    "# You can also write temporary files to /kaggle/temp/, but they won't be saved outside of the current session"
   ]
  },
  {
   "cell_type": "code",
   "execution_count": 2,
   "id": "840c1a26",
   "metadata": {
    "execution": {
     "iopub.execute_input": "2023-05-21T04:27:22.226242Z",
     "iopub.status.busy": "2023-05-21T04:27:22.225803Z",
     "iopub.status.idle": "2023-05-21T04:27:23.685359Z",
     "shell.execute_reply": "2023-05-21T04:27:23.683641Z"
    },
    "papermill": {
     "duration": 1.474795,
     "end_time": "2023-05-21T04:27:23.688077",
     "exception": false,
     "start_time": "2023-05-21T04:27:22.213282",
     "status": "completed"
    },
    "tags": []
   },
   "outputs": [
    {
     "name": "stderr",
     "output_type": "stream",
     "text": [
      "/opt/conda/lib/python3.10/site-packages/scipy/__init__.py:146: UserWarning: A NumPy version >=1.16.5 and <1.23.0 is required for this version of SciPy (detected version 1.23.5\n",
      "  warnings.warn(f\"A NumPy version >={np_minversion} and <{np_maxversion}\"\n"
     ]
    }
   ],
   "source": [
    "import matplotlib.pyplot as plt\n",
    "import seaborn as sns\n",
    "plt.style.use('ggplot')\n",
    "\n",
    "import warnings\n",
    "warnings.filterwarnings('ignore')"
   ]
  },
  {
   "cell_type": "code",
   "execution_count": 3,
   "id": "d37a8ada",
   "metadata": {
    "execution": {
     "iopub.execute_input": "2023-05-21T04:27:23.712762Z",
     "iopub.status.busy": "2023-05-21T04:27:23.712335Z",
     "iopub.status.idle": "2023-05-21T04:27:23.741436Z",
     "shell.execute_reply": "2023-05-21T04:27:23.740052Z"
    },
    "papermill": {
     "duration": 0.04469,
     "end_time": "2023-05-21T04:27:23.744259",
     "exception": false,
     "start_time": "2023-05-21T04:27:23.699569",
     "status": "completed"
    },
    "tags": []
   },
   "outputs": [],
   "source": [
    "data=pd.read_csv(\"/kaggle/input/d/ariyantsarkar/loan-data/Loan Automaion System DATA.csv\")\n",
    "df=data.copy()"
   ]
  },
  {
   "cell_type": "code",
   "execution_count": 4,
   "id": "7d0c78f1",
   "metadata": {
    "execution": {
     "iopub.execute_input": "2023-05-21T04:27:23.769485Z",
     "iopub.status.busy": "2023-05-21T04:27:23.769064Z",
     "iopub.status.idle": "2023-05-21T04:27:23.811055Z",
     "shell.execute_reply": "2023-05-21T04:27:23.809755Z"
    },
    "papermill": {
     "duration": 0.058104,
     "end_time": "2023-05-21T04:27:23.813887",
     "exception": false,
     "start_time": "2023-05-21T04:27:23.755783",
     "status": "completed"
    },
    "tags": []
   },
   "outputs": [
    {
     "data": {
      "text/html": [
       "<div>\n",
       "<style scoped>\n",
       "    .dataframe tbody tr th:only-of-type {\n",
       "        vertical-align: middle;\n",
       "    }\n",
       "\n",
       "    .dataframe tbody tr th {\n",
       "        vertical-align: top;\n",
       "    }\n",
       "\n",
       "    .dataframe thead th {\n",
       "        text-align: right;\n",
       "    }\n",
       "</style>\n",
       "<table border=\"1\" class=\"dataframe\">\n",
       "  <thead>\n",
       "    <tr style=\"text-align: right;\">\n",
       "      <th></th>\n",
       "      <th>Loan_ID</th>\n",
       "      <th>Gender</th>\n",
       "      <th>Married</th>\n",
       "      <th>Dependents</th>\n",
       "      <th>Education</th>\n",
       "      <th>Self_Employed</th>\n",
       "      <th>ApplicantIncome</th>\n",
       "      <th>CoapplicantIncome</th>\n",
       "      <th>LoanAmount</th>\n",
       "      <th>Loan_Amount_Term</th>\n",
       "      <th>Credit_History</th>\n",
       "      <th>Property_Area</th>\n",
       "      <th>Loan_Status</th>\n",
       "    </tr>\n",
       "  </thead>\n",
       "  <tbody>\n",
       "    <tr>\n",
       "      <th>0</th>\n",
       "      <td>LP001002</td>\n",
       "      <td>Male</td>\n",
       "      <td>No</td>\n",
       "      <td>0</td>\n",
       "      <td>Graduate</td>\n",
       "      <td>No</td>\n",
       "      <td>5849</td>\n",
       "      <td>0.0</td>\n",
       "      <td>NaN</td>\n",
       "      <td>360.0</td>\n",
       "      <td>1.0</td>\n",
       "      <td>Urban</td>\n",
       "      <td>Y</td>\n",
       "    </tr>\n",
       "    <tr>\n",
       "      <th>1</th>\n",
       "      <td>LP001003</td>\n",
       "      <td>Male</td>\n",
       "      <td>Yes</td>\n",
       "      <td>1</td>\n",
       "      <td>Graduate</td>\n",
       "      <td>No</td>\n",
       "      <td>4583</td>\n",
       "      <td>1508.0</td>\n",
       "      <td>128.0</td>\n",
       "      <td>360.0</td>\n",
       "      <td>1.0</td>\n",
       "      <td>Rural</td>\n",
       "      <td>N</td>\n",
       "    </tr>\n",
       "    <tr>\n",
       "      <th>2</th>\n",
       "      <td>LP001005</td>\n",
       "      <td>Male</td>\n",
       "      <td>Yes</td>\n",
       "      <td>0</td>\n",
       "      <td>Graduate</td>\n",
       "      <td>Yes</td>\n",
       "      <td>3000</td>\n",
       "      <td>0.0</td>\n",
       "      <td>66.0</td>\n",
       "      <td>360.0</td>\n",
       "      <td>1.0</td>\n",
       "      <td>Urban</td>\n",
       "      <td>Y</td>\n",
       "    </tr>\n",
       "    <tr>\n",
       "      <th>3</th>\n",
       "      <td>LP001006</td>\n",
       "      <td>Male</td>\n",
       "      <td>Yes</td>\n",
       "      <td>0</td>\n",
       "      <td>Not Graduate</td>\n",
       "      <td>No</td>\n",
       "      <td>2583</td>\n",
       "      <td>2358.0</td>\n",
       "      <td>120.0</td>\n",
       "      <td>360.0</td>\n",
       "      <td>1.0</td>\n",
       "      <td>Urban</td>\n",
       "      <td>Y</td>\n",
       "    </tr>\n",
       "    <tr>\n",
       "      <th>4</th>\n",
       "      <td>LP001008</td>\n",
       "      <td>Male</td>\n",
       "      <td>No</td>\n",
       "      <td>0</td>\n",
       "      <td>Graduate</td>\n",
       "      <td>No</td>\n",
       "      <td>6000</td>\n",
       "      <td>0.0</td>\n",
       "      <td>141.0</td>\n",
       "      <td>360.0</td>\n",
       "      <td>1.0</td>\n",
       "      <td>Urban</td>\n",
       "      <td>Y</td>\n",
       "    </tr>\n",
       "  </tbody>\n",
       "</table>\n",
       "</div>"
      ],
      "text/plain": [
       "    Loan_ID Gender Married Dependents     Education Self_Employed  \\\n",
       "0  LP001002   Male      No          0      Graduate            No   \n",
       "1  LP001003   Male     Yes          1      Graduate            No   \n",
       "2  LP001005   Male     Yes          0      Graduate           Yes   \n",
       "3  LP001006   Male     Yes          0  Not Graduate            No   \n",
       "4  LP001008   Male      No          0      Graduate            No   \n",
       "\n",
       "   ApplicantIncome  CoapplicantIncome  LoanAmount  Loan_Amount_Term  \\\n",
       "0             5849                0.0         NaN             360.0   \n",
       "1             4583             1508.0       128.0             360.0   \n",
       "2             3000                0.0        66.0             360.0   \n",
       "3             2583             2358.0       120.0             360.0   \n",
       "4             6000                0.0       141.0             360.0   \n",
       "\n",
       "   Credit_History Property_Area Loan_Status  \n",
       "0             1.0         Urban           Y  \n",
       "1             1.0         Rural           N  \n",
       "2             1.0         Urban           Y  \n",
       "3             1.0         Urban           Y  \n",
       "4             1.0         Urban           Y  "
      ]
     },
     "execution_count": 4,
     "metadata": {},
     "output_type": "execute_result"
    }
   ],
   "source": [
    "df.head()"
   ]
  },
  {
   "cell_type": "code",
   "execution_count": 5,
   "id": "bb2504da",
   "metadata": {
    "execution": {
     "iopub.execute_input": "2023-05-21T04:27:23.839147Z",
     "iopub.status.busy": "2023-05-21T04:27:23.838472Z",
     "iopub.status.idle": "2023-05-21T04:27:23.871768Z",
     "shell.execute_reply": "2023-05-21T04:27:23.870487Z"
    },
    "papermill": {
     "duration": 0.049043,
     "end_time": "2023-05-21T04:27:23.874596",
     "exception": false,
     "start_time": "2023-05-21T04:27:23.825553",
     "status": "completed"
    },
    "tags": []
   },
   "outputs": [
    {
     "name": "stdout",
     "output_type": "stream",
     "text": [
      "<class 'pandas.core.frame.DataFrame'>\n",
      "RangeIndex: 614 entries, 0 to 613\n",
      "Data columns (total 13 columns):\n",
      " #   Column             Non-Null Count  Dtype  \n",
      "---  ------             --------------  -----  \n",
      " 0   Loan_ID            614 non-null    object \n",
      " 1   Gender             601 non-null    object \n",
      " 2   Married            611 non-null    object \n",
      " 3   Dependents         599 non-null    object \n",
      " 4   Education          614 non-null    object \n",
      " 5   Self_Employed      582 non-null    object \n",
      " 6   ApplicantIncome    614 non-null    int64  \n",
      " 7   CoapplicantIncome  614 non-null    float64\n",
      " 8   LoanAmount         592 non-null    float64\n",
      " 9   Loan_Amount_Term   600 non-null    float64\n",
      " 10  Credit_History     564 non-null    float64\n",
      " 11  Property_Area      614 non-null    object \n",
      " 12  Loan_Status        614 non-null    object \n",
      "dtypes: float64(4), int64(1), object(8)\n",
      "memory usage: 62.5+ KB\n"
     ]
    }
   ],
   "source": [
    "df.info()"
   ]
  },
  {
   "cell_type": "code",
   "execution_count": 6,
   "id": "1819d035",
   "metadata": {
    "execution": {
     "iopub.execute_input": "2023-05-21T04:27:23.901195Z",
     "iopub.status.busy": "2023-05-21T04:27:23.900466Z",
     "iopub.status.idle": "2023-05-21T04:27:23.931604Z",
     "shell.execute_reply": "2023-05-21T04:27:23.930453Z"
    },
    "papermill": {
     "duration": 0.047156,
     "end_time": "2023-05-21T04:27:23.934225",
     "exception": false,
     "start_time": "2023-05-21T04:27:23.887069",
     "status": "completed"
    },
    "tags": []
   },
   "outputs": [
    {
     "data": {
      "text/html": [
       "<div>\n",
       "<style scoped>\n",
       "    .dataframe tbody tr th:only-of-type {\n",
       "        vertical-align: middle;\n",
       "    }\n",
       "\n",
       "    .dataframe tbody tr th {\n",
       "        vertical-align: top;\n",
       "    }\n",
       "\n",
       "    .dataframe thead th {\n",
       "        text-align: right;\n",
       "    }\n",
       "</style>\n",
       "<table border=\"1\" class=\"dataframe\">\n",
       "  <thead>\n",
       "    <tr style=\"text-align: right;\">\n",
       "      <th></th>\n",
       "      <th>ApplicantIncome</th>\n",
       "      <th>CoapplicantIncome</th>\n",
       "      <th>LoanAmount</th>\n",
       "      <th>Loan_Amount_Term</th>\n",
       "      <th>Credit_History</th>\n",
       "    </tr>\n",
       "  </thead>\n",
       "  <tbody>\n",
       "    <tr>\n",
       "      <th>count</th>\n",
       "      <td>614.000000</td>\n",
       "      <td>614.000000</td>\n",
       "      <td>592.000000</td>\n",
       "      <td>600.00000</td>\n",
       "      <td>564.000000</td>\n",
       "    </tr>\n",
       "    <tr>\n",
       "      <th>mean</th>\n",
       "      <td>5403.459283</td>\n",
       "      <td>1621.245798</td>\n",
       "      <td>146.412162</td>\n",
       "      <td>342.00000</td>\n",
       "      <td>0.842199</td>\n",
       "    </tr>\n",
       "    <tr>\n",
       "      <th>std</th>\n",
       "      <td>6109.041673</td>\n",
       "      <td>2926.248369</td>\n",
       "      <td>85.587325</td>\n",
       "      <td>65.12041</td>\n",
       "      <td>0.364878</td>\n",
       "    </tr>\n",
       "    <tr>\n",
       "      <th>min</th>\n",
       "      <td>150.000000</td>\n",
       "      <td>0.000000</td>\n",
       "      <td>9.000000</td>\n",
       "      <td>12.00000</td>\n",
       "      <td>0.000000</td>\n",
       "    </tr>\n",
       "    <tr>\n",
       "      <th>25%</th>\n",
       "      <td>2877.500000</td>\n",
       "      <td>0.000000</td>\n",
       "      <td>100.000000</td>\n",
       "      <td>360.00000</td>\n",
       "      <td>1.000000</td>\n",
       "    </tr>\n",
       "    <tr>\n",
       "      <th>50%</th>\n",
       "      <td>3812.500000</td>\n",
       "      <td>1188.500000</td>\n",
       "      <td>128.000000</td>\n",
       "      <td>360.00000</td>\n",
       "      <td>1.000000</td>\n",
       "    </tr>\n",
       "    <tr>\n",
       "      <th>75%</th>\n",
       "      <td>5795.000000</td>\n",
       "      <td>2297.250000</td>\n",
       "      <td>168.000000</td>\n",
       "      <td>360.00000</td>\n",
       "      <td>1.000000</td>\n",
       "    </tr>\n",
       "    <tr>\n",
       "      <th>max</th>\n",
       "      <td>81000.000000</td>\n",
       "      <td>41667.000000</td>\n",
       "      <td>700.000000</td>\n",
       "      <td>480.00000</td>\n",
       "      <td>1.000000</td>\n",
       "    </tr>\n",
       "  </tbody>\n",
       "</table>\n",
       "</div>"
      ],
      "text/plain": [
       "       ApplicantIncome  CoapplicantIncome  LoanAmount  Loan_Amount_Term  \\\n",
       "count       614.000000         614.000000  592.000000         600.00000   \n",
       "mean       5403.459283        1621.245798  146.412162         342.00000   \n",
       "std        6109.041673        2926.248369   85.587325          65.12041   \n",
       "min         150.000000           0.000000    9.000000          12.00000   \n",
       "25%        2877.500000           0.000000  100.000000         360.00000   \n",
       "50%        3812.500000        1188.500000  128.000000         360.00000   \n",
       "75%        5795.000000        2297.250000  168.000000         360.00000   \n",
       "max       81000.000000       41667.000000  700.000000         480.00000   \n",
       "\n",
       "       Credit_History  \n",
       "count      564.000000  \n",
       "mean         0.842199  \n",
       "std          0.364878  \n",
       "min          0.000000  \n",
       "25%          1.000000  \n",
       "50%          1.000000  \n",
       "75%          1.000000  \n",
       "max          1.000000  "
      ]
     },
     "execution_count": 6,
     "metadata": {},
     "output_type": "execute_result"
    }
   ],
   "source": [
    "df.describe()"
   ]
  },
  {
   "cell_type": "code",
   "execution_count": 7,
   "id": "0dce8c62",
   "metadata": {
    "execution": {
     "iopub.execute_input": "2023-05-21T04:27:23.961668Z",
     "iopub.status.busy": "2023-05-21T04:27:23.961246Z",
     "iopub.status.idle": "2023-05-21T04:27:23.973397Z",
     "shell.execute_reply": "2023-05-21T04:27:23.972127Z"
    },
    "papermill": {
     "duration": 0.028506,
     "end_time": "2023-05-21T04:27:23.975814",
     "exception": false,
     "start_time": "2023-05-21T04:27:23.947308",
     "status": "completed"
    },
    "tags": []
   },
   "outputs": [
    {
     "data": {
      "text/plain": [
       "Loan_ID               0\n",
       "Gender               13\n",
       "Married               3\n",
       "Dependents           15\n",
       "Education             0\n",
       "Self_Employed        32\n",
       "ApplicantIncome       0\n",
       "CoapplicantIncome     0\n",
       "LoanAmount           22\n",
       "Loan_Amount_Term     14\n",
       "Credit_History       50\n",
       "Property_Area         0\n",
       "Loan_Status           0\n",
       "dtype: int64"
      ]
     },
     "execution_count": 7,
     "metadata": {},
     "output_type": "execute_result"
    }
   ],
   "source": [
    "df.isnull().sum()"
   ]
  },
  {
   "cell_type": "code",
   "execution_count": 8,
   "id": "a9dd60f6",
   "metadata": {
    "execution": {
     "iopub.execute_input": "2023-05-21T04:27:24.002614Z",
     "iopub.status.busy": "2023-05-21T04:27:24.001692Z",
     "iopub.status.idle": "2023-05-21T04:27:24.013724Z",
     "shell.execute_reply": "2023-05-21T04:27:24.012654Z"
    },
    "papermill": {
     "duration": 0.027991,
     "end_time": "2023-05-21T04:27:24.016028",
     "exception": false,
     "start_time": "2023-05-21T04:27:23.988037",
     "status": "completed"
    },
    "tags": []
   },
   "outputs": [
    {
     "data": {
      "text/plain": [
       "Loan_ID              0.000000\n",
       "Gender               0.021173\n",
       "Married              0.004886\n",
       "Dependents           0.024430\n",
       "Education            0.000000\n",
       "Self_Employed        0.052117\n",
       "ApplicantIncome      0.000000\n",
       "CoapplicantIncome    0.000000\n",
       "LoanAmount           0.035831\n",
       "Loan_Amount_Term     0.022801\n",
       "Credit_History       0.081433\n",
       "Property_Area        0.000000\n",
       "Loan_Status          0.000000\n",
       "dtype: float64"
      ]
     },
     "execution_count": 8,
     "metadata": {},
     "output_type": "execute_result"
    }
   ],
   "source": [
    "df.isnull().mean()"
   ]
  },
  {
   "cell_type": "code",
   "execution_count": 9,
   "id": "13441608",
   "metadata": {
    "execution": {
     "iopub.execute_input": "2023-05-21T04:27:24.042509Z",
     "iopub.status.busy": "2023-05-21T04:27:24.042133Z",
     "iopub.status.idle": "2023-05-21T04:27:24.049420Z",
     "shell.execute_reply": "2023-05-21T04:27:24.048347Z"
    },
    "papermill": {
     "duration": 0.023786,
     "end_time": "2023-05-21T04:27:24.052093",
     "exception": false,
     "start_time": "2023-05-21T04:27:24.028307",
     "status": "completed"
    },
    "tags": []
   },
   "outputs": [
    {
     "data": {
      "text/plain": [
       "array(['Y', 'N'], dtype=object)"
      ]
     },
     "execution_count": 9,
     "metadata": {},
     "output_type": "execute_result"
    }
   ],
   "source": [
    "df[\"Loan_Status\"].unique()"
   ]
  },
  {
   "cell_type": "code",
   "execution_count": 10,
   "id": "1123b1a3",
   "metadata": {
    "execution": {
     "iopub.execute_input": "2023-05-21T04:27:24.079613Z",
     "iopub.status.busy": "2023-05-21T04:27:24.079188Z",
     "iopub.status.idle": "2023-05-21T04:27:24.087964Z",
     "shell.execute_reply": "2023-05-21T04:27:24.086790Z"
    },
    "papermill": {
     "duration": 0.026001,
     "end_time": "2023-05-21T04:27:24.090634",
     "exception": false,
     "start_time": "2023-05-21T04:27:24.064633",
     "status": "completed"
    },
    "tags": []
   },
   "outputs": [],
   "source": [
    "df.drop(\"Loan_ID\",axis=1,inplace=True)"
   ]
  },
  {
   "cell_type": "code",
   "execution_count": 11,
   "id": "4da8158b",
   "metadata": {
    "execution": {
     "iopub.execute_input": "2023-05-21T04:27:24.118282Z",
     "iopub.status.busy": "2023-05-21T04:27:24.117882Z",
     "iopub.status.idle": "2023-05-21T04:27:24.305153Z",
     "shell.execute_reply": "2023-05-21T04:27:24.303894Z"
    },
    "papermill": {
     "duration": 0.204239,
     "end_time": "2023-05-21T04:27:24.307958",
     "exception": false,
     "start_time": "2023-05-21T04:27:24.103719",
     "status": "completed"
    },
    "tags": []
   },
   "outputs": [],
   "source": [
    "from sklearn.preprocessing import LabelEncoder\n",
    "le=LabelEncoder()\n",
    "df[\"Loan_Status\"]=le.fit_transform(data[\"Loan_Status\"])"
   ]
  },
  {
   "cell_type": "code",
   "execution_count": 12,
   "id": "1d872072",
   "metadata": {
    "execution": {
     "iopub.execute_input": "2023-05-21T04:27:24.335680Z",
     "iopub.status.busy": "2023-05-21T04:27:24.335299Z",
     "iopub.status.idle": "2023-05-21T04:27:24.356876Z",
     "shell.execute_reply": "2023-05-21T04:27:24.355785Z"
    },
    "papermill": {
     "duration": 0.038364,
     "end_time": "2023-05-21T04:27:24.359546",
     "exception": false,
     "start_time": "2023-05-21T04:27:24.321182",
     "status": "completed"
    },
    "tags": []
   },
   "outputs": [
    {
     "data": {
      "text/html": [
       "<div>\n",
       "<style scoped>\n",
       "    .dataframe tbody tr th:only-of-type {\n",
       "        vertical-align: middle;\n",
       "    }\n",
       "\n",
       "    .dataframe tbody tr th {\n",
       "        vertical-align: top;\n",
       "    }\n",
       "\n",
       "    .dataframe thead th {\n",
       "        text-align: right;\n",
       "    }\n",
       "</style>\n",
       "<table border=\"1\" class=\"dataframe\">\n",
       "  <thead>\n",
       "    <tr style=\"text-align: right;\">\n",
       "      <th></th>\n",
       "      <th>Gender</th>\n",
       "      <th>Married</th>\n",
       "      <th>Dependents</th>\n",
       "      <th>Education</th>\n",
       "      <th>Self_Employed</th>\n",
       "      <th>ApplicantIncome</th>\n",
       "      <th>CoapplicantIncome</th>\n",
       "      <th>LoanAmount</th>\n",
       "      <th>Loan_Amount_Term</th>\n",
       "      <th>Credit_History</th>\n",
       "      <th>Property_Area</th>\n",
       "      <th>Loan_Status</th>\n",
       "    </tr>\n",
       "  </thead>\n",
       "  <tbody>\n",
       "    <tr>\n",
       "      <th>0</th>\n",
       "      <td>Male</td>\n",
       "      <td>No</td>\n",
       "      <td>0</td>\n",
       "      <td>Graduate</td>\n",
       "      <td>No</td>\n",
       "      <td>5849</td>\n",
       "      <td>0.0</td>\n",
       "      <td>NaN</td>\n",
       "      <td>360.0</td>\n",
       "      <td>1.0</td>\n",
       "      <td>Urban</td>\n",
       "      <td>1</td>\n",
       "    </tr>\n",
       "    <tr>\n",
       "      <th>1</th>\n",
       "      <td>Male</td>\n",
       "      <td>Yes</td>\n",
       "      <td>1</td>\n",
       "      <td>Graduate</td>\n",
       "      <td>No</td>\n",
       "      <td>4583</td>\n",
       "      <td>1508.0</td>\n",
       "      <td>128.0</td>\n",
       "      <td>360.0</td>\n",
       "      <td>1.0</td>\n",
       "      <td>Rural</td>\n",
       "      <td>0</td>\n",
       "    </tr>\n",
       "    <tr>\n",
       "      <th>2</th>\n",
       "      <td>Male</td>\n",
       "      <td>Yes</td>\n",
       "      <td>0</td>\n",
       "      <td>Graduate</td>\n",
       "      <td>Yes</td>\n",
       "      <td>3000</td>\n",
       "      <td>0.0</td>\n",
       "      <td>66.0</td>\n",
       "      <td>360.0</td>\n",
       "      <td>1.0</td>\n",
       "      <td>Urban</td>\n",
       "      <td>1</td>\n",
       "    </tr>\n",
       "    <tr>\n",
       "      <th>3</th>\n",
       "      <td>Male</td>\n",
       "      <td>Yes</td>\n",
       "      <td>0</td>\n",
       "      <td>Not Graduate</td>\n",
       "      <td>No</td>\n",
       "      <td>2583</td>\n",
       "      <td>2358.0</td>\n",
       "      <td>120.0</td>\n",
       "      <td>360.0</td>\n",
       "      <td>1.0</td>\n",
       "      <td>Urban</td>\n",
       "      <td>1</td>\n",
       "    </tr>\n",
       "    <tr>\n",
       "      <th>4</th>\n",
       "      <td>Male</td>\n",
       "      <td>No</td>\n",
       "      <td>0</td>\n",
       "      <td>Graduate</td>\n",
       "      <td>No</td>\n",
       "      <td>6000</td>\n",
       "      <td>0.0</td>\n",
       "      <td>141.0</td>\n",
       "      <td>360.0</td>\n",
       "      <td>1.0</td>\n",
       "      <td>Urban</td>\n",
       "      <td>1</td>\n",
       "    </tr>\n",
       "  </tbody>\n",
       "</table>\n",
       "</div>"
      ],
      "text/plain": [
       "  Gender Married Dependents     Education Self_Employed  ApplicantIncome  \\\n",
       "0   Male      No          0      Graduate            No             5849   \n",
       "1   Male     Yes          1      Graduate            No             4583   \n",
       "2   Male     Yes          0      Graduate           Yes             3000   \n",
       "3   Male     Yes          0  Not Graduate            No             2583   \n",
       "4   Male      No          0      Graduate            No             6000   \n",
       "\n",
       "   CoapplicantIncome  LoanAmount  Loan_Amount_Term  Credit_History  \\\n",
       "0                0.0         NaN             360.0             1.0   \n",
       "1             1508.0       128.0             360.0             1.0   \n",
       "2                0.0        66.0             360.0             1.0   \n",
       "3             2358.0       120.0             360.0             1.0   \n",
       "4                0.0       141.0             360.0             1.0   \n",
       "\n",
       "  Property_Area  Loan_Status  \n",
       "0         Urban            1  \n",
       "1         Rural            0  \n",
       "2         Urban            1  \n",
       "3         Urban            1  \n",
       "4         Urban            1  "
      ]
     },
     "execution_count": 12,
     "metadata": {},
     "output_type": "execute_result"
    }
   ],
   "source": [
    "df.head()"
   ]
  },
  {
   "cell_type": "code",
   "execution_count": 13,
   "id": "d243f9de",
   "metadata": {
    "execution": {
     "iopub.execute_input": "2023-05-21T04:27:24.388608Z",
     "iopub.status.busy": "2023-05-21T04:27:24.387817Z",
     "iopub.status.idle": "2023-05-21T04:27:24.394914Z",
     "shell.execute_reply": "2023-05-21T04:27:24.394012Z"
    },
    "papermill": {
     "duration": 0.02384,
     "end_time": "2023-05-21T04:27:24.397134",
     "exception": false,
     "start_time": "2023-05-21T04:27:24.373294",
     "status": "completed"
    },
    "tags": []
   },
   "outputs": [
    {
     "data": {
      "text/plain": [
       "array(['Male', 'Female', nan], dtype=object)"
      ]
     },
     "execution_count": 13,
     "metadata": {},
     "output_type": "execute_result"
    }
   ],
   "source": [
    "df[\"Gender\"].unique()"
   ]
  },
  {
   "cell_type": "code",
   "execution_count": 14,
   "id": "8b090c83",
   "metadata": {
    "execution": {
     "iopub.execute_input": "2023-05-21T04:27:24.424984Z",
     "iopub.status.busy": "2023-05-21T04:27:24.424542Z",
     "iopub.status.idle": "2023-05-21T04:27:24.431855Z",
     "shell.execute_reply": "2023-05-21T04:27:24.430660Z"
    },
    "papermill": {
     "duration": 0.023919,
     "end_time": "2023-05-21T04:27:24.434186",
     "exception": false,
     "start_time": "2023-05-21T04:27:24.410267",
     "status": "completed"
    },
    "tags": []
   },
   "outputs": [],
   "source": [
    "df[\"Gender\"].fillna(df[\"Gender\"].mode()[0],inplace=True)"
   ]
  },
  {
   "cell_type": "code",
   "execution_count": 15,
   "id": "0828cefd",
   "metadata": {
    "execution": {
     "iopub.execute_input": "2023-05-21T04:27:24.463012Z",
     "iopub.status.busy": "2023-05-21T04:27:24.462246Z",
     "iopub.status.idle": "2023-05-21T04:27:24.476313Z",
     "shell.execute_reply": "2023-05-21T04:27:24.475285Z"
    },
    "papermill": {
     "duration": 0.031133,
     "end_time": "2023-05-21T04:27:24.478712",
     "exception": false,
     "start_time": "2023-05-21T04:27:24.447579",
     "status": "completed"
    },
    "tags": []
   },
   "outputs": [
    {
     "data": {
      "text/html": [
       "<div>\n",
       "<style scoped>\n",
       "    .dataframe tbody tr th:only-of-type {\n",
       "        vertical-align: middle;\n",
       "    }\n",
       "\n",
       "    .dataframe tbody tr th {\n",
       "        vertical-align: top;\n",
       "    }\n",
       "\n",
       "    .dataframe thead th {\n",
       "        text-align: right;\n",
       "    }\n",
       "</style>\n",
       "<table border=\"1\" class=\"dataframe\">\n",
       "  <thead>\n",
       "    <tr style=\"text-align: right;\">\n",
       "      <th></th>\n",
       "      <th>Gender</th>\n",
       "      <th>Loan_Status</th>\n",
       "    </tr>\n",
       "  </thead>\n",
       "  <tbody>\n",
       "    <tr>\n",
       "      <th>0</th>\n",
       "      <td>Female</td>\n",
       "      <td>0.669643</td>\n",
       "    </tr>\n",
       "    <tr>\n",
       "      <th>1</th>\n",
       "      <td>Male</td>\n",
       "      <td>0.691235</td>\n",
       "    </tr>\n",
       "  </tbody>\n",
       "</table>\n",
       "</div>"
      ],
      "text/plain": [
       "   Gender  Loan_Status\n",
       "0  Female     0.669643\n",
       "1    Male     0.691235"
      ]
     },
     "execution_count": 15,
     "metadata": {},
     "output_type": "execute_result"
    }
   ],
   "source": [
    "encoding=df.groupby(\"Gender\")[\"Loan_Status\"].mean().reset_index()\n",
    "encoding"
   ]
  },
  {
   "cell_type": "code",
   "execution_count": 16,
   "id": "9b501c61",
   "metadata": {
    "execution": {
     "iopub.execute_input": "2023-05-21T04:27:24.507064Z",
     "iopub.status.busy": "2023-05-21T04:27:24.506350Z",
     "iopub.status.idle": "2023-05-21T04:27:24.535684Z",
     "shell.execute_reply": "2023-05-21T04:27:24.534468Z"
    },
    "papermill": {
     "duration": 0.046016,
     "end_time": "2023-05-21T04:27:24.538019",
     "exception": false,
     "start_time": "2023-05-21T04:27:24.492003",
     "status": "completed"
    },
    "tags": []
   },
   "outputs": [
    {
     "data": {
      "text/html": [
       "<div>\n",
       "<style scoped>\n",
       "    .dataframe tbody tr th:only-of-type {\n",
       "        vertical-align: middle;\n",
       "    }\n",
       "\n",
       "    .dataframe tbody tr th {\n",
       "        vertical-align: top;\n",
       "    }\n",
       "\n",
       "    .dataframe thead th {\n",
       "        text-align: right;\n",
       "    }\n",
       "</style>\n",
       "<table border=\"1\" class=\"dataframe\">\n",
       "  <thead>\n",
       "    <tr style=\"text-align: right;\">\n",
       "      <th></th>\n",
       "      <th>Gender</th>\n",
       "      <th>Married</th>\n",
       "      <th>Dependents</th>\n",
       "      <th>Education</th>\n",
       "      <th>Self_Employed</th>\n",
       "      <th>ApplicantIncome</th>\n",
       "      <th>CoapplicantIncome</th>\n",
       "      <th>LoanAmount</th>\n",
       "      <th>Loan_Amount_Term</th>\n",
       "      <th>Credit_History</th>\n",
       "      <th>Property_Area</th>\n",
       "      <th>Loan_Status_x</th>\n",
       "      <th>Loan_Status_y</th>\n",
       "    </tr>\n",
       "  </thead>\n",
       "  <tbody>\n",
       "    <tr>\n",
       "      <th>0</th>\n",
       "      <td>Male</td>\n",
       "      <td>No</td>\n",
       "      <td>0</td>\n",
       "      <td>Graduate</td>\n",
       "      <td>No</td>\n",
       "      <td>5849</td>\n",
       "      <td>0.0</td>\n",
       "      <td>NaN</td>\n",
       "      <td>360.0</td>\n",
       "      <td>1.0</td>\n",
       "      <td>Urban</td>\n",
       "      <td>1</td>\n",
       "      <td>0.691235</td>\n",
       "    </tr>\n",
       "    <tr>\n",
       "      <th>1</th>\n",
       "      <td>Male</td>\n",
       "      <td>Yes</td>\n",
       "      <td>1</td>\n",
       "      <td>Graduate</td>\n",
       "      <td>No</td>\n",
       "      <td>4583</td>\n",
       "      <td>1508.0</td>\n",
       "      <td>128.0</td>\n",
       "      <td>360.0</td>\n",
       "      <td>1.0</td>\n",
       "      <td>Rural</td>\n",
       "      <td>0</td>\n",
       "      <td>0.691235</td>\n",
       "    </tr>\n",
       "    <tr>\n",
       "      <th>2</th>\n",
       "      <td>Male</td>\n",
       "      <td>Yes</td>\n",
       "      <td>0</td>\n",
       "      <td>Graduate</td>\n",
       "      <td>Yes</td>\n",
       "      <td>3000</td>\n",
       "      <td>0.0</td>\n",
       "      <td>66.0</td>\n",
       "      <td>360.0</td>\n",
       "      <td>1.0</td>\n",
       "      <td>Urban</td>\n",
       "      <td>1</td>\n",
       "      <td>0.691235</td>\n",
       "    </tr>\n",
       "    <tr>\n",
       "      <th>3</th>\n",
       "      <td>Male</td>\n",
       "      <td>Yes</td>\n",
       "      <td>0</td>\n",
       "      <td>Not Graduate</td>\n",
       "      <td>No</td>\n",
       "      <td>2583</td>\n",
       "      <td>2358.0</td>\n",
       "      <td>120.0</td>\n",
       "      <td>360.0</td>\n",
       "      <td>1.0</td>\n",
       "      <td>Urban</td>\n",
       "      <td>1</td>\n",
       "      <td>0.691235</td>\n",
       "    </tr>\n",
       "    <tr>\n",
       "      <th>4</th>\n",
       "      <td>Male</td>\n",
       "      <td>No</td>\n",
       "      <td>0</td>\n",
       "      <td>Graduate</td>\n",
       "      <td>No</td>\n",
       "      <td>6000</td>\n",
       "      <td>0.0</td>\n",
       "      <td>141.0</td>\n",
       "      <td>360.0</td>\n",
       "      <td>1.0</td>\n",
       "      <td>Urban</td>\n",
       "      <td>1</td>\n",
       "      <td>0.691235</td>\n",
       "    </tr>\n",
       "  </tbody>\n",
       "</table>\n",
       "</div>"
      ],
      "text/plain": [
       "  Gender Married Dependents     Education Self_Employed  ApplicantIncome  \\\n",
       "0   Male      No          0      Graduate            No             5849   \n",
       "1   Male     Yes          1      Graduate            No             4583   \n",
       "2   Male     Yes          0      Graduate           Yes             3000   \n",
       "3   Male     Yes          0  Not Graduate            No             2583   \n",
       "4   Male      No          0      Graduate            No             6000   \n",
       "\n",
       "   CoapplicantIncome  LoanAmount  Loan_Amount_Term  Credit_History  \\\n",
       "0                0.0         NaN             360.0             1.0   \n",
       "1             1508.0       128.0             360.0             1.0   \n",
       "2                0.0        66.0             360.0             1.0   \n",
       "3             2358.0       120.0             360.0             1.0   \n",
       "4                0.0       141.0             360.0             1.0   \n",
       "\n",
       "  Property_Area  Loan_Status_x  Loan_Status_y  \n",
       "0         Urban              1       0.691235  \n",
       "1         Rural              0       0.691235  \n",
       "2         Urban              1       0.691235  \n",
       "3         Urban              1       0.691235  \n",
       "4         Urban              1       0.691235  "
      ]
     },
     "execution_count": 16,
     "metadata": {},
     "output_type": "execute_result"
    }
   ],
   "source": [
    "df=df.merge(encoding,how=\"left\",on=\"Gender\")\n",
    "df.head()"
   ]
  },
  {
   "cell_type": "markdown",
   "id": "efa9c781",
   "metadata": {
    "papermill": {
     "duration": 0.012849,
     "end_time": "2023-05-21T04:27:24.564192",
     "exception": false,
     "start_time": "2023-05-21T04:27:24.551343",
     "status": "completed"
    },
    "tags": []
   },
   "source": [
    "# . Exploratory Data Analysis"
   ]
  },
  {
   "cell_type": "code",
   "execution_count": 17,
   "id": "5d2a4d2a",
   "metadata": {
    "execution": {
     "iopub.execute_input": "2023-05-21T04:27:24.592628Z",
     "iopub.status.busy": "2023-05-21T04:27:24.591853Z",
     "iopub.status.idle": "2023-05-21T04:27:24.598923Z",
     "shell.execute_reply": "2023-05-21T04:27:24.597903Z"
    },
    "papermill": {
     "duration": 0.023818,
     "end_time": "2023-05-21T04:27:24.601186",
     "exception": false,
     "start_time": "2023-05-21T04:27:24.577368",
     "status": "completed"
    },
    "tags": []
   },
   "outputs": [
    {
     "data": {
      "text/plain": [
       "Index(['Loan_ID', 'Gender', 'Married', 'Dependents', 'Education',\n",
       "       'Self_Employed', 'ApplicantIncome', 'CoapplicantIncome', 'LoanAmount',\n",
       "       'Loan_Amount_Term', 'Credit_History', 'Property_Area', 'Loan_Status'],\n",
       "      dtype='object')"
      ]
     },
     "execution_count": 17,
     "metadata": {},
     "output_type": "execute_result"
    }
   ],
   "source": [
    "data.columns"
   ]
  },
  {
   "cell_type": "code",
   "execution_count": 18,
   "id": "79887e3c",
   "metadata": {
    "execution": {
     "iopub.execute_input": "2023-05-21T04:27:24.630786Z",
     "iopub.status.busy": "2023-05-21T04:27:24.629627Z",
     "iopub.status.idle": "2023-05-21T04:27:24.637369Z",
     "shell.execute_reply": "2023-05-21T04:27:24.636382Z"
    },
    "papermill": {
     "duration": 0.024747,
     "end_time": "2023-05-21T04:27:24.639595",
     "exception": false,
     "start_time": "2023-05-21T04:27:24.614848",
     "status": "completed"
    },
    "tags": []
   },
   "outputs": [
    {
     "data": {
      "text/plain": [
       "array([422, 192])"
      ]
     },
     "execution_count": 18,
     "metadata": {},
     "output_type": "execute_result"
    }
   ],
   "source": [
    "data[\"Loan_Status\"].value_counts().values"
   ]
  },
  {
   "cell_type": "code",
   "execution_count": 19,
   "id": "cb38ef88",
   "metadata": {
    "execution": {
     "iopub.execute_input": "2023-05-21T04:27:24.669188Z",
     "iopub.status.busy": "2023-05-21T04:27:24.668307Z",
     "iopub.status.idle": "2023-05-21T04:27:24.813046Z",
     "shell.execute_reply": "2023-05-21T04:27:24.811574Z"
    },
    "papermill": {
     "duration": 0.162028,
     "end_time": "2023-05-21T04:27:24.815343",
     "exception": false,
     "start_time": "2023-05-21T04:27:24.653315",
     "status": "completed"
    },
    "tags": []
   },
   "outputs": [
    {
     "data": {
      "image/png": "[encoded data removed]",
      "text/plain": [
       "<Figure size 400x300 with 1 Axes>"
      ]
     },
     "metadata": {},
     "output_type": "display_data"
    }
   ],
   "source": [
    "plt.figure(figsize=(4,3))\n",
    "labels=[\"Approved\",\"Rejected\"]\n",
    "explode=[.1,.1]\n",
    "size=data[\"Loan_Status\"].value_counts().values\n",
    "plt.pie(size,explode,labels=labels,autopct=\"%1.1f%%\")\n",
    "plt.show()"
   ]
  },
  {
   "cell_type": "code",
   "execution_count": 20,
   "id": "73d23228",
   "metadata": {
    "execution": {
     "iopub.execute_input": "2023-05-21T04:27:24.875391Z",
     "iopub.status.busy": "2023-05-21T04:27:24.874066Z",
     "iopub.status.idle": "2023-05-21T04:27:24.898514Z",
     "shell.execute_reply": "2023-05-21T04:27:24.897587Z"
    },
    "papermill": {
     "duration": 0.057925,
     "end_time": "2023-05-21T04:27:24.900742",
     "exception": false,
     "start_time": "2023-05-21T04:27:24.842817",
     "status": "completed"
    },
    "tags": []
   },
   "outputs": [
    {
     "data": {
      "text/html": [
       "<div>\n",
       "<style scoped>\n",
       "    .dataframe tbody tr th:only-of-type {\n",
       "        vertical-align: middle;\n",
       "    }\n",
       "\n",
       "    .dataframe tbody tr th {\n",
       "        vertical-align: top;\n",
       "    }\n",
       "\n",
       "    .dataframe thead th {\n",
       "        text-align: right;\n",
       "    }\n",
       "</style>\n",
       "<table border=\"1\" class=\"dataframe\">\n",
       "  <thead>\n",
       "    <tr style=\"text-align: right;\">\n",
       "      <th></th>\n",
       "      <th>ApplicantIncome</th>\n",
       "      <th>CoapplicantIncome</th>\n",
       "      <th>LoanAmount</th>\n",
       "      <th>Loan_Amount_Term</th>\n",
       "      <th>Credit_History</th>\n",
       "    </tr>\n",
       "  </thead>\n",
       "  <tbody>\n",
       "    <tr>\n",
       "      <th>0</th>\n",
       "      <td>5849</td>\n",
       "      <td>0.0</td>\n",
       "      <td>NaN</td>\n",
       "      <td>360.0</td>\n",
       "      <td>1.0</td>\n",
       "    </tr>\n",
       "    <tr>\n",
       "      <th>1</th>\n",
       "      <td>4583</td>\n",
       "      <td>1508.0</td>\n",
       "      <td>128.0</td>\n",
       "      <td>360.0</td>\n",
       "      <td>1.0</td>\n",
       "    </tr>\n",
       "    <tr>\n",
       "      <th>2</th>\n",
       "      <td>3000</td>\n",
       "      <td>0.0</td>\n",
       "      <td>66.0</td>\n",
       "      <td>360.0</td>\n",
       "      <td>1.0</td>\n",
       "    </tr>\n",
       "    <tr>\n",
       "      <th>3</th>\n",
       "      <td>2583</td>\n",
       "      <td>2358.0</td>\n",
       "      <td>120.0</td>\n",
       "      <td>360.0</td>\n",
       "      <td>1.0</td>\n",
       "    </tr>\n",
       "    <tr>\n",
       "      <th>4</th>\n",
       "      <td>6000</td>\n",
       "      <td>0.0</td>\n",
       "      <td>141.0</td>\n",
       "      <td>360.0</td>\n",
       "      <td>1.0</td>\n",
       "    </tr>\n",
       "    <tr>\n",
       "      <th>...</th>\n",
       "      <td>...</td>\n",
       "      <td>...</td>\n",
       "      <td>...</td>\n",
       "      <td>...</td>\n",
       "      <td>...</td>\n",
       "    </tr>\n",
       "    <tr>\n",
       "      <th>609</th>\n",
       "      <td>2900</td>\n",
       "      <td>0.0</td>\n",
       "      <td>71.0</td>\n",
       "      <td>360.0</td>\n",
       "      <td>1.0</td>\n",
       "    </tr>\n",
       "    <tr>\n",
       "      <th>610</th>\n",
       "      <td>4106</td>\n",
       "      <td>0.0</td>\n",
       "      <td>40.0</td>\n",
       "      <td>180.0</td>\n",
       "      <td>1.0</td>\n",
       "    </tr>\n",
       "    <tr>\n",
       "      <th>611</th>\n",
       "      <td>8072</td>\n",
       "      <td>240.0</td>\n",
       "      <td>253.0</td>\n",
       "      <td>360.0</td>\n",
       "      <td>1.0</td>\n",
       "    </tr>\n",
       "    <tr>\n",
       "      <th>612</th>\n",
       "      <td>7583</td>\n",
       "      <td>0.0</td>\n",
       "      <td>187.0</td>\n",
       "      <td>360.0</td>\n",
       "      <td>1.0</td>\n",
       "    </tr>\n",
       "    <tr>\n",
       "      <th>613</th>\n",
       "      <td>4583</td>\n",
       "      <td>0.0</td>\n",
       "      <td>133.0</td>\n",
       "      <td>360.0</td>\n",
       "      <td>0.0</td>\n",
       "    </tr>\n",
       "  </tbody>\n",
       "</table>\n",
       "<p>614 rows × 5 columns</p>\n",
       "</div>"
      ],
      "text/plain": [
       "     ApplicantIncome  CoapplicantIncome  LoanAmount  Loan_Amount_Term  \\\n",
       "0               5849                0.0         NaN             360.0   \n",
       "1               4583             1508.0       128.0             360.0   \n",
       "2               3000                0.0        66.0             360.0   \n",
       "3               2583             2358.0       120.0             360.0   \n",
       "4               6000                0.0       141.0             360.0   \n",
       "..               ...                ...         ...               ...   \n",
       "609             2900                0.0        71.0             360.0   \n",
       "610             4106                0.0        40.0             180.0   \n",
       "611             8072              240.0       253.0             360.0   \n",
       "612             7583                0.0       187.0             360.0   \n",
       "613             4583                0.0       133.0             360.0   \n",
       "\n",
       "     Credit_History  \n",
       "0               1.0  \n",
       "1               1.0  \n",
       "2               1.0  \n",
       "3               1.0  \n",
       "4               1.0  \n",
       "..              ...  \n",
       "609             1.0  \n",
       "610             1.0  \n",
       "611             1.0  \n",
       "612             1.0  \n",
       "613             0.0  \n",
       "\n",
       "[614 rows x 5 columns]"
      ]
     },
     "execution_count": 20,
     "metadata": {},
     "output_type": "execute_result"
    }
   ],
   "source": [
    "data_num=data.select_dtypes(np.number)\n",
    "data_num"
   ]
  },
  {
   "cell_type": "code",
   "execution_count": 21,
   "id": "d0462d55",
   "metadata": {
    "execution": {
     "iopub.execute_input": "2023-05-21T04:27:24.931981Z",
     "iopub.status.busy": "2023-05-21T04:27:24.931148Z",
     "iopub.status.idle": "2023-05-21T04:27:24.938162Z",
     "shell.execute_reply": "2023-05-21T04:27:24.937281Z"
    },
    "papermill": {
     "duration": 0.025062,
     "end_time": "2023-05-21T04:27:24.940230",
     "exception": false,
     "start_time": "2023-05-21T04:27:24.915168",
     "status": "completed"
    },
    "tags": []
   },
   "outputs": [
    {
     "data": {
      "text/plain": [
       "array([360., 120., 240.,  nan, 180.,  60., 300., 480.,  36.,  84.,  12.])"
      ]
     },
     "execution_count": 21,
     "metadata": {},
     "output_type": "execute_result"
    }
   ],
   "source": [
    "data_num[\"Loan_Amount_Term\"].unique()"
   ]
  },
  {
   "cell_type": "code",
   "execution_count": 22,
   "id": "36ca6f1b",
   "metadata": {
    "execution": {
     "iopub.execute_input": "2023-05-21T04:27:24.971714Z",
     "iopub.status.busy": "2023-05-21T04:27:24.970959Z",
     "iopub.status.idle": "2023-05-21T04:27:24.978799Z",
     "shell.execute_reply": "2023-05-21T04:27:24.978064Z"
    },
    "papermill": {
     "duration": 0.025945,
     "end_time": "2023-05-21T04:27:24.981027",
     "exception": false,
     "start_time": "2023-05-21T04:27:24.955082",
     "status": "completed"
    },
    "tags": []
   },
   "outputs": [
    {
     "data": {
      "text/plain": [
       "1.0    475\n",
       "0.0     89\n",
       "Name: Credit_History, dtype: int64"
      ]
     },
     "execution_count": 22,
     "metadata": {},
     "output_type": "execute_result"
    }
   ],
   "source": [
    "data_num[\"Credit_History\"].value_counts()"
   ]
  },
  {
   "cell_type": "markdown",
   "id": "d15f10f9",
   "metadata": {
    "papermill": {
     "duration": 0.014472,
     "end_time": "2023-05-21T04:27:25.011027",
     "exception": false,
     "start_time": "2023-05-21T04:27:24.996555",
     "status": "completed"
    },
    "tags": []
   },
   "source": [
    "> Loan_Amount_Term and Credit_History both are categorial data"
   ]
  },
  {
   "cell_type": "code",
   "execution_count": 23,
   "id": "41c94270",
   "metadata": {
    "execution": {
     "iopub.execute_input": "2023-05-21T04:27:25.042571Z",
     "iopub.status.busy": "2023-05-21T04:27:25.041795Z",
     "iopub.status.idle": "2023-05-21T04:27:25.047406Z",
     "shell.execute_reply": "2023-05-21T04:27:25.046621Z"
    },
    "papermill": {
     "duration": 0.024026,
     "end_time": "2023-05-21T04:27:25.049635",
     "exception": false,
     "start_time": "2023-05-21T04:27:25.025609",
     "status": "completed"
    },
    "tags": []
   },
   "outputs": [],
   "source": [
    "data_num.drop([\"Credit_History\",\"Loan_Amount_Term\"],axis=1,inplace=True)"
   ]
  },
  {
   "cell_type": "code",
   "execution_count": 24,
   "id": "fa62af35",
   "metadata": {
    "execution": {
     "iopub.execute_input": "2023-05-21T04:27:25.081291Z",
     "iopub.status.busy": "2023-05-21T04:27:25.080427Z",
     "iopub.status.idle": "2023-05-21T04:27:25.092446Z",
     "shell.execute_reply": "2023-05-21T04:27:25.091245Z"
    },
    "papermill": {
     "duration": 0.03054,
     "end_time": "2023-05-21T04:27:25.094896",
     "exception": false,
     "start_time": "2023-05-21T04:27:25.064356",
     "status": "completed"
    },
    "tags": []
   },
   "outputs": [
    {
     "data": {
      "text/html": [
       "<div>\n",
       "<style scoped>\n",
       "    .dataframe tbody tr th:only-of-type {\n",
       "        vertical-align: middle;\n",
       "    }\n",
       "\n",
       "    .dataframe tbody tr th {\n",
       "        vertical-align: top;\n",
       "    }\n",
       "\n",
       "    .dataframe thead th {\n",
       "        text-align: right;\n",
       "    }\n",
       "</style>\n",
       "<table border=\"1\" class=\"dataframe\">\n",
       "  <thead>\n",
       "    <tr style=\"text-align: right;\">\n",
       "      <th></th>\n",
       "      <th>ApplicantIncome</th>\n",
       "      <th>CoapplicantIncome</th>\n",
       "      <th>LoanAmount</th>\n",
       "    </tr>\n",
       "  </thead>\n",
       "  <tbody>\n",
       "    <tr>\n",
       "      <th>0</th>\n",
       "      <td>5849</td>\n",
       "      <td>0.0</td>\n",
       "      <td>NaN</td>\n",
       "    </tr>\n",
       "    <tr>\n",
       "      <th>1</th>\n",
       "      <td>4583</td>\n",
       "      <td>1508.0</td>\n",
       "      <td>128.0</td>\n",
       "    </tr>\n",
       "    <tr>\n",
       "      <th>2</th>\n",
       "      <td>3000</td>\n",
       "      <td>0.0</td>\n",
       "      <td>66.0</td>\n",
       "    </tr>\n",
       "    <tr>\n",
       "      <th>3</th>\n",
       "      <td>2583</td>\n",
       "      <td>2358.0</td>\n",
       "      <td>120.0</td>\n",
       "    </tr>\n",
       "    <tr>\n",
       "      <th>4</th>\n",
       "      <td>6000</td>\n",
       "      <td>0.0</td>\n",
       "      <td>141.0</td>\n",
       "    </tr>\n",
       "  </tbody>\n",
       "</table>\n",
       "</div>"
      ],
      "text/plain": [
       "   ApplicantIncome  CoapplicantIncome  LoanAmount\n",
       "0             5849                0.0         NaN\n",
       "1             4583             1508.0       128.0\n",
       "2             3000                0.0        66.0\n",
       "3             2583             2358.0       120.0\n",
       "4             6000                0.0       141.0"
      ]
     },
     "execution_count": 24,
     "metadata": {},
     "output_type": "execute_result"
    }
   ],
   "source": [
    "data_num.head()"
   ]
  },
  {
   "cell_type": "code",
   "execution_count": 25,
   "id": "40b5e133",
   "metadata": {
    "execution": {
     "iopub.execute_input": "2023-05-21T04:27:25.126149Z",
     "iopub.status.busy": "2023-05-21T04:27:25.125726Z",
     "iopub.status.idle": "2023-05-21T04:27:25.135714Z",
     "shell.execute_reply": "2023-05-21T04:27:25.134710Z"
    },
    "papermill": {
     "duration": 0.02849,
     "end_time": "2023-05-21T04:27:25.138224",
     "exception": false,
     "start_time": "2023-05-21T04:27:25.109734",
     "status": "completed"
    },
    "tags": []
   },
   "outputs": [
    {
     "data": {
      "text/plain": [
       "ApplicantIncome       0\n",
       "CoapplicantIncome     0\n",
       "LoanAmount           22\n",
       "dtype: int64"
      ]
     },
     "execution_count": 25,
     "metadata": {},
     "output_type": "execute_result"
    }
   ],
   "source": [
    "data_num.isnull().sum()"
   ]
  },
  {
   "cell_type": "code",
   "execution_count": 26,
   "id": "703148ef",
   "metadata": {
    "execution": {
     "iopub.execute_input": "2023-05-21T04:27:25.170676Z",
     "iopub.status.busy": "2023-05-21T04:27:25.170273Z",
     "iopub.status.idle": "2023-05-21T04:27:26.033519Z",
     "shell.execute_reply": "2023-05-21T04:27:26.032146Z"
    },
    "papermill": {
     "duration": 0.882752,
     "end_time": "2023-05-21T04:27:26.036263",
     "exception": false,
     "start_time": "2023-05-21T04:27:25.153511",
     "status": "completed"
    },
    "tags": []
   },
   "outputs": [
    {
     "data": {
      "image/png": "[encoded data removed]",
      "text/plain": [
       "<Figure size 2000x2200 with 3 Axes>"
      ]
     },
     "metadata": {},
     "output_type": "display_data"
    }
   ],
   "source": [
    "plt.figure(figsize=(20,22))\n",
    "plotnumber = 1\n",
    "\n",
    "for column in data_num:\n",
    "    if plotnumber<=3 :     # as there are 9 columns in the data\n",
    "        ax = plt.subplot(3,3,plotnumber)\n",
    "        sns.distplot(df[column])\n",
    "        plt.xlabel(column,fontsize=20)\n",
    "       \n",
    "    plotnumber+=1\n",
    "plt.show()"
   ]
  },
  {
   "cell_type": "markdown",
   "id": "2988ff8f",
   "metadata": {
    "papermill": {
     "duration": 0.015828,
     "end_time": "2023-05-21T04:27:26.068304",
     "exception": false,
     "start_time": "2023-05-21T04:27:26.052476",
     "status": "completed"
    },
    "tags": []
   },
   "source": [
    "# Outlier Detection"
   ]
  },
  {
   "cell_type": "code",
   "execution_count": 27,
   "id": "11cdb16a",
   "metadata": {
    "execution": {
     "iopub.execute_input": "2023-05-21T04:27:26.102431Z",
     "iopub.status.busy": "2023-05-21T04:27:26.101994Z",
     "iopub.status.idle": "2023-05-21T04:27:26.663465Z",
     "shell.execute_reply": "2023-05-21T04:27:26.662511Z"
    },
    "papermill": {
     "duration": 0.581612,
     "end_time": "2023-05-21T04:27:26.666065",
     "exception": false,
     "start_time": "2023-05-21T04:27:26.084453",
     "status": "completed"
    },
    "tags": []
   },
   "outputs": [
    {
     "data": {
      "text/plain": [
       "<Figure size 900x300 with 0 Axes>"
      ]
     },
     "metadata": {},
     "output_type": "display_data"
    },
    {
     "data": {
      "image/png": "[encoded data removed]",
      "text/plain": [
       "<Figure size 700x200 with 1 Axes>"
      ]
     },
     "metadata": {},
     "output_type": "display_data"
    },
    {
     "data": {
      "image/png": "[encoded data removed]",
      "text/plain": [
       "<Figure size 700x200 with 1 Axes>"
      ]
     },
     "metadata": {},
     "output_type": "display_data"
    },
    {
     "data": {
      "image/png": "[encoded data removed]",
      "text/plain": [
       "<Figure size 700x200 with 1 Axes>"
      ]
     },
     "metadata": {},
     "output_type": "display_data"
    }
   ],
   "source": [
    "plt.figure(figsize=(9,3))\n",
    "for column in data_num.columns:\n",
    "    plt.figure(figsize=(7,2))\n",
    "    ax=sns.boxplot(data[column],orient=\"h\",color=\"red\")\n",
    "    ax.set_xlabel(column)\n",
    "    plt.show()"
   ]
  },
  {
   "cell_type": "markdown",
   "id": "b8b831ad",
   "metadata": {
    "papermill": {
     "duration": 0.017291,
     "end_time": "2023-05-21T04:27:26.701414",
     "exception": false,
     "start_time": "2023-05-21T04:27:26.684123",
     "status": "completed"
    },
    "tags": []
   },
   "source": [
    "**From the above charts we can observe that the features contains an outliers and we are getting skewed distribution as well so that's why we need to handle the outliers with IQR method.**"
   ]
  },
  {
   "cell_type": "markdown",
   "id": "04b08812",
   "metadata": {
    "papermill": {
     "duration": 0.016934,
     "end_time": "2023-05-21T04:27:26.736136",
     "exception": false,
     "start_time": "2023-05-21T04:27:26.719202",
     "status": "completed"
    },
    "tags": []
   },
   "source": [
    " # Plot the countplot to analyze the relation between dependent and independent variables"
   ]
  },
  {
   "cell_type": "code",
   "execution_count": 28,
   "id": "46a7843c",
   "metadata": {
    "execution": {
     "iopub.execute_input": "2023-05-21T04:27:26.773060Z",
     "iopub.status.busy": "2023-05-21T04:27:26.771874Z",
     "iopub.status.idle": "2023-05-21T04:27:28.114759Z",
     "shell.execute_reply": "2023-05-21T04:27:28.113418Z"
    },
    "papermill": {
     "duration": 1.364548,
     "end_time": "2023-05-21T04:27:28.117881",
     "exception": false,
     "start_time": "2023-05-21T04:27:26.753333",
     "status": "completed"
    },
    "tags": []
   },
   "outputs": [
    {
     "data": {
      "image/png": "[encoded data removed]",
      "text/plain": [
       "<Figure size 2500x1600 with 6 Axes>"
      ]
     },
     "metadata": {},
     "output_type": "display_data"
    }
   ],
   "source": [
    "fig, ax = plt.subplots(2, 3, figsize = (25, 16))\n",
    "\n",
    "sns.countplot(x = 'Married', hue = 'Loan_Status', data = data, palette = 'tab20c', ax = ax[0][0])\n",
    "sns.countplot(x = 'Dependents', hue = 'Loan_Status', data = data, palette = 'Set2', ax = ax[0][1])\n",
    "\n",
    "sns.countplot(x = 'Education', hue = 'Loan_Status', data = data, palette = 'Set1', ax = ax[0][2])\n",
    "\n",
    "sns.countplot(x = 'Self_Employed', hue = 'Loan_Status', data = data, palette = 'autumn_r', ax = ax[1][0])\n",
    "\n",
    "sns.countplot(x = 'Credit_History', hue = 'Loan_Status', data = data, palette = 'Set2', ax = ax[1][1])\n",
    "\n",
    "sns.countplot(x = 'Property_Area', hue = 'Loan_Status', data = data, palette = 'autumn_r', ax = ax[1][2])\n",
    "\n",
    "plt.show()"
   ]
  },
  {
   "cell_type": "markdown",
   "id": "ca25511b",
   "metadata": {
    "papermill": {
     "duration": 0.018057,
     "end_time": "2023-05-21T04:27:28.154416",
     "exception": false,
     "start_time": "2023-05-21T04:27:28.136359",
     "status": "completed"
    },
    "tags": []
   },
   "source": [
    "**Customer having a bad credit history has a very low chance to get their loan application granted.**"
   ]
  },
  {
   "cell_type": "markdown",
   "id": "613d1f6e",
   "metadata": {
    "papermill": {
     "duration": 0.018469,
     "end_time": "2023-05-21T04:27:28.191401",
     "exception": false,
     "start_time": "2023-05-21T04:27:28.172932",
     "status": "completed"
    },
    "tags": []
   },
   "source": [
    "# Handle Missing Values"
   ]
  },
  {
   "cell_type": "code",
   "execution_count": 29,
   "id": "168b8c08",
   "metadata": {
    "execution": {
     "iopub.execute_input": "2023-05-21T04:27:28.230044Z",
     "iopub.status.busy": "2023-05-21T04:27:28.229623Z",
     "iopub.status.idle": "2023-05-21T04:27:28.245061Z",
     "shell.execute_reply": "2023-05-21T04:27:28.244166Z"
    },
    "papermill": {
     "duration": 0.037477,
     "end_time": "2023-05-21T04:27:28.247260",
     "exception": false,
     "start_time": "2023-05-21T04:27:28.209783",
     "status": "completed"
    },
    "tags": []
   },
   "outputs": [],
   "source": [
    "data['Gender'].fillna(data['Gender'].mode()[0], inplace = True)\n",
    "data['Married'].fillna(data['Married'].mode()[0], inplace = True)\n",
    "data['Dependents'].fillna(data['Dependents'].mode()[0], inplace = True)\n",
    "data['Self_Employed'].fillna(data['Self_Employed'].mode()[0], inplace = True)\n",
    "data['Credit_History'].fillna(data['Credit_History'].mode()[0], inplace = True)\n",
    "data['Loan_Amount_Term'].fillna(data['Loan_Amount_Term'].mode()[0], inplace = True)\n",
    "data['LoanAmount'].fillna(data['LoanAmount'].median(), inplace = True)"
   ]
  },
  {
   "cell_type": "code",
   "execution_count": null,
   "id": "6c8b5f1e",
   "metadata": {
    "papermill": {
     "duration": 0.018486,
     "end_time": "2023-05-21T04:27:28.284199",
     "exception": false,
     "start_time": "2023-05-21T04:27:28.265713",
     "status": "completed"
    },
    "tags": []
   },
   "outputs": [],
   "source": []
  }
 ],
 "metadata": {
  "kernelspec": {
   "display_name": "Python 3",
   "language": "python",
   "name": "python3"
  },
  "language_info": {
   "codemirror_mode": {
    "name": "ipython",
    "version": 3
   },
   "file_extension": ".py",
   "mimetype": "text/x-python",
   "name": "python",
   "nbconvert_exporter": "python",
   "pygments_lexer": "ipython3",
   "version": "3.10.10"
  },
  "papermill": {
   "default_parameters": {},
   "duration": 19.980115,
   "end_time": "2023-05-21T04:27:29.325967",
   "environment_variables": {},
   "exception": null,
   "input_path": "__notebook__.ipynb",
   "output_path": "__notebook__.ipynb",
   "parameters": {},
   "start_time": "2023-05-21T04:27:09.345852",
   "version": "2.4.0"
  }
 },
 "nbformat": 4,
 "nbformat_minor": 5
}
