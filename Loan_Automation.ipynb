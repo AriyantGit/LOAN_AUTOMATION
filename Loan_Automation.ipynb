{
 "cells": [
  {
   "cell_type": "code",
   "execution_count": 1,
   "id": "10d9a2b7",
   "metadata": {
    "_cell_guid": "b1076dfc-b9ad-4769-8c92-a6c4dae69d19",
    "_uuid": "8f2839f25d086af736a60e9eeb907d3b93b6e0e5",
    "execution": {
     "iopub.execute_input": "2023-05-22T03:22:45.394226Z",
     "iopub.status.busy": "2023-05-22T03:22:45.393844Z",
     "iopub.status.idle": "2023-05-22T03:22:45.413901Z",
     "shell.execute_reply": "2023-05-22T03:22:45.412927Z"
    },
    "papermill": {
     "duration": 0.048688,
     "end_time": "2023-05-22T03:22:45.416631",
     "exception": false,
     "start_time": "2023-05-22T03:22:45.367943",
     "status": "completed"
    },
    "tags": []
   },
   "outputs": [
    {
     "name": "stdout",
     "output_type": "stream",
     "text": [
      "/kaggle/input/d/ariyantsarkar/loan-data/Loan Automaion System DATA.csv\n",
      "/kaggle/input/loan-data/train.csv\n",
      "/kaggle/input/loan-data/test.csv\n"
     ]
    }
   ],
   "source": [
    "# This Python 3 environment comes with many helpful analytics libraries installed\n",
    "# It is defined by the kaggle/python Docker image: https://github.com/kaggle/docker-python\n",
    "# For example, here's several helpful packages to load\n",
    "\n",
    "import numpy as np # linear algebra\n",
    "import pandas as pd # data processing, CSV file I/O (e.g. pd.read_csv)\n",
    "\n",
    "# Input data files are available in the read-only \"../input/\" directory\n",
    "# For example, running this (by clicking run or pressing Shift+Enter) will list all files under the input directory\n",
    "\n",
    "import os\n",
    "for dirname, _, filenames in os.walk('/kaggle/input'):\n",
    "    for filename in filenames:\n",
    "        print(os.path.join(dirname, filename))\n",
    "\n",
    "# You can write up to 20GB to the current directory (/kaggle/working/) that gets preserved as output when you create a version using \"Save & Run All\" \n",
    "# You can also write temporary files to /kaggle/temp/, but they won't be saved outside of the current session"
   ]
  },
  {
   "cell_type": "code",
   "execution_count": 2,
   "id": "ecd4f4ac",
   "metadata": {
    "execution": {
     "iopub.execute_input": "2023-05-22T03:22:45.466491Z",
     "iopub.status.busy": "2023-05-22T03:22:45.466189Z",
     "iopub.status.idle": "2023-05-22T03:22:46.431783Z",
     "shell.execute_reply": "2023-05-22T03:22:46.430668Z"
    },
    "papermill": {
     "duration": 0.992794,
     "end_time": "2023-05-22T03:22:46.434571",
     "exception": false,
     "start_time": "2023-05-22T03:22:45.441777",
     "status": "completed"
    },
    "tags": []
   },
   "outputs": [
    {
     "name": "stderr",
     "output_type": "stream",
     "text": [
      "/opt/conda/lib/python3.10/site-packages/scipy/__init__.py:146: UserWarning: A NumPy version >=1.16.5 and <1.23.0 is required for this version of SciPy (detected version 1.23.5\n",
      "  warnings.warn(f\"A NumPy version >={np_minversion} and <{np_maxversion}\"\n"
     ]
    }
   ],
   "source": [
    "import matplotlib.pyplot as plt\n",
    "import seaborn as sns\n",
    "plt.style.use('ggplot')\n",
    "\n",
    "import warnings\n",
    "warnings.filterwarnings('ignore')"
   ]
  },
  {
   "cell_type": "code",
   "execution_count": 3,
   "id": "aa363568",
   "metadata": {
    "execution": {
     "iopub.execute_input": "2023-05-22T03:22:46.487201Z",
     "iopub.status.busy": "2023-05-22T03:22:46.486898Z",
     "iopub.status.idle": "2023-05-22T03:22:46.505731Z",
     "shell.execute_reply": "2023-05-22T03:22:46.504765Z"
    },
    "papermill": {
     "duration": 0.046291,
     "end_time": "2023-05-22T03:22:46.507967",
     "exception": false,
     "start_time": "2023-05-22T03:22:46.461676",
     "status": "completed"
    },
    "tags": []
   },
   "outputs": [],
   "source": [
    "data=pd.read_csv(\"/kaggle/input/d/ariyantsarkar/loan-data/Loan Automaion System DATA.csv\")\n",
    "df=data.copy()"
   ]
  },
  {
   "cell_type": "code",
   "execution_count": 4,
   "id": "339fa011",
   "metadata": {
    "execution": {
     "iopub.execute_input": "2023-05-22T03:22:46.560579Z",
     "iopub.status.busy": "2023-05-22T03:22:46.559758Z",
     "iopub.status.idle": "2023-05-22T03:22:46.584856Z",
     "shell.execute_reply": "2023-05-22T03:22:46.583952Z"
    },
    "papermill": {
     "duration": 0.053612,
     "end_time": "2023-05-22T03:22:46.587152",
     "exception": false,
     "start_time": "2023-05-22T03:22:46.533540",
     "status": "completed"
    },
    "tags": []
   },
   "outputs": [
    {
     "data": {
      "text/html": [
       "<div>\n",
       "<style scoped>\n",
       "    .dataframe tbody tr th:only-of-type {\n",
       "        vertical-align: middle;\n",
       "    }\n",
       "\n",
       "    .dataframe tbody tr th {\n",
       "        vertical-align: top;\n",
       "    }\n",
       "\n",
       "    .dataframe thead th {\n",
       "        text-align: right;\n",
       "    }\n",
       "</style>\n",
       "<table border=\"1\" class=\"dataframe\">\n",
       "  <thead>\n",
       "    <tr style=\"text-align: right;\">\n",
       "      <th></th>\n",
       "      <th>Loan_ID</th>\n",
       "      <th>Gender</th>\n",
       "      <th>Married</th>\n",
       "      <th>Dependents</th>\n",
       "      <th>Education</th>\n",
       "      <th>Self_Employed</th>\n",
       "      <th>ApplicantIncome</th>\n",
       "      <th>CoapplicantIncome</th>\n",
       "      <th>LoanAmount</th>\n",
       "      <th>Loan_Amount_Term</th>\n",
       "      <th>Credit_History</th>\n",
       "      <th>Property_Area</th>\n",
       "      <th>Loan_Status</th>\n",
       "    </tr>\n",
       "  </thead>\n",
       "  <tbody>\n",
       "    <tr>\n",
       "      <th>0</th>\n",
       "      <td>LP001002</td>\n",
       "      <td>Male</td>\n",
       "      <td>No</td>\n",
       "      <td>0</td>\n",
       "      <td>Graduate</td>\n",
       "      <td>No</td>\n",
       "      <td>5849</td>\n",
       "      <td>0.0</td>\n",
       "      <td>NaN</td>\n",
       "      <td>360.0</td>\n",
       "      <td>1.0</td>\n",
       "      <td>Urban</td>\n",
       "      <td>Y</td>\n",
       "    </tr>\n",
       "    <tr>\n",
       "      <th>1</th>\n",
       "      <td>LP001003</td>\n",
       "      <td>Male</td>\n",
       "      <td>Yes</td>\n",
       "      <td>1</td>\n",
       "      <td>Graduate</td>\n",
       "      <td>No</td>\n",
       "      <td>4583</td>\n",
       "      <td>1508.0</td>\n",
       "      <td>128.0</td>\n",
       "      <td>360.0</td>\n",
       "      <td>1.0</td>\n",
       "      <td>Rural</td>\n",
       "      <td>N</td>\n",
       "    </tr>\n",
       "    <tr>\n",
       "      <th>2</th>\n",
       "      <td>LP001005</td>\n",
       "      <td>Male</td>\n",
       "      <td>Yes</td>\n",
       "      <td>0</td>\n",
       "      <td>Graduate</td>\n",
       "      <td>Yes</td>\n",
       "      <td>3000</td>\n",
       "      <td>0.0</td>\n",
       "      <td>66.0</td>\n",
       "      <td>360.0</td>\n",
       "      <td>1.0</td>\n",
       "      <td>Urban</td>\n",
       "      <td>Y</td>\n",
       "    </tr>\n",
       "    <tr>\n",
       "      <th>3</th>\n",
       "      <td>LP001006</td>\n",
       "      <td>Male</td>\n",
       "      <td>Yes</td>\n",
       "      <td>0</td>\n",
       "      <td>Not Graduate</td>\n",
       "      <td>No</td>\n",
       "      <td>2583</td>\n",
       "      <td>2358.0</td>\n",
       "      <td>120.0</td>\n",
       "      <td>360.0</td>\n",
       "      <td>1.0</td>\n",
       "      <td>Urban</td>\n",
       "      <td>Y</td>\n",
       "    </tr>\n",
       "    <tr>\n",
       "      <th>4</th>\n",
       "      <td>LP001008</td>\n",
       "      <td>Male</td>\n",
       "      <td>No</td>\n",
       "      <td>0</td>\n",
       "      <td>Graduate</td>\n",
       "      <td>No</td>\n",
       "      <td>6000</td>\n",
       "      <td>0.0</td>\n",
       "      <td>141.0</td>\n",
       "      <td>360.0</td>\n",
       "      <td>1.0</td>\n",
       "      <td>Urban</td>\n",
       "      <td>Y</td>\n",
       "    </tr>\n",
       "  </tbody>\n",
       "</table>\n",
       "</div>"
      ],
      "text/plain": [
       "    Loan_ID Gender Married Dependents     Education Self_Employed  \\\n",
       "0  LP001002   Male      No          0      Graduate            No   \n",
       "1  LP001003   Male     Yes          1      Graduate            No   \n",
       "2  LP001005   Male     Yes          0      Graduate           Yes   \n",
       "3  LP001006   Male     Yes          0  Not Graduate            No   \n",
       "4  LP001008   Male      No          0      Graduate            No   \n",
       "\n",
       "   ApplicantIncome  CoapplicantIncome  LoanAmount  Loan_Amount_Term  \\\n",
       "0             5849                0.0         NaN             360.0   \n",
       "1             4583             1508.0       128.0             360.0   \n",
       "2             3000                0.0        66.0             360.0   \n",
       "3             2583             2358.0       120.0             360.0   \n",
       "4             6000                0.0       141.0             360.0   \n",
       "\n",
       "   Credit_History Property_Area Loan_Status  \n",
       "0             1.0         Urban           Y  \n",
       "1             1.0         Rural           N  \n",
       "2             1.0         Urban           Y  \n",
       "3             1.0         Urban           Y  \n",
       "4             1.0         Urban           Y  "
      ]
     },
     "execution_count": 4,
     "metadata": {},
     "output_type": "execute_result"
    }
   ],
   "source": [
    "df.head()"
   ]
  },
  {
   "cell_type": "code",
   "execution_count": 5,
   "id": "a3dbc351",
   "metadata": {
    "execution": {
     "iopub.execute_input": "2023-05-22T03:22:46.638993Z",
     "iopub.status.busy": "2023-05-22T03:22:46.638716Z",
     "iopub.status.idle": "2023-05-22T03:22:46.661457Z",
     "shell.execute_reply": "2023-05-22T03:22:46.660129Z"
    },
    "papermill": {
     "duration": 0.050179,
     "end_time": "2023-05-22T03:22:46.663444",
     "exception": false,
     "start_time": "2023-05-22T03:22:46.613265",
     "status": "completed"
    },
    "tags": []
   },
   "outputs": [
    {
     "name": "stdout",
     "output_type": "stream",
     "text": [
      "<class 'pandas.core.frame.DataFrame'>\n",
      "RangeIndex: 614 entries, 0 to 613\n",
      "Data columns (total 13 columns):\n",
      " #   Column             Non-Null Count  Dtype  \n",
      "---  ------             --------------  -----  \n",
      " 0   Loan_ID            614 non-null    object \n",
      " 1   Gender             601 non-null    object \n",
      " 2   Married            611 non-null    object \n",
      " 3   Dependents         599 non-null    object \n",
      " 4   Education          614 non-null    object \n",
      " 5   Self_Employed      582 non-null    object \n",
      " 6   ApplicantIncome    614 non-null    int64  \n",
      " 7   CoapplicantIncome  614 non-null    float64\n",
      " 8   LoanAmount         592 non-null    float64\n",
      " 9   Loan_Amount_Term   600 non-null    float64\n",
      " 10  Credit_History     564 non-null    float64\n",
      " 11  Property_Area      614 non-null    object \n",
      " 12  Loan_Status        614 non-null    object \n",
      "dtypes: float64(4), int64(1), object(8)\n",
      "memory usage: 62.5+ KB\n"
     ]
    }
   ],
   "source": [
    "df.info()"
   ]
  },
  {
   "cell_type": "code",
   "execution_count": 6,
   "id": "fa032bc8",
   "metadata": {
    "execution": {
     "iopub.execute_input": "2023-05-22T03:22:46.713799Z",
     "iopub.status.busy": "2023-05-22T03:22:46.713083Z",
     "iopub.status.idle": "2023-05-22T03:22:46.738048Z",
     "shell.execute_reply": "2023-05-22T03:22:46.736880Z"
    },
    "papermill": {
     "duration": 0.051855,
     "end_time": "2023-05-22T03:22:46.740212",
     "exception": false,
     "start_time": "2023-05-22T03:22:46.688357",
     "status": "completed"
    },
    "tags": []
   },
   "outputs": [
    {
     "data": {
      "text/html": [
       "<div>\n",
       "<style scoped>\n",
       "    .dataframe tbody tr th:only-of-type {\n",
       "        vertical-align: middle;\n",
       "    }\n",
       "\n",
       "    .dataframe tbody tr th {\n",
       "        vertical-align: top;\n",
       "    }\n",
       "\n",
       "    .dataframe thead th {\n",
       "        text-align: right;\n",
       "    }\n",
       "</style>\n",
       "<table border=\"1\" class=\"dataframe\">\n",
       "  <thead>\n",
       "    <tr style=\"text-align: right;\">\n",
       "      <th></th>\n",
       "      <th>ApplicantIncome</th>\n",
       "      <th>CoapplicantIncome</th>\n",
       "      <th>LoanAmount</th>\n",
       "      <th>Loan_Amount_Term</th>\n",
       "      <th>Credit_History</th>\n",
       "    </tr>\n",
       "  </thead>\n",
       "  <tbody>\n",
       "    <tr>\n",
       "      <th>count</th>\n",
       "      <td>614.000000</td>\n",
       "      <td>614.000000</td>\n",
       "      <td>592.000000</td>\n",
       "      <td>600.00000</td>\n",
       "      <td>564.000000</td>\n",
       "    </tr>\n",
       "    <tr>\n",
       "      <th>mean</th>\n",
       "      <td>5403.459283</td>\n",
       "      <td>1621.245798</td>\n",
       "      <td>146.412162</td>\n",
       "      <td>342.00000</td>\n",
       "      <td>0.842199</td>\n",
       "    </tr>\n",
       "    <tr>\n",
       "      <th>std</th>\n",
       "      <td>6109.041673</td>\n",
       "      <td>2926.248369</td>\n",
       "      <td>85.587325</td>\n",
       "      <td>65.12041</td>\n",
       "      <td>0.364878</td>\n",
       "    </tr>\n",
       "    <tr>\n",
       "      <th>min</th>\n",
       "      <td>150.000000</td>\n",
       "      <td>0.000000</td>\n",
       "      <td>9.000000</td>\n",
       "      <td>12.00000</td>\n",
       "      <td>0.000000</td>\n",
       "    </tr>\n",
       "    <tr>\n",
       "      <th>25%</th>\n",
       "      <td>2877.500000</td>\n",
       "      <td>0.000000</td>\n",
       "      <td>100.000000</td>\n",
       "      <td>360.00000</td>\n",
       "      <td>1.000000</td>\n",
       "    </tr>\n",
       "    <tr>\n",
       "      <th>50%</th>\n",
       "      <td>3812.500000</td>\n",
       "      <td>1188.500000</td>\n",
       "      <td>128.000000</td>\n",
       "      <td>360.00000</td>\n",
       "      <td>1.000000</td>\n",
       "    </tr>\n",
       "    <tr>\n",
       "      <th>75%</th>\n",
       "      <td>5795.000000</td>\n",
       "      <td>2297.250000</td>\n",
       "      <td>168.000000</td>\n",
       "      <td>360.00000</td>\n",
       "      <td>1.000000</td>\n",
       "    </tr>\n",
       "    <tr>\n",
       "      <th>max</th>\n",
       "      <td>81000.000000</td>\n",
       "      <td>41667.000000</td>\n",
       "      <td>700.000000</td>\n",
       "      <td>480.00000</td>\n",
       "      <td>1.000000</td>\n",
       "    </tr>\n",
       "  </tbody>\n",
       "</table>\n",
       "</div>"
      ],
      "text/plain": [
       "       ApplicantIncome  CoapplicantIncome  LoanAmount  Loan_Amount_Term  \\\n",
       "count       614.000000         614.000000  592.000000         600.00000   \n",
       "mean       5403.459283        1621.245798  146.412162         342.00000   \n",
       "std        6109.041673        2926.248369   85.587325          65.12041   \n",
       "min         150.000000           0.000000    9.000000          12.00000   \n",
       "25%        2877.500000           0.000000  100.000000         360.00000   \n",
       "50%        3812.500000        1188.500000  128.000000         360.00000   \n",
       "75%        5795.000000        2297.250000  168.000000         360.00000   \n",
       "max       81000.000000       41667.000000  700.000000         480.00000   \n",
       "\n",
       "       Credit_History  \n",
       "count      564.000000  \n",
       "mean         0.842199  \n",
       "std          0.364878  \n",
       "min          0.000000  \n",
       "25%          1.000000  \n",
       "50%          1.000000  \n",
       "75%          1.000000  \n",
       "max          1.000000  "
      ]
     },
     "execution_count": 6,
     "metadata": {},
     "output_type": "execute_result"
    }
   ],
   "source": [
    "df.describe()"
   ]
  },
  {
   "cell_type": "code",
   "execution_count": 7,
   "id": "aa68c25e",
   "metadata": {
    "execution": {
     "iopub.execute_input": "2023-05-22T03:22:46.793684Z",
     "iopub.status.busy": "2023-05-22T03:22:46.793339Z",
     "iopub.status.idle": "2023-05-22T03:22:46.803304Z",
     "shell.execute_reply": "2023-05-22T03:22:46.802380Z"
    },
    "papermill": {
     "duration": 0.038293,
     "end_time": "2023-05-22T03:22:46.805394",
     "exception": false,
     "start_time": "2023-05-22T03:22:46.767101",
     "status": "completed"
    },
    "tags": []
   },
   "outputs": [
    {
     "data": {
      "text/plain": [
       "Loan_ID               0\n",
       "Gender               13\n",
       "Married               3\n",
       "Dependents           15\n",
       "Education             0\n",
       "Self_Employed        32\n",
       "ApplicantIncome       0\n",
       "CoapplicantIncome     0\n",
       "LoanAmount           22\n",
       "Loan_Amount_Term     14\n",
       "Credit_History       50\n",
       "Property_Area         0\n",
       "Loan_Status           0\n",
       "dtype: int64"
      ]
     },
     "execution_count": 7,
     "metadata": {},
     "output_type": "execute_result"
    }
   ],
   "source": [
    "df.isnull().sum()"
   ]
  },
  {
   "cell_type": "code",
   "execution_count": 8,
   "id": "1f03eeca",
   "metadata": {
    "execution": {
     "iopub.execute_input": "2023-05-22T03:22:46.858081Z",
     "iopub.status.busy": "2023-05-22T03:22:46.857202Z",
     "iopub.status.idle": "2023-05-22T03:22:46.866894Z",
     "shell.execute_reply": "2023-05-22T03:22:46.865948Z"
    },
    "papermill": {
     "duration": 0.038078,
     "end_time": "2023-05-22T03:22:46.869126",
     "exception": false,
     "start_time": "2023-05-22T03:22:46.831048",
     "status": "completed"
    },
    "tags": []
   },
   "outputs": [
    {
     "data": {
      "text/plain": [
       "Loan_ID              0.000000\n",
       "Gender               0.021173\n",
       "Married              0.004886\n",
       "Dependents           0.024430\n",
       "Education            0.000000\n",
       "Self_Employed        0.052117\n",
       "ApplicantIncome      0.000000\n",
       "CoapplicantIncome    0.000000\n",
       "LoanAmount           0.035831\n",
       "Loan_Amount_Term     0.022801\n",
       "Credit_History       0.081433\n",
       "Property_Area        0.000000\n",
       "Loan_Status          0.000000\n",
       "dtype: float64"
      ]
     },
     "execution_count": 8,
     "metadata": {},
     "output_type": "execute_result"
    }
   ],
   "source": [
    "df.isnull().mean()"
   ]
  },
  {
   "cell_type": "code",
   "execution_count": 9,
   "id": "17ead4b5",
   "metadata": {
    "execution": {
     "iopub.execute_input": "2023-05-22T03:22:46.921756Z",
     "iopub.status.busy": "2023-05-22T03:22:46.921050Z",
     "iopub.status.idle": "2023-05-22T03:22:46.927180Z",
     "shell.execute_reply": "2023-05-22T03:22:46.926250Z"
    },
    "papermill": {
     "duration": 0.033909,
     "end_time": "2023-05-22T03:22:46.929275",
     "exception": false,
     "start_time": "2023-05-22T03:22:46.895366",
     "status": "completed"
    },
    "tags": []
   },
   "outputs": [
    {
     "data": {
      "text/plain": [
       "array(['Y', 'N'], dtype=object)"
      ]
     },
     "execution_count": 9,
     "metadata": {},
     "output_type": "execute_result"
    }
   ],
   "source": [
    "df[\"Loan_Status\"].unique()"
   ]
  },
  {
   "cell_type": "code",
   "execution_count": 10,
   "id": "6d01a5c6",
   "metadata": {
    "execution": {
     "iopub.execute_input": "2023-05-22T03:22:46.979977Z",
     "iopub.status.busy": "2023-05-22T03:22:46.979326Z",
     "iopub.status.idle": "2023-05-22T03:22:46.984224Z",
     "shell.execute_reply": "2023-05-22T03:22:46.983422Z"
    },
    "papermill": {
     "duration": 0.032439,
     "end_time": "2023-05-22T03:22:46.986132",
     "exception": false,
     "start_time": "2023-05-22T03:22:46.953693",
     "status": "completed"
    },
    "tags": []
   },
   "outputs": [],
   "source": [
    "df.drop(\"Loan_ID\",axis=1,inplace=True)"
   ]
  },
  {
   "cell_type": "code",
   "execution_count": 11,
   "id": "81758460",
   "metadata": {
    "execution": {
     "iopub.execute_input": "2023-05-22T03:22:47.039433Z",
     "iopub.status.busy": "2023-05-22T03:22:47.037975Z",
     "iopub.status.idle": "2023-05-22T03:22:47.172972Z",
     "shell.execute_reply": "2023-05-22T03:22:47.172135Z"
    },
    "papermill": {
     "duration": 0.16254,
     "end_time": "2023-05-22T03:22:47.175064",
     "exception": false,
     "start_time": "2023-05-22T03:22:47.012524",
     "status": "completed"
    },
    "tags": []
   },
   "outputs": [],
   "source": [
    "from sklearn.preprocessing import LabelEncoder\n",
    "le=LabelEncoder()\n",
    "df[\"Loan_Status\"]=le.fit_transform(data[\"Loan_Status\"])"
   ]
  },
  {
   "cell_type": "code",
   "execution_count": 12,
   "id": "536b3d14",
   "metadata": {
    "execution": {
     "iopub.execute_input": "2023-05-22T03:22:47.227576Z",
     "iopub.status.busy": "2023-05-22T03:22:47.226061Z",
     "iopub.status.idle": "2023-05-22T03:22:47.244487Z",
     "shell.execute_reply": "2023-05-22T03:22:47.243470Z"
    },
    "papermill": {
     "duration": 0.046105,
     "end_time": "2023-05-22T03:22:47.246571",
     "exception": false,
     "start_time": "2023-05-22T03:22:47.200466",
     "status": "completed"
    },
    "tags": []
   },
   "outputs": [
    {
     "data": {
      "text/html": [
       "<div>\n",
       "<style scoped>\n",
       "    .dataframe tbody tr th:only-of-type {\n",
       "        vertical-align: middle;\n",
       "    }\n",
       "\n",
       "    .dataframe tbody tr th {\n",
       "        vertical-align: top;\n",
       "    }\n",
       "\n",
       "    .dataframe thead th {\n",
       "        text-align: right;\n",
       "    }\n",
       "</style>\n",
       "<table border=\"1\" class=\"dataframe\">\n",
       "  <thead>\n",
       "    <tr style=\"text-align: right;\">\n",
       "      <th></th>\n",
       "      <th>Gender</th>\n",
       "      <th>Married</th>\n",
       "      <th>Dependents</th>\n",
       "      <th>Education</th>\n",
       "      <th>Self_Employed</th>\n",
       "      <th>ApplicantIncome</th>\n",
       "      <th>CoapplicantIncome</th>\n",
       "      <th>LoanAmount</th>\n",
       "      <th>Loan_Amount_Term</th>\n",
       "      <th>Credit_History</th>\n",
       "      <th>Property_Area</th>\n",
       "      <th>Loan_Status</th>\n",
       "    </tr>\n",
       "  </thead>\n",
       "  <tbody>\n",
       "    <tr>\n",
       "      <th>0</th>\n",
       "      <td>Male</td>\n",
       "      <td>No</td>\n",
       "      <td>0</td>\n",
       "      <td>Graduate</td>\n",
       "      <td>No</td>\n",
       "      <td>5849</td>\n",
       "      <td>0.0</td>\n",
       "      <td>NaN</td>\n",
       "      <td>360.0</td>\n",
       "      <td>1.0</td>\n",
       "      <td>Urban</td>\n",
       "      <td>1</td>\n",
       "    </tr>\n",
       "    <tr>\n",
       "      <th>1</th>\n",
       "      <td>Male</td>\n",
       "      <td>Yes</td>\n",
       "      <td>1</td>\n",
       "      <td>Graduate</td>\n",
       "      <td>No</td>\n",
       "      <td>4583</td>\n",
       "      <td>1508.0</td>\n",
       "      <td>128.0</td>\n",
       "      <td>360.0</td>\n",
       "      <td>1.0</td>\n",
       "      <td>Rural</td>\n",
       "      <td>0</td>\n",
       "    </tr>\n",
       "    <tr>\n",
       "      <th>2</th>\n",
       "      <td>Male</td>\n",
       "      <td>Yes</td>\n",
       "      <td>0</td>\n",
       "      <td>Graduate</td>\n",
       "      <td>Yes</td>\n",
       "      <td>3000</td>\n",
       "      <td>0.0</td>\n",
       "      <td>66.0</td>\n",
       "      <td>360.0</td>\n",
       "      <td>1.0</td>\n",
       "      <td>Urban</td>\n",
       "      <td>1</td>\n",
       "    </tr>\n",
       "    <tr>\n",
       "      <th>3</th>\n",
       "      <td>Male</td>\n",
       "      <td>Yes</td>\n",
       "      <td>0</td>\n",
       "      <td>Not Graduate</td>\n",
       "      <td>No</td>\n",
       "      <td>2583</td>\n",
       "      <td>2358.0</td>\n",
       "      <td>120.0</td>\n",
       "      <td>360.0</td>\n",
       "      <td>1.0</td>\n",
       "      <td>Urban</td>\n",
       "      <td>1</td>\n",
       "    </tr>\n",
       "    <tr>\n",
       "      <th>4</th>\n",
       "      <td>Male</td>\n",
       "      <td>No</td>\n",
       "      <td>0</td>\n",
       "      <td>Graduate</td>\n",
       "      <td>No</td>\n",
       "      <td>6000</td>\n",
       "      <td>0.0</td>\n",
       "      <td>141.0</td>\n",
       "      <td>360.0</td>\n",
       "      <td>1.0</td>\n",
       "      <td>Urban</td>\n",
       "      <td>1</td>\n",
       "    </tr>\n",
       "  </tbody>\n",
       "</table>\n",
       "</div>"
      ],
      "text/plain": [
       "  Gender Married Dependents     Education Self_Employed  ApplicantIncome  \\\n",
       "0   Male      No          0      Graduate            No             5849   \n",
       "1   Male     Yes          1      Graduate            No             4583   \n",
       "2   Male     Yes          0      Graduate           Yes             3000   \n",
       "3   Male     Yes          0  Not Graduate            No             2583   \n",
       "4   Male      No          0      Graduate            No             6000   \n",
       "\n",
       "   CoapplicantIncome  LoanAmount  Loan_Amount_Term  Credit_History  \\\n",
       "0                0.0         NaN             360.0             1.0   \n",
       "1             1508.0       128.0             360.0             1.0   \n",
       "2                0.0        66.0             360.0             1.0   \n",
       "3             2358.0       120.0             360.0             1.0   \n",
       "4                0.0       141.0             360.0             1.0   \n",
       "\n",
       "  Property_Area  Loan_Status  \n",
       "0         Urban            1  \n",
       "1         Rural            0  \n",
       "2         Urban            1  \n",
       "3         Urban            1  \n",
       "4         Urban            1  "
      ]
     },
     "execution_count": 12,
     "metadata": {},
     "output_type": "execute_result"
    }
   ],
   "source": [
    "df.head()"
   ]
  },
  {
   "cell_type": "code",
   "execution_count": 13,
   "id": "cc1633a4",
   "metadata": {
    "execution": {
     "iopub.execute_input": "2023-05-22T03:22:47.301123Z",
     "iopub.status.busy": "2023-05-22T03:22:47.300391Z",
     "iopub.status.idle": "2023-05-22T03:22:47.306698Z",
     "shell.execute_reply": "2023-05-22T03:22:47.305741Z"
    },
    "papermill": {
     "duration": 0.034835,
     "end_time": "2023-05-22T03:22:47.308887",
     "exception": false,
     "start_time": "2023-05-22T03:22:47.274052",
     "status": "completed"
    },
    "tags": []
   },
   "outputs": [
    {
     "data": {
      "text/plain": [
       "array(['Male', 'Female', nan], dtype=object)"
      ]
     },
     "execution_count": 13,
     "metadata": {},
     "output_type": "execute_result"
    }
   ],
   "source": [
    "df[\"Gender\"].unique()"
   ]
  },
  {
   "cell_type": "code",
   "execution_count": 14,
   "id": "6ab16a93",
   "metadata": {
    "execution": {
     "iopub.execute_input": "2023-05-22T03:22:47.360747Z",
     "iopub.status.busy": "2023-05-22T03:22:47.360054Z",
     "iopub.status.idle": "2023-05-22T03:22:47.365427Z",
     "shell.execute_reply": "2023-05-22T03:22:47.364646Z"
    },
    "papermill": {
     "duration": 0.033211,
     "end_time": "2023-05-22T03:22:47.367325",
     "exception": false,
     "start_time": "2023-05-22T03:22:47.334114",
     "status": "completed"
    },
    "tags": []
   },
   "outputs": [],
   "source": [
    "df[\"Gender\"].fillna(df[\"Gender\"].mode()[0],inplace=True)"
   ]
  },
  {
   "cell_type": "code",
   "execution_count": 15,
   "id": "cd18f49f",
   "metadata": {
    "execution": {
     "iopub.execute_input": "2023-05-22T03:22:47.419955Z",
     "iopub.status.busy": "2023-05-22T03:22:47.419112Z",
     "iopub.status.idle": "2023-05-22T03:22:47.431250Z",
     "shell.execute_reply": "2023-05-22T03:22:47.430230Z"
    },
    "papermill": {
     "duration": 0.040981,
     "end_time": "2023-05-22T03:22:47.433622",
     "exception": false,
     "start_time": "2023-05-22T03:22:47.392641",
     "status": "completed"
    },
    "tags": []
   },
   "outputs": [
    {
     "data": {
      "text/html": [
       "<div>\n",
       "<style scoped>\n",
       "    .dataframe tbody tr th:only-of-type {\n",
       "        vertical-align: middle;\n",
       "    }\n",
       "\n",
       "    .dataframe tbody tr th {\n",
       "        vertical-align: top;\n",
       "    }\n",
       "\n",
       "    .dataframe thead th {\n",
       "        text-align: right;\n",
       "    }\n",
       "</style>\n",
       "<table border=\"1\" class=\"dataframe\">\n",
       "  <thead>\n",
       "    <tr style=\"text-align: right;\">\n",
       "      <th></th>\n",
       "      <th>Gender</th>\n",
       "      <th>Loan_Status</th>\n",
       "    </tr>\n",
       "  </thead>\n",
       "  <tbody>\n",
       "    <tr>\n",
       "      <th>0</th>\n",
       "      <td>Female</td>\n",
       "      <td>0.669643</td>\n",
       "    </tr>\n",
       "    <tr>\n",
       "      <th>1</th>\n",
       "      <td>Male</td>\n",
       "      <td>0.691235</td>\n",
       "    </tr>\n",
       "  </tbody>\n",
       "</table>\n",
       "</div>"
      ],
      "text/plain": [
       "   Gender  Loan_Status\n",
       "0  Female     0.669643\n",
       "1    Male     0.691235"
      ]
     },
     "execution_count": 15,
     "metadata": {},
     "output_type": "execute_result"
    }
   ],
   "source": [
    "encoding=df.groupby(\"Gender\")[\"Loan_Status\"].mean().reset_index()\n",
    "encoding"
   ]
  },
  {
   "cell_type": "code",
   "execution_count": 16,
   "id": "400e136d",
   "metadata": {
    "execution": {
     "iopub.execute_input": "2023-05-22T03:22:47.488877Z",
     "iopub.status.busy": "2023-05-22T03:22:47.488015Z",
     "iopub.status.idle": "2023-05-22T03:22:47.514013Z",
     "shell.execute_reply": "2023-05-22T03:22:47.513048Z"
    },
    "papermill": {
     "duration": 0.054873,
     "end_time": "2023-05-22T03:22:47.516450",
     "exception": false,
     "start_time": "2023-05-22T03:22:47.461577",
     "status": "completed"
    },
    "tags": []
   },
   "outputs": [
    {
     "data": {
      "text/html": [
       "<div>\n",
       "<style scoped>\n",
       "    .dataframe tbody tr th:only-of-type {\n",
       "        vertical-align: middle;\n",
       "    }\n",
       "\n",
       "    .dataframe tbody tr th {\n",
       "        vertical-align: top;\n",
       "    }\n",
       "\n",
       "    .dataframe thead th {\n",
       "        text-align: right;\n",
       "    }\n",
       "</style>\n",
       "<table border=\"1\" class=\"dataframe\">\n",
       "  <thead>\n",
       "    <tr style=\"text-align: right;\">\n",
       "      <th></th>\n",
       "      <th>Gender</th>\n",
       "      <th>Married</th>\n",
       "      <th>Dependents</th>\n",
       "      <th>Education</th>\n",
       "      <th>Self_Employed</th>\n",
       "      <th>ApplicantIncome</th>\n",
       "      <th>CoapplicantIncome</th>\n",
       "      <th>LoanAmount</th>\n",
       "      <th>Loan_Amount_Term</th>\n",
       "      <th>Credit_History</th>\n",
       "      <th>Property_Area</th>\n",
       "      <th>Loan_Status_x</th>\n",
       "      <th>Loan_Status_y</th>\n",
       "    </tr>\n",
       "  </thead>\n",
       "  <tbody>\n",
       "    <tr>\n",
       "      <th>0</th>\n",
       "      <td>Male</td>\n",
       "      <td>No</td>\n",
       "      <td>0</td>\n",
       "      <td>Graduate</td>\n",
       "      <td>No</td>\n",
       "      <td>5849</td>\n",
       "      <td>0.0</td>\n",
       "      <td>NaN</td>\n",
       "      <td>360.0</td>\n",
       "      <td>1.0</td>\n",
       "      <td>Urban</td>\n",
       "      <td>1</td>\n",
       "      <td>0.691235</td>\n",
       "    </tr>\n",
       "    <tr>\n",
       "      <th>1</th>\n",
       "      <td>Male</td>\n",
       "      <td>Yes</td>\n",
       "      <td>1</td>\n",
       "      <td>Graduate</td>\n",
       "      <td>No</td>\n",
       "      <td>4583</td>\n",
       "      <td>1508.0</td>\n",
       "      <td>128.0</td>\n",
       "      <td>360.0</td>\n",
       "      <td>1.0</td>\n",
       "      <td>Rural</td>\n",
       "      <td>0</td>\n",
       "      <td>0.691235</td>\n",
       "    </tr>\n",
       "    <tr>\n",
       "      <th>2</th>\n",
       "      <td>Male</td>\n",
       "      <td>Yes</td>\n",
       "      <td>0</td>\n",
       "      <td>Graduate</td>\n",
       "      <td>Yes</td>\n",
       "      <td>3000</td>\n",
       "      <td>0.0</td>\n",
       "      <td>66.0</td>\n",
       "      <td>360.0</td>\n",
       "      <td>1.0</td>\n",
       "      <td>Urban</td>\n",
       "      <td>1</td>\n",
       "      <td>0.691235</td>\n",
       "    </tr>\n",
       "    <tr>\n",
       "      <th>3</th>\n",
       "      <td>Male</td>\n",
       "      <td>Yes</td>\n",
       "      <td>0</td>\n",
       "      <td>Not Graduate</td>\n",
       "      <td>No</td>\n",
       "      <td>2583</td>\n",
       "      <td>2358.0</td>\n",
       "      <td>120.0</td>\n",
       "      <td>360.0</td>\n",
       "      <td>1.0</td>\n",
       "      <td>Urban</td>\n",
       "      <td>1</td>\n",
       "      <td>0.691235</td>\n",
       "    </tr>\n",
       "    <tr>\n",
       "      <th>4</th>\n",
       "      <td>Male</td>\n",
       "      <td>No</td>\n",
       "      <td>0</td>\n",
       "      <td>Graduate</td>\n",
       "      <td>No</td>\n",
       "      <td>6000</td>\n",
       "      <td>0.0</td>\n",
       "      <td>141.0</td>\n",
       "      <td>360.0</td>\n",
       "      <td>1.0</td>\n",
       "      <td>Urban</td>\n",
       "      <td>1</td>\n",
       "      <td>0.691235</td>\n",
       "    </tr>\n",
       "  </tbody>\n",
       "</table>\n",
       "</div>"
      ],
      "text/plain": [
       "  Gender Married Dependents     Education Self_Employed  ApplicantIncome  \\\n",
       "0   Male      No          0      Graduate            No             5849   \n",
       "1   Male     Yes          1      Graduate            No             4583   \n",
       "2   Male     Yes          0      Graduate           Yes             3000   \n",
       "3   Male     Yes          0  Not Graduate            No             2583   \n",
       "4   Male      No          0      Graduate            No             6000   \n",
       "\n",
       "   CoapplicantIncome  LoanAmount  Loan_Amount_Term  Credit_History  \\\n",
       "0                0.0         NaN             360.0             1.0   \n",
       "1             1508.0       128.0             360.0             1.0   \n",
       "2                0.0        66.0             360.0             1.0   \n",
       "3             2358.0       120.0             360.0             1.0   \n",
       "4                0.0       141.0             360.0             1.0   \n",
       "\n",
       "  Property_Area  Loan_Status_x  Loan_Status_y  \n",
       "0         Urban              1       0.691235  \n",
       "1         Rural              0       0.691235  \n",
       "2         Urban              1       0.691235  \n",
       "3         Urban              1       0.691235  \n",
       "4         Urban              1       0.691235  "
      ]
     },
     "execution_count": 16,
     "metadata": {},
     "output_type": "execute_result"
    }
   ],
   "source": [
    "df=df.merge(encoding,how=\"left\",on=\"Gender\")\n",
    "df.head()"
   ]
  },
  {
   "cell_type": "markdown",
   "id": "e325db78",
   "metadata": {
    "papermill": {
     "duration": 0.025604,
     "end_time": "2023-05-22T03:22:47.571234",
     "exception": false,
     "start_time": "2023-05-22T03:22:47.545630",
     "status": "completed"
    },
    "tags": []
   },
   "source": [
    "# . Exploratory Data Analysis"
   ]
  },
  {
   "cell_type": "code",
   "execution_count": 17,
   "id": "1c89f2a3",
   "metadata": {
    "execution": {
     "iopub.execute_input": "2023-05-22T03:22:47.624760Z",
     "iopub.status.busy": "2023-05-22T03:22:47.624469Z",
     "iopub.status.idle": "2023-05-22T03:22:47.630474Z",
     "shell.execute_reply": "2023-05-22T03:22:47.629642Z"
    },
    "papermill": {
     "duration": 0.035189,
     "end_time": "2023-05-22T03:22:47.632338",
     "exception": false,
     "start_time": "2023-05-22T03:22:47.597149",
     "status": "completed"
    },
    "tags": []
   },
   "outputs": [
    {
     "data": {
      "text/plain": [
       "Index(['Loan_ID', 'Gender', 'Married', 'Dependents', 'Education',\n",
       "       'Self_Employed', 'ApplicantIncome', 'CoapplicantIncome', 'LoanAmount',\n",
       "       'Loan_Amount_Term', 'Credit_History', 'Property_Area', 'Loan_Status'],\n",
       "      dtype='object')"
      ]
     },
     "execution_count": 17,
     "metadata": {},
     "output_type": "execute_result"
    }
   ],
   "source": [
    "data.columns"
   ]
  },
  {
   "cell_type": "code",
   "execution_count": 18,
   "id": "c9faf5cc",
   "metadata": {
    "execution": {
     "iopub.execute_input": "2023-05-22T03:22:47.685921Z",
     "iopub.status.busy": "2023-05-22T03:22:47.685654Z",
     "iopub.status.idle": "2023-05-22T03:22:47.692593Z",
     "shell.execute_reply": "2023-05-22T03:22:47.691625Z"
    },
    "papermill": {
     "duration": 0.036337,
     "end_time": "2023-05-22T03:22:47.694641",
     "exception": false,
     "start_time": "2023-05-22T03:22:47.658304",
     "status": "completed"
    },
    "tags": []
   },
   "outputs": [
    {
     "data": {
      "text/plain": [
       "array([422, 192])"
      ]
     },
     "execution_count": 18,
     "metadata": {},
     "output_type": "execute_result"
    }
   ],
   "source": [
    "data[\"Loan_Status\"].value_counts().values"
   ]
  },
  {
   "cell_type": "code",
   "execution_count": 19,
   "id": "6ad2f366",
   "metadata": {
    "execution": {
     "iopub.execute_input": "2023-05-22T03:22:47.749615Z",
     "iopub.status.busy": "2023-05-22T03:22:47.748892Z",
     "iopub.status.idle": "2023-05-22T03:22:47.870686Z",
     "shell.execute_reply": "2023-05-22T03:22:47.869726Z"
    },
    "papermill": {
     "duration": 0.152096,
     "end_time": "2023-05-22T03:22:47.874043",
     "exception": false,
     "start_time": "2023-05-22T03:22:47.721947",
     "status": "completed"
    },
    "tags": []
   },
   "outputs": [
    {
     "data": {
      "image/png": "[encoded data removed]",
      "text/plain": [
       "<Figure size 400x300 with 1 Axes>"
      ]
     },
     "metadata": {},
     "output_type": "display_data"
    }
   ],
   "source": [
    "plt.figure(figsize=(4,3))\n",
    "labels=[\"Approved\",\"Rejected\"]\n",
    "explode=[.1,.1]\n",
    "size=data[\"Loan_Status\"].value_counts().values\n",
    "plt.pie(size,explode,labels=labels,autopct=\"%1.1f%%\")\n",
    "plt.show()"
   ]
  },
  {
   "cell_type": "code",
   "execution_count": 20,
   "id": "ad320259",
   "metadata": {
    "execution": {
     "iopub.execute_input": "2023-05-22T03:22:47.980918Z",
     "iopub.status.busy": "2023-05-22T03:22:47.980638Z",
     "iopub.status.idle": "2023-05-22T03:22:47.998196Z",
     "shell.execute_reply": "2023-05-22T03:22:47.997167Z"
    },
    "papermill": {
     "duration": 0.064373,
     "end_time": "2023-05-22T03:22:48.000228",
     "exception": false,
     "start_time": "2023-05-22T03:22:47.935855",
     "status": "completed"
    },
    "tags": []
   },
   "outputs": [
    {
     "data": {
      "text/html": [
       "<div>\n",
       "<style scoped>\n",
       "    .dataframe tbody tr th:only-of-type {\n",
       "        vertical-align: middle;\n",
       "    }\n",
       "\n",
       "    .dataframe tbody tr th {\n",
       "        vertical-align: top;\n",
       "    }\n",
       "\n",
       "    .dataframe thead th {\n",
       "        text-align: right;\n",
       "    }\n",
       "</style>\n",
       "<table border=\"1\" class=\"dataframe\">\n",
       "  <thead>\n",
       "    <tr style=\"text-align: right;\">\n",
       "      <th></th>\n",
       "      <th>ApplicantIncome</th>\n",
       "      <th>CoapplicantIncome</th>\n",
       "      <th>LoanAmount</th>\n",
       "      <th>Loan_Amount_Term</th>\n",
       "      <th>Credit_History</th>\n",
       "    </tr>\n",
       "  </thead>\n",
       "  <tbody>\n",
       "    <tr>\n",
       "      <th>0</th>\n",
       "      <td>5849</td>\n",
       "      <td>0.0</td>\n",
       "      <td>NaN</td>\n",
       "      <td>360.0</td>\n",
       "      <td>1.0</td>\n",
       "    </tr>\n",
       "    <tr>\n",
       "      <th>1</th>\n",
       "      <td>4583</td>\n",
       "      <td>1508.0</td>\n",
       "      <td>128.0</td>\n",
       "      <td>360.0</td>\n",
       "      <td>1.0</td>\n",
       "    </tr>\n",
       "    <tr>\n",
       "      <th>2</th>\n",
       "      <td>3000</td>\n",
       "      <td>0.0</td>\n",
       "      <td>66.0</td>\n",
       "      <td>360.0</td>\n",
       "      <td>1.0</td>\n",
       "    </tr>\n",
       "    <tr>\n",
       "      <th>3</th>\n",
       "      <td>2583</td>\n",
       "      <td>2358.0</td>\n",
       "      <td>120.0</td>\n",
       "      <td>360.0</td>\n",
       "      <td>1.0</td>\n",
       "    </tr>\n",
       "    <tr>\n",
       "      <th>4</th>\n",
       "      <td>6000</td>\n",
       "      <td>0.0</td>\n",
       "      <td>141.0</td>\n",
       "      <td>360.0</td>\n",
       "      <td>1.0</td>\n",
       "    </tr>\n",
       "    <tr>\n",
       "      <th>...</th>\n",
       "      <td>...</td>\n",
       "      <td>...</td>\n",
       "      <td>...</td>\n",
       "      <td>...</td>\n",
       "      <td>...</td>\n",
       "    </tr>\n",
       "    <tr>\n",
       "      <th>609</th>\n",
       "      <td>2900</td>\n",
       "      <td>0.0</td>\n",
       "      <td>71.0</td>\n",
       "      <td>360.0</td>\n",
       "      <td>1.0</td>\n",
       "    </tr>\n",
       "    <tr>\n",
       "      <th>610</th>\n",
       "      <td>4106</td>\n",
       "      <td>0.0</td>\n",
       "      <td>40.0</td>\n",
       "      <td>180.0</td>\n",
       "      <td>1.0</td>\n",
       "    </tr>\n",
       "    <tr>\n",
       "      <th>611</th>\n",
       "      <td>8072</td>\n",
       "      <td>240.0</td>\n",
       "      <td>253.0</td>\n",
       "      <td>360.0</td>\n",
       "      <td>1.0</td>\n",
       "    </tr>\n",
       "    <tr>\n",
       "      <th>612</th>\n",
       "      <td>7583</td>\n",
       "      <td>0.0</td>\n",
       "      <td>187.0</td>\n",
       "      <td>360.0</td>\n",
       "      <td>1.0</td>\n",
       "    </tr>\n",
       "    <tr>\n",
       "      <th>613</th>\n",
       "      <td>4583</td>\n",
       "      <td>0.0</td>\n",
       "      <td>133.0</td>\n",
       "      <td>360.0</td>\n",
       "      <td>0.0</td>\n",
       "    </tr>\n",
       "  </tbody>\n",
       "</table>\n",
       "<p>614 rows × 5 columns</p>\n",
       "</div>"
      ],
      "text/plain": [
       "     ApplicantIncome  CoapplicantIncome  LoanAmount  Loan_Amount_Term  \\\n",
       "0               5849                0.0         NaN             360.0   \n",
       "1               4583             1508.0       128.0             360.0   \n",
       "2               3000                0.0        66.0             360.0   \n",
       "3               2583             2358.0       120.0             360.0   \n",
       "4               6000                0.0       141.0             360.0   \n",
       "..               ...                ...         ...               ...   \n",
       "609             2900                0.0        71.0             360.0   \n",
       "610             4106                0.0        40.0             180.0   \n",
       "611             8072              240.0       253.0             360.0   \n",
       "612             7583                0.0       187.0             360.0   \n",
       "613             4583                0.0       133.0             360.0   \n",
       "\n",
       "     Credit_History  \n",
       "0               1.0  \n",
       "1               1.0  \n",
       "2               1.0  \n",
       "3               1.0  \n",
       "4               1.0  \n",
       "..              ...  \n",
       "609             1.0  \n",
       "610             1.0  \n",
       "611             1.0  \n",
       "612             1.0  \n",
       "613             0.0  \n",
       "\n",
       "[614 rows x 5 columns]"
      ]
     },
     "execution_count": 20,
     "metadata": {},
     "output_type": "execute_result"
    }
   ],
   "source": [
    "data_num=data.select_dtypes(np.number)\n",
    "data_num"
   ]
  },
  {
   "cell_type": "code",
   "execution_count": 21,
   "id": "9da18a57",
   "metadata": {
    "execution": {
     "iopub.execute_input": "2023-05-22T03:22:48.055487Z",
     "iopub.status.busy": "2023-05-22T03:22:48.055204Z",
     "iopub.status.idle": "2023-05-22T03:22:48.061514Z",
     "shell.execute_reply": "2023-05-22T03:22:48.060622Z"
    },
    "papermill": {
     "duration": 0.036085,
     "end_time": "2023-05-22T03:22:48.063642",
     "exception": false,
     "start_time": "2023-05-22T03:22:48.027557",
     "status": "completed"
    },
    "tags": []
   },
   "outputs": [
    {
     "data": {
      "text/plain": [
       "array([360., 120., 240.,  nan, 180.,  60., 300., 480.,  36.,  84.,  12.])"
      ]
     },
     "execution_count": 21,
     "metadata": {},
     "output_type": "execute_result"
    }
   ],
   "source": [
    "data_num[\"Loan_Amount_Term\"].unique()"
   ]
  },
  {
   "cell_type": "code",
   "execution_count": 22,
   "id": "c89d38ee",
   "metadata": {
    "execution": {
     "iopub.execute_input": "2023-05-22T03:22:48.120336Z",
     "iopub.status.busy": "2023-05-22T03:22:48.119626Z",
     "iopub.status.idle": "2023-05-22T03:22:48.127250Z",
     "shell.execute_reply": "2023-05-22T03:22:48.126275Z"
    },
    "papermill": {
     "duration": 0.037569,
     "end_time": "2023-05-22T03:22:48.129577",
     "exception": false,
     "start_time": "2023-05-22T03:22:48.092008",
     "status": "completed"
    },
    "tags": []
   },
   "outputs": [
    {
     "data": {
      "text/plain": [
       "1.0    475\n",
       "0.0     89\n",
       "Name: Credit_History, dtype: int64"
      ]
     },
     "execution_count": 22,
     "metadata": {},
     "output_type": "execute_result"
    }
   ],
   "source": [
    "data_num[\"Credit_History\"].value_counts()"
   ]
  },
  {
   "cell_type": "markdown",
   "id": "66bbff1d",
   "metadata": {
    "papermill": {
     "duration": 0.026135,
     "end_time": "2023-05-22T03:22:48.184384",
     "exception": false,
     "start_time": "2023-05-22T03:22:48.158249",
     "status": "completed"
    },
    "tags": []
   },
   "source": [
    "> Loan_Amount_Term and Credit_History both are categorial data"
   ]
  },
  {
   "cell_type": "code",
   "execution_count": 23,
   "id": "6b3e031c",
   "metadata": {
    "execution": {
     "iopub.execute_input": "2023-05-22T03:22:48.239484Z",
     "iopub.status.busy": "2023-05-22T03:22:48.238715Z",
     "iopub.status.idle": "2023-05-22T03:22:48.244210Z",
     "shell.execute_reply": "2023-05-22T03:22:48.243321Z"
    },
    "papermill": {
     "duration": 0.035284,
     "end_time": "2023-05-22T03:22:48.246339",
     "exception": false,
     "start_time": "2023-05-22T03:22:48.211055",
     "status": "completed"
    },
    "tags": []
   },
   "outputs": [],
   "source": [
    "data_num.drop([\"Credit_History\",\"Loan_Amount_Term\"],axis=1,inplace=True)"
   ]
  },
  {
   "cell_type": "code",
   "execution_count": 24,
   "id": "5b65580b",
   "metadata": {
    "execution": {
     "iopub.execute_input": "2023-05-22T03:22:48.301514Z",
     "iopub.status.busy": "2023-05-22T03:22:48.300715Z",
     "iopub.status.idle": "2023-05-22T03:22:48.311163Z",
     "shell.execute_reply": "2023-05-22T03:22:48.310252Z"
    },
    "papermill": {
     "duration": 0.039884,
     "end_time": "2023-05-22T03:22:48.313237",
     "exception": false,
     "start_time": "2023-05-22T03:22:48.273353",
     "status": "completed"
    },
    "tags": []
   },
   "outputs": [
    {
     "data": {
      "text/html": [
       "<div>\n",
       "<style scoped>\n",
       "    .dataframe tbody tr th:only-of-type {\n",
       "        vertical-align: middle;\n",
       "    }\n",
       "\n",
       "    .dataframe tbody tr th {\n",
       "        vertical-align: top;\n",
       "    }\n",
       "\n",
       "    .dataframe thead th {\n",
       "        text-align: right;\n",
       "    }\n",
       "</style>\n",
       "<table border=\"1\" class=\"dataframe\">\n",
       "  <thead>\n",
       "    <tr style=\"text-align: right;\">\n",
       "      <th></th>\n",
       "      <th>ApplicantIncome</th>\n",
       "      <th>CoapplicantIncome</th>\n",
       "      <th>LoanAmount</th>\n",
       "    </tr>\n",
       "  </thead>\n",
       "  <tbody>\n",
       "    <tr>\n",
       "      <th>0</th>\n",
       "      <td>5849</td>\n",
       "      <td>0.0</td>\n",
       "      <td>NaN</td>\n",
       "    </tr>\n",
       "    <tr>\n",
       "      <th>1</th>\n",
       "      <td>4583</td>\n",
       "      <td>1508.0</td>\n",
       "      <td>128.0</td>\n",
       "    </tr>\n",
       "    <tr>\n",
       "      <th>2</th>\n",
       "      <td>3000</td>\n",
       "      <td>0.0</td>\n",
       "      <td>66.0</td>\n",
       "    </tr>\n",
       "    <tr>\n",
       "      <th>3</th>\n",
       "      <td>2583</td>\n",
       "      <td>2358.0</td>\n",
       "      <td>120.0</td>\n",
       "    </tr>\n",
       "    <tr>\n",
       "      <th>4</th>\n",
       "      <td>6000</td>\n",
       "      <td>0.0</td>\n",
       "      <td>141.0</td>\n",
       "    </tr>\n",
       "  </tbody>\n",
       "</table>\n",
       "</div>"
      ],
      "text/plain": [
       "   ApplicantIncome  CoapplicantIncome  LoanAmount\n",
       "0             5849                0.0         NaN\n",
       "1             4583             1508.0       128.0\n",
       "2             3000                0.0        66.0\n",
       "3             2583             2358.0       120.0\n",
       "4             6000                0.0       141.0"
      ]
     },
     "execution_count": 24,
     "metadata": {},
     "output_type": "execute_result"
    }
   ],
   "source": [
    "data_num.head()"
   ]
  },
  {
   "cell_type": "code",
   "execution_count": 25,
   "id": "e4d54e76",
   "metadata": {
    "execution": {
     "iopub.execute_input": "2023-05-22T03:22:48.370563Z",
     "iopub.status.busy": "2023-05-22T03:22:48.369863Z",
     "iopub.status.idle": "2023-05-22T03:22:48.377395Z",
     "shell.execute_reply": "2023-05-22T03:22:48.376426Z"
    },
    "papermill": {
     "duration": 0.037626,
     "end_time": "2023-05-22T03:22:48.379729",
     "exception": false,
     "start_time": "2023-05-22T03:22:48.342103",
     "status": "completed"
    },
    "tags": []
   },
   "outputs": [
    {
     "data": {
      "text/plain": [
       "ApplicantIncome       0\n",
       "CoapplicantIncome     0\n",
       "LoanAmount           22\n",
       "dtype: int64"
      ]
     },
     "execution_count": 25,
     "metadata": {},
     "output_type": "execute_result"
    }
   ],
   "source": [
    "data_num.isnull().sum()"
   ]
  },
  {
   "cell_type": "code",
   "execution_count": 26,
   "id": "96679a20",
   "metadata": {
    "execution": {
     "iopub.execute_input": "2023-05-22T03:22:48.436684Z",
     "iopub.status.busy": "2023-05-22T03:22:48.436169Z",
     "iopub.status.idle": "2023-05-22T03:22:49.196082Z",
     "shell.execute_reply": "2023-05-22T03:22:49.195385Z"
    },
    "papermill": {
     "duration": 0.789611,
     "end_time": "2023-05-22T03:22:49.198195",
     "exception": false,
     "start_time": "2023-05-22T03:22:48.408584",
     "status": "completed"
    },
    "tags": []
   },
   "outputs": [
    {
     "data": {
      "image/png": "[encoded data removed]",
      "text/plain": [
       "<Figure size 2000x2200 with 3 Axes>"
      ]
     },
     "metadata": {},
     "output_type": "display_data"
    }
   ],
   "source": [
    "plt.figure(figsize=(20,22))\n",
    "plotnumber = 1\n",
    "\n",
    "for column in data_num:\n",
    "    if plotnumber<=3 :     # as there are 9 columns in the data\n",
    "        ax = plt.subplot(3,3,plotnumber)\n",
    "        sns.distplot(df[column])\n",
    "        plt.xlabel(column,fontsize=20)\n",
    "       \n",
    "    plotnumber+=1\n",
    "plt.show()"
   ]
  },
  {
   "cell_type": "markdown",
   "id": "4af77642",
   "metadata": {
    "papermill": {
     "duration": 0.027901,
     "end_time": "2023-05-22T03:22:49.254248",
     "exception": false,
     "start_time": "2023-05-22T03:22:49.226347",
     "status": "completed"
    },
    "tags": []
   },
   "source": [
    "# Outlier Detection"
   ]
  },
  {
   "cell_type": "code",
   "execution_count": 27,
   "id": "343f877b",
   "metadata": {
    "execution": {
     "iopub.execute_input": "2023-05-22T03:22:49.312004Z",
     "iopub.status.busy": "2023-05-22T03:22:49.311693Z",
     "iopub.status.idle": "2023-05-22T03:22:49.824153Z",
     "shell.execute_reply": "2023-05-22T03:22:49.823298Z"
    },
    "papermill": {
     "duration": 0.54379,
     "end_time": "2023-05-22T03:22:49.826295",
     "exception": false,
     "start_time": "2023-05-22T03:22:49.282505",
     "status": "completed"
    },
    "tags": []
   },
   "outputs": [
    {
     "data": {
      "text/plain": [
       "<Figure size 900x300 with 0 Axes>"
      ]
     },
     "metadata": {},
     "output_type": "display_data"
    },
    {
     "data": {
      "image/png": "[encoded data removed]",
      "text/plain": [
       "<Figure size 700x200 with 1 Axes>"
      ]
     },
     "metadata": {},
     "output_type": "display_data"
    },
    {
     "data": {
      "image/png": "[encoded data removed]",
      "text/plain": [
       "<Figure size 700x200 with 1 Axes>"
      ]
     },
     "metadata": {},
     "output_type": "display_data"
    },
    {
     "data": {
      "image/png": "[encoded data removed]",
      "text/plain": [
       "<Figure size 700x200 with 1 Axes>"
      ]
     },
     "metadata": {},
     "output_type": "display_data"
    }
   ],
   "source": [
    "plt.figure(figsize=(9,3))\n",
    "for column in data_num.columns:\n",
    "    plt.figure(figsize=(7,2))\n",
    "    ax=sns.boxplot(data[column],orient=\"h\",color=\"red\")\n",
    "    ax.set_xlabel(column)\n",
    "    plt.show()"
   ]
  },
  {
   "cell_type": "markdown",
   "id": "2b3676ba",
   "metadata": {
    "papermill": {
     "duration": 0.029867,
     "end_time": "2023-05-22T03:22:49.886237",
     "exception": false,
     "start_time": "2023-05-22T03:22:49.856370",
     "status": "completed"
    },
    "tags": []
   },
   "source": [
    "**From the above charts we can observe that the features contains an outliers and we are getting skewed distribution as well so that's why we need to handle the outliers with IQR method.**"
   ]
  },
  {
   "cell_type": "markdown",
   "id": "383617a5",
   "metadata": {
    "papermill": {
     "duration": 0.028575,
     "end_time": "2023-05-22T03:22:49.943966",
     "exception": false,
     "start_time": "2023-05-22T03:22:49.915391",
     "status": "completed"
    },
    "tags": []
   },
   "source": [
    " # Plot the countplot to analyze the relation between dependent and independent variables"
   ]
  },
  {
   "cell_type": "code",
   "execution_count": 28,
   "id": "f315109e",
   "metadata": {
    "execution": {
     "iopub.execute_input": "2023-05-22T03:22:50.003293Z",
     "iopub.status.busy": "2023-05-22T03:22:50.002471Z",
     "iopub.status.idle": "2023-05-22T03:22:50.957744Z",
     "shell.execute_reply": "2023-05-22T03:22:50.956789Z"
    },
    "papermill": {
     "duration": 0.987529,
     "end_time": "2023-05-22T03:22:50.960324",
     "exception": false,
     "start_time": "2023-05-22T03:22:49.972795",
     "status": "completed"
    },
    "tags": []
   },
   "outputs": [
    {
     "data": {
      "image/png": "[encoded data removed]",
      "text/plain": [
       "<Figure size 2500x1600 with 6 Axes>"
      ]
     },
     "metadata": {},
     "output_type": "display_data"
    }
   ],
   "source": [
    "fig, ax = plt.subplots(2, 3, figsize = (25, 16))\n",
    "\n",
    "sns.countplot(x = 'Married', hue = 'Loan_Status', data = data, palette = 'tab20c', ax = ax[0][0])\n",
    "sns.countplot(x = 'Dependents', hue = 'Loan_Status', data = data, palette = 'Set2', ax = ax[0][1])\n",
    "\n",
    "sns.countplot(x = 'Education', hue = 'Loan_Status', data = data, palette = 'Set1', ax = ax[0][2])\n",
    "\n",
    "sns.countplot(x = 'Self_Employed', hue = 'Loan_Status', data = data, palette = 'autumn_r', ax = ax[1][0])\n",
    "\n",
    "sns.countplot(x = 'Credit_History', hue = 'Loan_Status', data = data, palette = 'Set2', ax = ax[1][1])\n",
    "\n",
    "sns.countplot(x = 'Property_Area', hue = 'Loan_Status', data = data, palette = 'autumn_r', ax = ax[1][2])\n",
    "\n",
    "plt.show()"
   ]
  },
  {
   "cell_type": "markdown",
   "id": "63ab3b35",
   "metadata": {
    "papermill": {
     "duration": 0.031991,
     "end_time": "2023-05-22T03:22:51.022768",
     "exception": false,
     "start_time": "2023-05-22T03:22:50.990777",
     "status": "completed"
    },
    "tags": []
   },
   "source": [
    "**Customer having a bad credit history has a very low chance to get their loan application granted.**"
   ]
  },
  {
   "cell_type": "markdown",
   "id": "d51e5c67",
   "metadata": {
    "papermill": {
     "duration": 0.029305,
     "end_time": "2023-05-22T03:22:51.081702",
     "exception": false,
     "start_time": "2023-05-22T03:22:51.052397",
     "status": "completed"
    },
    "tags": []
   },
   "source": [
    "# Handle Missing Values"
   ]
  },
  {
   "cell_type": "code",
   "execution_count": 29,
   "id": "875c04d2",
   "metadata": {
    "execution": {
     "iopub.execute_input": "2023-05-22T03:22:51.142359Z",
     "iopub.status.busy": "2023-05-22T03:22:51.142034Z",
     "iopub.status.idle": "2023-05-22T03:22:51.155435Z",
     "shell.execute_reply": "2023-05-22T03:22:51.154625Z"
    },
    "papermill": {
     "duration": 0.046064,
     "end_time": "2023-05-22T03:22:51.157392",
     "exception": false,
     "start_time": "2023-05-22T03:22:51.111328",
     "status": "completed"
    },
    "tags": []
   },
   "outputs": [],
   "source": [
    "data['Gender'].fillna(data['Gender'].mode()[0], inplace = True)\n",
    "data['Married'].fillna(data['Married'].mode()[0], inplace = True)\n",
    "data['Dependents'].fillna(data['Dependents'].mode()[0], inplace = True)\n",
    "data['Self_Employed'].fillna(data['Self_Employed'].mode()[0], inplace = True)\n",
    "data['Credit_History'].fillna(data['Credit_History'].mode()[0], inplace = True)\n",
    "data['Loan_Amount_Term'].fillna(data['Loan_Amount_Term'].mode()[0], inplace = True)\n",
    "data['LoanAmount'].fillna(data['LoanAmount'].median(), inplace = True)"
   ]
  },
  {
   "cell_type": "code",
   "execution_count": 30,
   "id": "99709d43",
   "metadata": {
    "execution": {
     "iopub.execute_input": "2023-05-22T03:22:51.219725Z",
     "iopub.status.busy": "2023-05-22T03:22:51.218925Z",
     "iopub.status.idle": "2023-05-22T03:22:51.228252Z",
     "shell.execute_reply": "2023-05-22T03:22:51.227206Z"
    },
    "papermill": {
     "duration": 0.042221,
     "end_time": "2023-05-22T03:22:51.230329",
     "exception": false,
     "start_time": "2023-05-22T03:22:51.188108",
     "status": "completed"
    },
    "tags": []
   },
   "outputs": [
    {
     "data": {
      "text/plain": [
       "Loan_ID              0\n",
       "Gender               0\n",
       "Married              0\n",
       "Dependents           0\n",
       "Education            0\n",
       "Self_Employed        0\n",
       "ApplicantIncome      0\n",
       "CoapplicantIncome    0\n",
       "LoanAmount           0\n",
       "Loan_Amount_Term     0\n",
       "Credit_History       0\n",
       "Property_Area        0\n",
       "Loan_Status          0\n",
       "dtype: int64"
      ]
     },
     "execution_count": 30,
     "metadata": {},
     "output_type": "execute_result"
    }
   ],
   "source": [
    "data.isnull().sum()"
   ]
  },
  {
   "cell_type": "markdown",
   "id": "fdbab341",
   "metadata": {
    "papermill": {
     "duration": 0.029559,
     "end_time": "2023-05-22T03:22:51.289827",
     "exception": false,
     "start_time": "2023-05-22T03:22:51.260268",
     "status": "completed"
    },
    "tags": []
   },
   "source": [
    "# Handle Categorial Data"
   ]
  },
  {
   "cell_type": "code",
   "execution_count": 31,
   "id": "fec6fc9c",
   "metadata": {
    "execution": {
     "iopub.execute_input": "2023-05-22T03:22:51.350659Z",
     "iopub.status.busy": "2023-05-22T03:22:51.350093Z",
     "iopub.status.idle": "2023-05-22T03:22:51.354912Z",
     "shell.execute_reply": "2023-05-22T03:22:51.354044Z"
    },
    "papermill": {
     "duration": 0.037148,
     "end_time": "2023-05-22T03:22:51.356774",
     "exception": false,
     "start_time": "2023-05-22T03:22:51.319626",
     "status": "completed"
    },
    "tags": []
   },
   "outputs": [],
   "source": [
    "from sklearn.preprocessing import LabelEncoder"
   ]
  },
  {
   "cell_type": "code",
   "execution_count": 32,
   "id": "4c4cdb82",
   "metadata": {
    "execution": {
     "iopub.execute_input": "2023-05-22T03:22:51.418891Z",
     "iopub.status.busy": "2023-05-22T03:22:51.418053Z",
     "iopub.status.idle": "2023-05-22T03:22:51.424551Z",
     "shell.execute_reply": "2023-05-22T03:22:51.423663Z"
    },
    "papermill": {
     "duration": 0.039405,
     "end_time": "2023-05-22T03:22:51.426523",
     "exception": false,
     "start_time": "2023-05-22T03:22:51.387118",
     "status": "completed"
    },
    "tags": []
   },
   "outputs": [
    {
     "data": {
      "text/plain": [
       "Index(['Loan_ID', 'Gender', 'Married', 'Dependents', 'Education',\n",
       "       'Self_Employed', 'ApplicantIncome', 'CoapplicantIncome', 'LoanAmount',\n",
       "       'Loan_Amount_Term', 'Credit_History', 'Property_Area', 'Loan_Status'],\n",
       "      dtype='object')"
      ]
     },
     "execution_count": 32,
     "metadata": {},
     "output_type": "execute_result"
    }
   ],
   "source": [
    "data.columns"
   ]
  },
  {
   "cell_type": "code",
   "execution_count": 33,
   "id": "0bf3c159",
   "metadata": {
    "execution": {
     "iopub.execute_input": "2023-05-22T03:22:51.488607Z",
     "iopub.status.busy": "2023-05-22T03:22:51.488250Z",
     "iopub.status.idle": "2023-05-22T03:22:51.497605Z",
     "shell.execute_reply": "2023-05-22T03:22:51.496741Z"
    },
    "papermill": {
     "duration": 0.042934,
     "end_time": "2023-05-22T03:22:51.499772",
     "exception": false,
     "start_time": "2023-05-22T03:22:51.456838",
     "status": "completed"
    },
    "tags": []
   },
   "outputs": [],
   "source": [
    "feature_cols=['Gender', 'Married', 'Education', 'Dependents', 'Self_Employed', 'Property_Area', 'Loan_Status']\n",
    "le = LabelEncoder()\n",
    "for x in feature_cols:\n",
    "    data[x] = le.fit_transform(data[x])\n"
   ]
  },
  {
   "cell_type": "code",
   "execution_count": 34,
   "id": "dbdd1bdd",
   "metadata": {
    "execution": {
     "iopub.execute_input": "2023-05-22T03:22:51.568820Z",
     "iopub.status.busy": "2023-05-22T03:22:51.567920Z",
     "iopub.status.idle": "2023-05-22T03:22:51.584238Z",
     "shell.execute_reply": "2023-05-22T03:22:51.583291Z"
    },
    "papermill": {
     "duration": 0.054527,
     "end_time": "2023-05-22T03:22:51.586223",
     "exception": false,
     "start_time": "2023-05-22T03:22:51.531696",
     "status": "completed"
    },
    "tags": []
   },
   "outputs": [
    {
     "data": {
      "text/html": [
       "<div>\n",
       "<style scoped>\n",
       "    .dataframe tbody tr th:only-of-type {\n",
       "        vertical-align: middle;\n",
       "    }\n",
       "\n",
       "    .dataframe tbody tr th {\n",
       "        vertical-align: top;\n",
       "    }\n",
       "\n",
       "    .dataframe thead th {\n",
       "        text-align: right;\n",
       "    }\n",
       "</style>\n",
       "<table border=\"1\" class=\"dataframe\">\n",
       "  <thead>\n",
       "    <tr style=\"text-align: right;\">\n",
       "      <th></th>\n",
       "      <th>Loan_ID</th>\n",
       "      <th>Gender</th>\n",
       "      <th>Married</th>\n",
       "      <th>Dependents</th>\n",
       "      <th>Education</th>\n",
       "      <th>Self_Employed</th>\n",
       "      <th>ApplicantIncome</th>\n",
       "      <th>CoapplicantIncome</th>\n",
       "      <th>LoanAmount</th>\n",
       "      <th>Loan_Amount_Term</th>\n",
       "      <th>Credit_History</th>\n",
       "      <th>Property_Area</th>\n",
       "      <th>Loan_Status</th>\n",
       "    </tr>\n",
       "  </thead>\n",
       "  <tbody>\n",
       "    <tr>\n",
       "      <th>0</th>\n",
       "      <td>LP001002</td>\n",
       "      <td>1</td>\n",
       "      <td>0</td>\n",
       "      <td>0</td>\n",
       "      <td>0</td>\n",
       "      <td>0</td>\n",
       "      <td>5849</td>\n",
       "      <td>0.0</td>\n",
       "      <td>128.0</td>\n",
       "      <td>360.0</td>\n",
       "      <td>1.0</td>\n",
       "      <td>2</td>\n",
       "      <td>1</td>\n",
       "    </tr>\n",
       "    <tr>\n",
       "      <th>1</th>\n",
       "      <td>LP001003</td>\n",
       "      <td>1</td>\n",
       "      <td>1</td>\n",
       "      <td>1</td>\n",
       "      <td>0</td>\n",
       "      <td>0</td>\n",
       "      <td>4583</td>\n",
       "      <td>1508.0</td>\n",
       "      <td>128.0</td>\n",
       "      <td>360.0</td>\n",
       "      <td>1.0</td>\n",
       "      <td>0</td>\n",
       "      <td>0</td>\n",
       "    </tr>\n",
       "    <tr>\n",
       "      <th>2</th>\n",
       "      <td>LP001005</td>\n",
       "      <td>1</td>\n",
       "      <td>1</td>\n",
       "      <td>0</td>\n",
       "      <td>0</td>\n",
       "      <td>1</td>\n",
       "      <td>3000</td>\n",
       "      <td>0.0</td>\n",
       "      <td>66.0</td>\n",
       "      <td>360.0</td>\n",
       "      <td>1.0</td>\n",
       "      <td>2</td>\n",
       "      <td>1</td>\n",
       "    </tr>\n",
       "    <tr>\n",
       "      <th>3</th>\n",
       "      <td>LP001006</td>\n",
       "      <td>1</td>\n",
       "      <td>1</td>\n",
       "      <td>0</td>\n",
       "      <td>1</td>\n",
       "      <td>0</td>\n",
       "      <td>2583</td>\n",
       "      <td>2358.0</td>\n",
       "      <td>120.0</td>\n",
       "      <td>360.0</td>\n",
       "      <td>1.0</td>\n",
       "      <td>2</td>\n",
       "      <td>1</td>\n",
       "    </tr>\n",
       "    <tr>\n",
       "      <th>4</th>\n",
       "      <td>LP001008</td>\n",
       "      <td>1</td>\n",
       "      <td>0</td>\n",
       "      <td>0</td>\n",
       "      <td>0</td>\n",
       "      <td>0</td>\n",
       "      <td>6000</td>\n",
       "      <td>0.0</td>\n",
       "      <td>141.0</td>\n",
       "      <td>360.0</td>\n",
       "      <td>1.0</td>\n",
       "      <td>2</td>\n",
       "      <td>1</td>\n",
       "    </tr>\n",
       "  </tbody>\n",
       "</table>\n",
       "</div>"
      ],
      "text/plain": [
       "    Loan_ID  Gender  Married  Dependents  Education  Self_Employed  \\\n",
       "0  LP001002       1        0           0          0              0   \n",
       "1  LP001003       1        1           1          0              0   \n",
       "2  LP001005       1        1           0          0              1   \n",
       "3  LP001006       1        1           0          1              0   \n",
       "4  LP001008       1        0           0          0              0   \n",
       "\n",
       "   ApplicantIncome  CoapplicantIncome  LoanAmount  Loan_Amount_Term  \\\n",
       "0             5849                0.0       128.0             360.0   \n",
       "1             4583             1508.0       128.0             360.0   \n",
       "2             3000                0.0        66.0             360.0   \n",
       "3             2583             2358.0       120.0             360.0   \n",
       "4             6000                0.0       141.0             360.0   \n",
       "\n",
       "   Credit_History  Property_Area  Loan_Status  \n",
       "0             1.0              2            1  \n",
       "1             1.0              0            0  \n",
       "2             1.0              2            1  \n",
       "3             1.0              2            1  \n",
       "4             1.0              2            1  "
      ]
     },
     "execution_count": 34,
     "metadata": {},
     "output_type": "execute_result"
    }
   ],
   "source": [
    "data.head()"
   ]
  },
  {
   "cell_type": "code",
   "execution_count": 35,
   "id": "4d110075",
   "metadata": {
    "execution": {
     "iopub.execute_input": "2023-05-22T03:22:51.649929Z",
     "iopub.status.busy": "2023-05-22T03:22:51.649183Z",
     "iopub.status.idle": "2023-05-22T03:22:51.654556Z",
     "shell.execute_reply": "2023-05-22T03:22:51.653722Z"
    },
    "papermill": {
     "duration": 0.037968,
     "end_time": "2023-05-22T03:22:51.656471",
     "exception": false,
     "start_time": "2023-05-22T03:22:51.618503",
     "status": "completed"
    },
    "tags": []
   },
   "outputs": [],
   "source": [
    "data.drop(\"Loan_ID\",axis=1,inplace=True)"
   ]
  },
  {
   "cell_type": "markdown",
   "id": "b91368bc",
   "metadata": {
    "papermill": {
     "duration": 0.030064,
     "end_time": "2023-05-22T03:22:51.717103",
     "exception": false,
     "start_time": "2023-05-22T03:22:51.687039",
     "status": "completed"
    },
    "tags": []
   },
   "source": [
    "# Outlier Detection/Handling"
   ]
  },
  {
   "cell_type": "code",
   "execution_count": 36,
   "id": "a5e56ff6",
   "metadata": {
    "execution": {
     "iopub.execute_input": "2023-05-22T03:22:51.778719Z",
     "iopub.status.busy": "2023-05-22T03:22:51.777873Z",
     "iopub.status.idle": "2023-05-22T03:22:51.793379Z",
     "shell.execute_reply": "2023-05-22T03:22:51.792461Z"
    },
    "papermill": {
     "duration": 0.048362,
     "end_time": "2023-05-22T03:22:51.795390",
     "exception": false,
     "start_time": "2023-05-22T03:22:51.747028",
     "status": "completed"
    },
    "tags": []
   },
   "outputs": [
    {
     "data": {
      "text/html": [
       "<div>\n",
       "<style scoped>\n",
       "    .dataframe tbody tr th:only-of-type {\n",
       "        vertical-align: middle;\n",
       "    }\n",
       "\n",
       "    .dataframe tbody tr th {\n",
       "        vertical-align: top;\n",
       "    }\n",
       "\n",
       "    .dataframe thead th {\n",
       "        text-align: right;\n",
       "    }\n",
       "</style>\n",
       "<table border=\"1\" class=\"dataframe\">\n",
       "  <thead>\n",
       "    <tr style=\"text-align: right;\">\n",
       "      <th></th>\n",
       "      <th>Gender</th>\n",
       "      <th>Married</th>\n",
       "      <th>Dependents</th>\n",
       "      <th>Education</th>\n",
       "      <th>Self_Employed</th>\n",
       "      <th>ApplicantIncome</th>\n",
       "      <th>CoapplicantIncome</th>\n",
       "      <th>LoanAmount</th>\n",
       "      <th>Loan_Amount_Term</th>\n",
       "      <th>Credit_History</th>\n",
       "      <th>Property_Area</th>\n",
       "      <th>Loan_Status</th>\n",
       "    </tr>\n",
       "  </thead>\n",
       "  <tbody>\n",
       "    <tr>\n",
       "      <th>0</th>\n",
       "      <td>1</td>\n",
       "      <td>0</td>\n",
       "      <td>0</td>\n",
       "      <td>0</td>\n",
       "      <td>0</td>\n",
       "      <td>5849</td>\n",
       "      <td>0.0</td>\n",
       "      <td>128.0</td>\n",
       "      <td>360.0</td>\n",
       "      <td>1.0</td>\n",
       "      <td>2</td>\n",
       "      <td>1</td>\n",
       "    </tr>\n",
       "    <tr>\n",
       "      <th>1</th>\n",
       "      <td>1</td>\n",
       "      <td>1</td>\n",
       "      <td>1</td>\n",
       "      <td>0</td>\n",
       "      <td>0</td>\n",
       "      <td>4583</td>\n",
       "      <td>1508.0</td>\n",
       "      <td>128.0</td>\n",
       "      <td>360.0</td>\n",
       "      <td>1.0</td>\n",
       "      <td>0</td>\n",
       "      <td>0</td>\n",
       "    </tr>\n",
       "    <tr>\n",
       "      <th>2</th>\n",
       "      <td>1</td>\n",
       "      <td>1</td>\n",
       "      <td>0</td>\n",
       "      <td>0</td>\n",
       "      <td>1</td>\n",
       "      <td>3000</td>\n",
       "      <td>0.0</td>\n",
       "      <td>66.0</td>\n",
       "      <td>360.0</td>\n",
       "      <td>1.0</td>\n",
       "      <td>2</td>\n",
       "      <td>1</td>\n",
       "    </tr>\n",
       "    <tr>\n",
       "      <th>3</th>\n",
       "      <td>1</td>\n",
       "      <td>1</td>\n",
       "      <td>0</td>\n",
       "      <td>1</td>\n",
       "      <td>0</td>\n",
       "      <td>2583</td>\n",
       "      <td>2358.0</td>\n",
       "      <td>120.0</td>\n",
       "      <td>360.0</td>\n",
       "      <td>1.0</td>\n",
       "      <td>2</td>\n",
       "      <td>1</td>\n",
       "    </tr>\n",
       "    <tr>\n",
       "      <th>4</th>\n",
       "      <td>1</td>\n",
       "      <td>0</td>\n",
       "      <td>0</td>\n",
       "      <td>0</td>\n",
       "      <td>0</td>\n",
       "      <td>6000</td>\n",
       "      <td>0.0</td>\n",
       "      <td>141.0</td>\n",
       "      <td>360.0</td>\n",
       "      <td>1.0</td>\n",
       "      <td>2</td>\n",
       "      <td>1</td>\n",
       "    </tr>\n",
       "  </tbody>\n",
       "</table>\n",
       "</div>"
      ],
      "text/plain": [
       "   Gender  Married  Dependents  Education  Self_Employed  ApplicantIncome  \\\n",
       "0       1        0           0          0              0             5849   \n",
       "1       1        1           1          0              0             4583   \n",
       "2       1        1           0          0              1             3000   \n",
       "3       1        1           0          1              0             2583   \n",
       "4       1        0           0          0              0             6000   \n",
       "\n",
       "   CoapplicantIncome  LoanAmount  Loan_Amount_Term  Credit_History  \\\n",
       "0                0.0       128.0             360.0             1.0   \n",
       "1             1508.0       128.0             360.0             1.0   \n",
       "2                0.0        66.0             360.0             1.0   \n",
       "3             2358.0       120.0             360.0             1.0   \n",
       "4                0.0       141.0             360.0             1.0   \n",
       "\n",
       "   Property_Area  Loan_Status  \n",
       "0              2            1  \n",
       "1              0            0  \n",
       "2              2            1  \n",
       "3              2            1  \n",
       "4              2            1  "
      ]
     },
     "execution_count": 36,
     "metadata": {},
     "output_type": "execute_result"
    }
   ],
   "source": [
    "data.head()"
   ]
  },
  {
   "cell_type": "code",
   "execution_count": 37,
   "id": "818fb522",
   "metadata": {
    "execution": {
     "iopub.execute_input": "2023-05-22T03:22:51.859121Z",
     "iopub.status.busy": "2023-05-22T03:22:51.858179Z",
     "iopub.status.idle": "2023-05-22T03:22:51.866747Z",
     "shell.execute_reply": "2023-05-22T03:22:51.865961Z"
    },
    "papermill": {
     "duration": 0.04278,
     "end_time": "2023-05-22T03:22:51.868941",
     "exception": false,
     "start_time": "2023-05-22T03:22:51.826161",
     "status": "completed"
    },
    "tags": []
   },
   "outputs": [],
   "source": [
    "Q1=data[\"ApplicantIncome\"].quantile(0.25)\n",
    "Q3=data[\"ApplicantIncome\"].quantile(0.75)\n",
    "IQR=Q3-Q1\n",
    "\n",
    "lower_limit = Q1 - 1.5*IQR\n",
    "upper_limit = Q3 + 1.5*IQR\n",
    "\n",
    "data = data[(data[\"ApplicantIncome\"]>lower_limit)&(data[\"ApplicantIncome\"]<upper_limit)]"
   ]
  },
  {
   "cell_type": "code",
   "execution_count": 38,
   "id": "ef8f6334",
   "metadata": {
    "execution": {
     "iopub.execute_input": "2023-05-22T03:22:51.933755Z",
     "iopub.status.busy": "2023-05-22T03:22:51.933025Z",
     "iopub.status.idle": "2023-05-22T03:22:51.941581Z",
     "shell.execute_reply": "2023-05-22T03:22:51.940703Z"
    },
    "papermill": {
     "duration": 0.041744,
     "end_time": "2023-05-22T03:22:51.943604",
     "exception": false,
     "start_time": "2023-05-22T03:22:51.901860",
     "status": "completed"
    },
    "tags": []
   },
   "outputs": [],
   "source": [
    "Q1=data[\"CoapplicantIncome\"].quantile(0.25)\n",
    "Q3=data[\"CoapplicantIncome\"].quantile(0.75)\n",
    "IQR=Q3-Q1\n",
    "\n",
    "lower_limit = Q1 - 1.5*IQR\n",
    "upper_limit = Q3 + 1.5*IQR\n",
    "\n",
    "data = data[(data[\"CoapplicantIncome\"]>lower_limit)&(data[\"CoapplicantIncome\"]<upper_limit)]"
   ]
  },
  {
   "cell_type": "code",
   "execution_count": 39,
   "id": "d2bbd2ed",
   "metadata": {
    "execution": {
     "iopub.execute_input": "2023-05-22T03:22:52.009063Z",
     "iopub.status.busy": "2023-05-22T03:22:52.008116Z",
     "iopub.status.idle": "2023-05-22T03:22:52.016939Z",
     "shell.execute_reply": "2023-05-22T03:22:52.016075Z"
    },
    "papermill": {
     "duration": 0.043604,
     "end_time": "2023-05-22T03:22:52.019277",
     "exception": false,
     "start_time": "2023-05-22T03:22:51.975673",
     "status": "completed"
    },
    "tags": []
   },
   "outputs": [],
   "source": [
    "Q1=data[\"LoanAmount\"].quantile(0.25)\n",
    "Q3=data[\"LoanAmount\"].quantile(0.75)\n",
    "IQR=Q3-Q1\n",
    "\n",
    "lower_limit = Q1 - 1.5*IQR\n",
    "upper_limit = Q3 + 1.5*IQR\n",
    "\n",
    "data = data[(data[\"LoanAmount\"]>lower_limit)&(data[\"LoanAmount\"]<upper_limit)]"
   ]
  },
  {
   "cell_type": "code",
   "execution_count": 40,
   "id": "fc068fd4",
   "metadata": {
    "execution": {
     "iopub.execute_input": "2023-05-22T03:22:52.084552Z",
     "iopub.status.busy": "2023-05-22T03:22:52.083723Z",
     "iopub.status.idle": "2023-05-22T03:22:52.592305Z",
     "shell.execute_reply": "2023-05-22T03:22:52.591444Z"
    },
    "papermill": {
     "duration": 0.54179,
     "end_time": "2023-05-22T03:22:52.594471",
     "exception": false,
     "start_time": "2023-05-22T03:22:52.052681",
     "status": "completed"
    },
    "tags": []
   },
   "outputs": [
    {
     "data": {
      "image/png": "[encoded data removed]",
      "text/plain": [
       "<Figure size 1500x1300 with 3 Axes>"
      ]
     },
     "metadata": {},
     "output_type": "display_data"
    }
   ],
   "source": [
    "fig, axs = plt.subplots(3,1, figsize = (15, 13))\n",
    "plt1 = sns.boxplot(data['ApplicantIncome'], ax = axs[0], palette = 'BuGn',orient=\"h\")\n",
    "axs[0].set_xlabel(\"ApplicantIncome\")\n",
    "plt1 = sns.boxplot(data['CoapplicantIncome'], ax = axs[1], palette = 'BuGn',orient=\"h\")\n",
    "axs[1].set_xlabel(\"CoapplicantIncome\")\n",
    "plt1 = sns.boxplot(data['LoanAmount'], ax = axs[2], palette = 'BuGn',orient=\"h\")\n",
    "axs[2].set_xlabel(\"LoanAmount\")\n",
    "plt.show()"
   ]
  },
  {
   "cell_type": "markdown",
   "id": "e368e212",
   "metadata": {
    "papermill": {
     "duration": 0.032309,
     "end_time": "2023-05-22T03:22:52.659954",
     "exception": false,
     "start_time": "2023-05-22T03:22:52.627645",
     "status": "completed"
    },
    "tags": []
   },
   "source": [
    "# Feature Selection"
   ]
  },
  {
   "cell_type": "code",
   "execution_count": 41,
   "id": "c3cba81b",
   "metadata": {
    "execution": {
     "iopub.execute_input": "2023-05-22T03:22:52.731795Z",
     "iopub.status.busy": "2023-05-22T03:22:52.731429Z",
     "iopub.status.idle": "2023-05-22T03:22:53.046210Z",
     "shell.execute_reply": "2023-05-22T03:22:53.045310Z"
    },
    "papermill": {
     "duration": 0.353094,
     "end_time": "2023-05-22T03:22:53.048577",
     "exception": false,
     "start_time": "2023-05-22T03:22:52.695483",
     "status": "completed"
    },
    "tags": []
   },
   "outputs": [
    {
     "data": {
      "text/plain": [
       "<AxesSubplot: >"
      ]
     },
     "execution_count": 41,
     "metadata": {},
     "output_type": "execute_result"
    },
    {
     "data": {
      "image/png": "[encoded data removed]",
      "text/plain": [
       "<Figure size 640x480 with 2 Axes>"
      ]
     },
     "metadata": {},
     "output_type": "display_data"
    }
   ],
   "source": [
    "cor=data[[\"ApplicantIncome\",\"CoapplicantIncome\",\"LoanAmount\"]].corr()\n",
    "sns.heatmap(cor,annot=True)"
   ]
  },
  {
   "cell_type": "code",
   "execution_count": 42,
   "id": "e38bb66b",
   "metadata": {
    "execution": {
     "iopub.execute_input": "2023-05-22T03:22:53.113635Z",
     "iopub.status.busy": "2023-05-22T03:22:53.113281Z",
     "iopub.status.idle": "2023-05-22T03:22:53.468132Z",
     "shell.execute_reply": "2023-05-22T03:22:53.466980Z"
    },
    "papermill": {
     "duration": 0.391037,
     "end_time": "2023-05-22T03:22:53.471541",
     "exception": false,
     "start_time": "2023-05-22T03:22:53.080504",
     "status": "completed"
    },
    "tags": []
   },
   "outputs": [],
   "source": [
    "from sklearn.feature_selection import chi2"
   ]
  },
  {
   "cell_type": "code",
   "execution_count": 43,
   "id": "f240af9c",
   "metadata": {
    "execution": {
     "iopub.execute_input": "2023-05-22T03:22:53.564482Z",
     "iopub.status.busy": "2023-05-22T03:22:53.564050Z",
     "iopub.status.idle": "2023-05-22T03:22:53.570900Z",
     "shell.execute_reply": "2023-05-22T03:22:53.570109Z"
    },
    "papermill": {
     "duration": 0.058742,
     "end_time": "2023-05-22T03:22:53.576200",
     "exception": false,
     "start_time": "2023-05-22T03:22:53.517458",
     "status": "completed"
    },
    "tags": []
   },
   "outputs": [
    {
     "data": {
      "text/plain": [
       "Index(['Gender', 'Married', 'Dependents', 'Education', 'Self_Employed',\n",
       "       'ApplicantIncome', 'CoapplicantIncome', 'LoanAmount',\n",
       "       'Loan_Amount_Term', 'Credit_History', 'Property_Area', 'Loan_Status'],\n",
       "      dtype='object')"
      ]
     },
     "execution_count": 43,
     "metadata": {},
     "output_type": "execute_result"
    }
   ],
   "source": [
    "data.columns"
   ]
  },
  {
   "cell_type": "code",
   "execution_count": 44,
   "id": "b5ee5905",
   "metadata": {
    "execution": {
     "iopub.execute_input": "2023-05-22T03:22:53.664891Z",
     "iopub.status.busy": "2023-05-22T03:22:53.664547Z",
     "iopub.status.idle": "2023-05-22T03:22:53.670794Z",
     "shell.execute_reply": "2023-05-22T03:22:53.669901Z"
    },
    "papermill": {
     "duration": 0.054804,
     "end_time": "2023-05-22T03:22:53.675025",
     "exception": false,
     "start_time": "2023-05-22T03:22:53.620221",
     "status": "completed"
    },
    "tags": []
   },
   "outputs": [],
   "source": [
    "df = data[['Gender', 'Married', 'Dependents', 'Education', 'Self_Employed',\n",
    "       'Loan_Amount_Term', 'Credit_History', 'Property_Area', 'Loan_Status']]"
   ]
  },
  {
   "cell_type": "code",
   "execution_count": 45,
   "id": "4729068d",
   "metadata": {
    "execution": {
     "iopub.execute_input": "2023-05-22T03:22:53.774244Z",
     "iopub.status.busy": "2023-05-22T03:22:53.773871Z",
     "iopub.status.idle": "2023-05-22T03:22:53.781424Z",
     "shell.execute_reply": "2023-05-22T03:22:53.780561Z"
    },
    "papermill": {
     "duration": 0.059886,
     "end_time": "2023-05-22T03:22:53.783731",
     "exception": false,
     "start_time": "2023-05-22T03:22:53.723845",
     "status": "completed"
    },
    "tags": []
   },
   "outputs": [],
   "source": [
    "x1=df.drop(\"Loan_Status\",axis=1)\n",
    "y1=df[\"Loan_Status\"]"
   ]
  },
  {
   "cell_type": "code",
   "execution_count": 46,
   "id": "bbcf8ac6",
   "metadata": {
    "execution": {
     "iopub.execute_input": "2023-05-22T03:22:53.895947Z",
     "iopub.status.busy": "2023-05-22T03:22:53.895363Z",
     "iopub.status.idle": "2023-05-22T03:22:53.914128Z",
     "shell.execute_reply": "2023-05-22T03:22:53.913324Z"
    },
    "papermill": {
     "duration": 0.077995,
     "end_time": "2023-05-22T03:22:53.920307",
     "exception": false,
     "start_time": "2023-05-22T03:22:53.842312",
     "status": "completed"
    },
    "tags": []
   },
   "outputs": [],
   "source": [
    "f_score=chi2(x1,y1)"
   ]
  },
  {
   "cell_type": "code",
   "execution_count": 47,
   "id": "0141d7ef",
   "metadata": {
    "execution": {
     "iopub.execute_input": "2023-05-22T03:22:54.009268Z",
     "iopub.status.busy": "2023-05-22T03:22:54.008792Z",
     "iopub.status.idle": "2023-05-22T03:22:54.015997Z",
     "shell.execute_reply": "2023-05-22T03:22:54.015216Z"
    },
    "papermill": {
     "duration": 0.057565,
     "end_time": "2023-05-22T03:22:54.021316",
     "exception": false,
     "start_time": "2023-05-22T03:22:53.963751",
     "status": "completed"
    },
    "tags": []
   },
   "outputs": [
    {
     "data": {
      "text/plain": [
       "(array([ 0.1997959 ,  1.16318823,  0.02853975,  5.36803727,  0.09226792,\n",
       "         2.8698891 , 25.21033279,  0.50912984]),\n",
       " array([6.54885643e-01, 2.80805309e-01, 8.65846097e-01, 2.05090427e-02,\n",
       "        7.61313525e-01, 9.02510884e-02, 5.14060438e-07, 4.75515783e-01]))"
      ]
     },
     "execution_count": 47,
     "metadata": {},
     "output_type": "execute_result"
    }
   ],
   "source": [
    "f_score"
   ]
  },
  {
   "cell_type": "code",
   "execution_count": 48,
   "id": "8deb814e",
   "metadata": {
    "execution": {
     "iopub.execute_input": "2023-05-22T03:22:54.115043Z",
     "iopub.status.busy": "2023-05-22T03:22:54.114644Z",
     "iopub.status.idle": "2023-05-22T03:22:54.127086Z",
     "shell.execute_reply": "2023-05-22T03:22:54.126341Z"
    },
    "papermill": {
     "duration": 0.063566,
     "end_time": "2023-05-22T03:22:54.129844",
     "exception": false,
     "start_time": "2023-05-22T03:22:54.066278",
     "status": "completed"
    },
    "tags": []
   },
   "outputs": [
    {
     "data": {
      "text/plain": [
       "Credit_History      5.140604e-07\n",
       "Education           2.050904e-02\n",
       "Loan_Amount_Term    9.025109e-02\n",
       "Married             2.808053e-01\n",
       "Property_Area       4.755158e-01\n",
       "Gender              6.548856e-01\n",
       "Self_Employed       7.613135e-01\n",
       "Dependents          8.658461e-01\n",
       "dtype: float64"
      ]
     },
     "execution_count": 48,
     "metadata": {},
     "output_type": "execute_result"
    }
   ],
   "source": [
    "p_value=pd.Series(f_score[1],index=x1.columns).sort_values(ascending=True)\n",
    "p_value"
   ]
  },
  {
   "cell_type": "code",
   "execution_count": 49,
   "id": "fa66fbb0",
   "metadata": {
    "execution": {
     "iopub.execute_input": "2023-05-22T03:22:54.222971Z",
     "iopub.status.busy": "2023-05-22T03:22:54.222673Z",
     "iopub.status.idle": "2023-05-22T03:22:54.228873Z",
     "shell.execute_reply": "2023-05-22T03:22:54.227877Z"
    },
    "papermill": {
     "duration": 0.059606,
     "end_time": "2023-05-22T03:22:54.234407",
     "exception": false,
     "start_time": "2023-05-22T03:22:54.174801",
     "status": "completed"
    },
    "tags": []
   },
   "outputs": [
    {
     "name": "stdout",
     "output_type": "stream",
     "text": [
      "Credit_History  :- Reject Null Hypothesis\n",
      "Education  :- Reject Null Hypothesis\n",
      "Loan_Amount_Term  :- Accept Null Hypothesis\n",
      "Married  :- Accept Null Hypothesis\n",
      "Property_Area  :- Accept Null Hypothesis\n",
      "Gender  :- Accept Null Hypothesis\n",
      "Self_Employed  :- Accept Null Hypothesis\n",
      "Dependents  :- Accept Null Hypothesis\n"
     ]
    }
   ],
   "source": [
    "cols = []\n",
    "\n",
    "for i in p_value.index:\n",
    "    if p_value[i] <= 0.05:\n",
    "        print(i, ' :- Reject Null Hypothesis')\n",
    "    else:\n",
    "        print(i, ' :- Accept Null Hypothesis')\n",
    "        cols.append(i)"
   ]
  },
  {
   "cell_type": "code",
   "execution_count": 50,
   "id": "be70911e",
   "metadata": {
    "execution": {
     "iopub.execute_input": "2023-05-22T03:22:54.330530Z",
     "iopub.status.busy": "2023-05-22T03:22:54.330145Z",
     "iopub.status.idle": "2023-05-22T03:22:54.354880Z",
     "shell.execute_reply": "2023-05-22T03:22:54.353949Z"
    },
    "papermill": {
     "duration": 0.077402,
     "end_time": "2023-05-22T03:22:54.357960",
     "exception": false,
     "start_time": "2023-05-22T03:22:54.280558",
     "status": "completed"
    },
    "tags": []
   },
   "outputs": [
    {
     "data": {
      "text/html": [
       "<div>\n",
       "<style scoped>\n",
       "    .dataframe tbody tr th:only-of-type {\n",
       "        vertical-align: middle;\n",
       "    }\n",
       "\n",
       "    .dataframe tbody tr th {\n",
       "        vertical-align: top;\n",
       "    }\n",
       "\n",
       "    .dataframe thead th {\n",
       "        text-align: right;\n",
       "    }\n",
       "</style>\n",
       "<table border=\"1\" class=\"dataframe\">\n",
       "  <thead>\n",
       "    <tr style=\"text-align: right;\">\n",
       "      <th></th>\n",
       "      <th>Gender</th>\n",
       "      <th>Married</th>\n",
       "      <th>Dependents</th>\n",
       "      <th>Education</th>\n",
       "      <th>Self_Employed</th>\n",
       "      <th>ApplicantIncome</th>\n",
       "      <th>CoapplicantIncome</th>\n",
       "      <th>LoanAmount</th>\n",
       "      <th>Loan_Amount_Term</th>\n",
       "      <th>Credit_History</th>\n",
       "      <th>Property_Area</th>\n",
       "      <th>Loan_Status</th>\n",
       "    </tr>\n",
       "  </thead>\n",
       "  <tbody>\n",
       "    <tr>\n",
       "      <th>0</th>\n",
       "      <td>1</td>\n",
       "      <td>0</td>\n",
       "      <td>0</td>\n",
       "      <td>0</td>\n",
       "      <td>0</td>\n",
       "      <td>5849</td>\n",
       "      <td>0.0</td>\n",
       "      <td>128.0</td>\n",
       "      <td>360.0</td>\n",
       "      <td>1.0</td>\n",
       "      <td>2</td>\n",
       "      <td>1</td>\n",
       "    </tr>\n",
       "    <tr>\n",
       "      <th>1</th>\n",
       "      <td>1</td>\n",
       "      <td>1</td>\n",
       "      <td>1</td>\n",
       "      <td>0</td>\n",
       "      <td>0</td>\n",
       "      <td>4583</td>\n",
       "      <td>1508.0</td>\n",
       "      <td>128.0</td>\n",
       "      <td>360.0</td>\n",
       "      <td>1.0</td>\n",
       "      <td>0</td>\n",
       "      <td>0</td>\n",
       "    </tr>\n",
       "    <tr>\n",
       "      <th>2</th>\n",
       "      <td>1</td>\n",
       "      <td>1</td>\n",
       "      <td>0</td>\n",
       "      <td>0</td>\n",
       "      <td>1</td>\n",
       "      <td>3000</td>\n",
       "      <td>0.0</td>\n",
       "      <td>66.0</td>\n",
       "      <td>360.0</td>\n",
       "      <td>1.0</td>\n",
       "      <td>2</td>\n",
       "      <td>1</td>\n",
       "    </tr>\n",
       "    <tr>\n",
       "      <th>3</th>\n",
       "      <td>1</td>\n",
       "      <td>1</td>\n",
       "      <td>0</td>\n",
       "      <td>1</td>\n",
       "      <td>0</td>\n",
       "      <td>2583</td>\n",
       "      <td>2358.0</td>\n",
       "      <td>120.0</td>\n",
       "      <td>360.0</td>\n",
       "      <td>1.0</td>\n",
       "      <td>2</td>\n",
       "      <td>1</td>\n",
       "    </tr>\n",
       "    <tr>\n",
       "      <th>4</th>\n",
       "      <td>1</td>\n",
       "      <td>0</td>\n",
       "      <td>0</td>\n",
       "      <td>0</td>\n",
       "      <td>0</td>\n",
       "      <td>6000</td>\n",
       "      <td>0.0</td>\n",
       "      <td>141.0</td>\n",
       "      <td>360.0</td>\n",
       "      <td>1.0</td>\n",
       "      <td>2</td>\n",
       "      <td>1</td>\n",
       "    </tr>\n",
       "  </tbody>\n",
       "</table>\n",
       "</div>"
      ],
      "text/plain": [
       "   Gender  Married  Dependents  Education  Self_Employed  ApplicantIncome  \\\n",
       "0       1        0           0          0              0             5849   \n",
       "1       1        1           1          0              0             4583   \n",
       "2       1        1           0          0              1             3000   \n",
       "3       1        1           0          1              0             2583   \n",
       "4       1        0           0          0              0             6000   \n",
       "\n",
       "   CoapplicantIncome  LoanAmount  Loan_Amount_Term  Credit_History  \\\n",
       "0                0.0       128.0             360.0             1.0   \n",
       "1             1508.0       128.0             360.0             1.0   \n",
       "2                0.0        66.0             360.0             1.0   \n",
       "3             2358.0       120.0             360.0             1.0   \n",
       "4                0.0       141.0             360.0             1.0   \n",
       "\n",
       "   Property_Area  Loan_Status  \n",
       "0              2            1  \n",
       "1              0            0  \n",
       "2              2            1  \n",
       "3              2            1  \n",
       "4              2            1  "
      ]
     },
     "execution_count": 50,
     "metadata": {},
     "output_type": "execute_result"
    }
   ],
   "source": [
    "data.head()"
   ]
  },
  {
   "cell_type": "code",
   "execution_count": 51,
   "id": "f0b7fc6a",
   "metadata": {
    "execution": {
     "iopub.execute_input": "2023-05-22T03:22:54.454965Z",
     "iopub.status.busy": "2023-05-22T03:22:54.454599Z",
     "iopub.status.idle": "2023-05-22T03:22:54.460387Z",
     "shell.execute_reply": "2023-05-22T03:22:54.459586Z"
    },
    "papermill": {
     "duration": 0.056367,
     "end_time": "2023-05-22T03:22:54.464744",
     "exception": false,
     "start_time": "2023-05-22T03:22:54.408377",
     "status": "completed"
    },
    "tags": []
   },
   "outputs": [],
   "source": [
    "data.drop(labels=cols,axis=1,inplace=True)"
   ]
  },
  {
   "cell_type": "code",
   "execution_count": 52,
   "id": "0822a3ab",
   "metadata": {
    "execution": {
     "iopub.execute_input": "2023-05-22T03:22:54.582117Z",
     "iopub.status.busy": "2023-05-22T03:22:54.581725Z",
     "iopub.status.idle": "2023-05-22T03:22:54.608669Z",
     "shell.execute_reply": "2023-05-22T03:22:54.607480Z"
    },
    "papermill": {
     "duration": 0.100721,
     "end_time": "2023-05-22T03:22:54.614421",
     "exception": false,
     "start_time": "2023-05-22T03:22:54.513700",
     "status": "completed"
    },
    "tags": []
   },
   "outputs": [
    {
     "data": {
      "text/html": [
       "<div>\n",
       "<style scoped>\n",
       "    .dataframe tbody tr th:only-of-type {\n",
       "        vertical-align: middle;\n",
       "    }\n",
       "\n",
       "    .dataframe tbody tr th {\n",
       "        vertical-align: top;\n",
       "    }\n",
       "\n",
       "    .dataframe thead th {\n",
       "        text-align: right;\n",
       "    }\n",
       "</style>\n",
       "<table border=\"1\" class=\"dataframe\">\n",
       "  <thead>\n",
       "    <tr style=\"text-align: right;\">\n",
       "      <th></th>\n",
       "      <th>Education</th>\n",
       "      <th>ApplicantIncome</th>\n",
       "      <th>CoapplicantIncome</th>\n",
       "      <th>LoanAmount</th>\n",
       "      <th>Credit_History</th>\n",
       "      <th>Loan_Status</th>\n",
       "    </tr>\n",
       "  </thead>\n",
       "  <tbody>\n",
       "    <tr>\n",
       "      <th>0</th>\n",
       "      <td>0</td>\n",
       "      <td>5849</td>\n",
       "      <td>0.0</td>\n",
       "      <td>128.0</td>\n",
       "      <td>1.0</td>\n",
       "      <td>1</td>\n",
       "    </tr>\n",
       "    <tr>\n",
       "      <th>1</th>\n",
       "      <td>0</td>\n",
       "      <td>4583</td>\n",
       "      <td>1508.0</td>\n",
       "      <td>128.0</td>\n",
       "      <td>1.0</td>\n",
       "      <td>0</td>\n",
       "    </tr>\n",
       "    <tr>\n",
       "      <th>2</th>\n",
       "      <td>0</td>\n",
       "      <td>3000</td>\n",
       "      <td>0.0</td>\n",
       "      <td>66.0</td>\n",
       "      <td>1.0</td>\n",
       "      <td>1</td>\n",
       "    </tr>\n",
       "    <tr>\n",
       "      <th>3</th>\n",
       "      <td>1</td>\n",
       "      <td>2583</td>\n",
       "      <td>2358.0</td>\n",
       "      <td>120.0</td>\n",
       "      <td>1.0</td>\n",
       "      <td>1</td>\n",
       "    </tr>\n",
       "    <tr>\n",
       "      <th>4</th>\n",
       "      <td>0</td>\n",
       "      <td>6000</td>\n",
       "      <td>0.0</td>\n",
       "      <td>141.0</td>\n",
       "      <td>1.0</td>\n",
       "      <td>1</td>\n",
       "    </tr>\n",
       "  </tbody>\n",
       "</table>\n",
       "</div>"
      ],
      "text/plain": [
       "   Education  ApplicantIncome  CoapplicantIncome  LoanAmount  Credit_History  \\\n",
       "0          0             5849                0.0       128.0             1.0   \n",
       "1          0             4583             1508.0       128.0             1.0   \n",
       "2          0             3000                0.0        66.0             1.0   \n",
       "3          1             2583             2358.0       120.0             1.0   \n",
       "4          0             6000                0.0       141.0             1.0   \n",
       "\n",
       "   Loan_Status  \n",
       "0            1  \n",
       "1            0  \n",
       "2            1  \n",
       "3            1  \n",
       "4            1  "
      ]
     },
     "execution_count": 52,
     "metadata": {},
     "output_type": "execute_result"
    }
   ],
   "source": [
    "data.head()"
   ]
  },
  {
   "cell_type": "code",
   "execution_count": 53,
   "id": "f4beca03",
   "metadata": {
    "execution": {
     "iopub.execute_input": "2023-05-22T03:22:54.755938Z",
     "iopub.status.busy": "2023-05-22T03:22:54.755566Z",
     "iopub.status.idle": "2023-05-22T03:22:54.771230Z",
     "shell.execute_reply": "2023-05-22T03:22:54.770414Z"
    },
    "papermill": {
     "duration": 0.08552,
     "end_time": "2023-05-22T03:22:54.773980",
     "exception": false,
     "start_time": "2023-05-22T03:22:54.688460",
     "status": "completed"
    },
    "tags": []
   },
   "outputs": [],
   "source": [
    "from sklearn.preprocessing import RobustScaler\n",
    "scaler=RobustScaler()\n",
    "data[[\"ApplicantIncome\",\"CoapplicantIncome\",\"LoanAmount\"]]=scaler.fit_transform(data[[\"ApplicantIncome\",\"CoapplicantIncome\",\"LoanAmount\"]])"
   ]
  },
  {
   "cell_type": "code",
   "execution_count": 54,
   "id": "024e1354",
   "metadata": {
    "execution": {
     "iopub.execute_input": "2023-05-22T03:22:54.852293Z",
     "iopub.status.busy": "2023-05-22T03:22:54.851996Z",
     "iopub.status.idle": "2023-05-22T03:22:54.865897Z",
     "shell.execute_reply": "2023-05-22T03:22:54.865071Z"
    },
    "papermill": {
     "duration": 0.052379,
     "end_time": "2023-05-22T03:22:54.868080",
     "exception": false,
     "start_time": "2023-05-22T03:22:54.815701",
     "status": "completed"
    },
    "tags": []
   },
   "outputs": [
    {
     "data": {
      "text/html": [
       "<div>\n",
       "<style scoped>\n",
       "    .dataframe tbody tr th:only-of-type {\n",
       "        vertical-align: middle;\n",
       "    }\n",
       "\n",
       "    .dataframe tbody tr th {\n",
       "        vertical-align: top;\n",
       "    }\n",
       "\n",
       "    .dataframe thead th {\n",
       "        text-align: right;\n",
       "    }\n",
       "</style>\n",
       "<table border=\"1\" class=\"dataframe\">\n",
       "  <thead>\n",
       "    <tr style=\"text-align: right;\">\n",
       "      <th></th>\n",
       "      <th>Education</th>\n",
       "      <th>ApplicantIncome</th>\n",
       "      <th>CoapplicantIncome</th>\n",
       "      <th>LoanAmount</th>\n",
       "      <th>Credit_History</th>\n",
       "      <th>Loan_Status</th>\n",
       "    </tr>\n",
       "  </thead>\n",
       "  <tbody>\n",
       "    <tr>\n",
       "      <th>0</th>\n",
       "      <td>0</td>\n",
       "      <td>1.102649</td>\n",
       "      <td>-0.590370</td>\n",
       "      <td>0.10</td>\n",
       "      <td>1.0</td>\n",
       "      <td>1</td>\n",
       "    </tr>\n",
       "    <tr>\n",
       "      <th>1</th>\n",
       "      <td>0</td>\n",
       "      <td>0.484560</td>\n",
       "      <td>0.097901</td>\n",
       "      <td>0.10</td>\n",
       "      <td>1.0</td>\n",
       "      <td>0</td>\n",
       "    </tr>\n",
       "    <tr>\n",
       "      <th>2</th>\n",
       "      <td>0</td>\n",
       "      <td>-0.288295</td>\n",
       "      <td>-0.590370</td>\n",
       "      <td>-1.14</td>\n",
       "      <td>1.0</td>\n",
       "      <td>1</td>\n",
       "    </tr>\n",
       "    <tr>\n",
       "      <th>3</th>\n",
       "      <td>1</td>\n",
       "      <td>-0.491883</td>\n",
       "      <td>0.485851</td>\n",
       "      <td>-0.06</td>\n",
       "      <td>1.0</td>\n",
       "      <td>1</td>\n",
       "    </tr>\n",
       "    <tr>\n",
       "      <th>4</th>\n",
       "      <td>0</td>\n",
       "      <td>1.176370</td>\n",
       "      <td>-0.590370</td>\n",
       "      <td>0.36</td>\n",
       "      <td>1.0</td>\n",
       "      <td>1</td>\n",
       "    </tr>\n",
       "  </tbody>\n",
       "</table>\n",
       "</div>"
      ],
      "text/plain": [
       "   Education  ApplicantIncome  CoapplicantIncome  LoanAmount  Credit_History  \\\n",
       "0          0         1.102649          -0.590370        0.10             1.0   \n",
       "1          0         0.484560           0.097901        0.10             1.0   \n",
       "2          0        -0.288295          -0.590370       -1.14             1.0   \n",
       "3          1        -0.491883           0.485851       -0.06             1.0   \n",
       "4          0         1.176370          -0.590370        0.36             1.0   \n",
       "\n",
       "   Loan_Status  \n",
       "0            1  \n",
       "1            0  \n",
       "2            1  \n",
       "3            1  \n",
       "4            1  "
      ]
     },
     "execution_count": 54,
     "metadata": {},
     "output_type": "execute_result"
    }
   ],
   "source": [
    "data.head()"
   ]
  },
  {
   "cell_type": "code",
   "execution_count": 55,
   "id": "890e2e8d",
   "metadata": {
    "execution": {
     "iopub.execute_input": "2023-05-22T03:22:54.937307Z",
     "iopub.status.busy": "2023-05-22T03:22:54.937035Z",
     "iopub.status.idle": "2023-05-22T03:22:54.943547Z",
     "shell.execute_reply": "2023-05-22T03:22:54.942723Z"
    },
    "papermill": {
     "duration": 0.042086,
     "end_time": "2023-05-22T03:22:54.945544",
     "exception": false,
     "start_time": "2023-05-22T03:22:54.903458",
     "status": "completed"
    },
    "tags": []
   },
   "outputs": [],
   "source": [
    "X=data.drop(\"Loan_Status\",axis=1)\n",
    "y=data[\"Loan_Status\"]"
   ]
  },
  {
   "cell_type": "code",
   "execution_count": 56,
   "id": "cda401a9",
   "metadata": {
    "execution": {
     "iopub.execute_input": "2023-05-22T03:22:55.011730Z",
     "iopub.status.busy": "2023-05-22T03:22:55.011465Z",
     "iopub.status.idle": "2023-05-22T03:22:55.015724Z",
     "shell.execute_reply": "2023-05-22T03:22:55.014740Z"
    },
    "papermill": {
     "duration": 0.0401,
     "end_time": "2023-05-22T03:22:55.017865",
     "exception": false,
     "start_time": "2023-05-22T03:22:54.977765",
     "status": "completed"
    },
    "tags": []
   },
   "outputs": [],
   "source": [
    "from sklearn.model_selection import train_test_split"
   ]
  },
  {
   "cell_type": "code",
   "execution_count": 57,
   "id": "1ae961cb",
   "metadata": {
    "execution": {
     "iopub.execute_input": "2023-05-22T03:22:55.085613Z",
     "iopub.status.busy": "2023-05-22T03:22:55.085338Z",
     "iopub.status.idle": "2023-05-22T03:22:55.092224Z",
     "shell.execute_reply": "2023-05-22T03:22:55.091444Z"
    },
    "papermill": {
     "duration": 0.042568,
     "end_time": "2023-05-22T03:22:55.094178",
     "exception": false,
     "start_time": "2023-05-22T03:22:55.051610",
     "status": "completed"
    },
    "tags": []
   },
   "outputs": [],
   "source": [
    "X_train,X_test,y_train,y_test=train_test_split(X,y,test_size=0.20,random_state=42)"
   ]
  },
  {
   "cell_type": "code",
   "execution_count": 58,
   "id": "c8409935",
   "metadata": {
    "execution": {
     "iopub.execute_input": "2023-05-22T03:22:55.161854Z",
     "iopub.status.busy": "2023-05-22T03:22:55.160480Z",
     "iopub.status.idle": "2023-05-22T03:22:55.167585Z",
     "shell.execute_reply": "2023-05-22T03:22:55.166637Z"
    },
    "papermill": {
     "duration": 0.042913,
     "end_time": "2023-05-22T03:22:55.169881",
     "exception": false,
     "start_time": "2023-05-22T03:22:55.126968",
     "status": "completed"
    },
    "tags": []
   },
   "outputs": [
    {
     "data": {
      "text/plain": [
       "((416, 5), (416,))"
      ]
     },
     "execution_count": 58,
     "metadata": {},
     "output_type": "execute_result"
    }
   ],
   "source": [
    "X_train.shape,y_train.shape"
   ]
  },
  {
   "cell_type": "code",
   "execution_count": 59,
   "id": "88744f92",
   "metadata": {
    "execution": {
     "iopub.execute_input": "2023-05-22T03:22:55.236206Z",
     "iopub.status.busy": "2023-05-22T03:22:55.235936Z",
     "iopub.status.idle": "2023-05-22T03:22:55.241891Z",
     "shell.execute_reply": "2023-05-22T03:22:55.240992Z"
    },
    "papermill": {
     "duration": 0.041526,
     "end_time": "2023-05-22T03:22:55.244024",
     "exception": false,
     "start_time": "2023-05-22T03:22:55.202498",
     "status": "completed"
    },
    "tags": []
   },
   "outputs": [
    {
     "data": {
      "text/plain": [
       "((104, 5), (104,))"
      ]
     },
     "execution_count": 59,
     "metadata": {},
     "output_type": "execute_result"
    }
   ],
   "source": [
    "X_test.shape,y_test.shape"
   ]
  },
  {
   "cell_type": "markdown",
   "id": "b7fa6ab7",
   "metadata": {
    "papermill": {
     "duration": 0.03293,
     "end_time": "2023-05-22T03:22:55.309554",
     "exception": false,
     "start_time": "2023-05-22T03:22:55.276624",
     "status": "completed"
    },
    "tags": []
   },
   "source": [
    "# Model Building"
   ]
  },
  {
   "cell_type": "markdown",
   "id": "4055d768",
   "metadata": {
    "papermill": {
     "duration": 0.032466,
     "end_time": "2023-05-22T03:22:55.375619",
     "exception": false,
     "start_time": "2023-05-22T03:22:55.343153",
     "status": "completed"
    },
    "tags": []
   },
   "source": [
    "**1. Logistic Regression**"
   ]
  },
  {
   "cell_type": "code",
   "execution_count": 60,
   "id": "39cf09be",
   "metadata": {
    "execution": {
     "iopub.execute_input": "2023-05-22T03:22:55.442125Z",
     "iopub.status.busy": "2023-05-22T03:22:55.441814Z",
     "iopub.status.idle": "2023-05-22T03:22:55.462365Z",
     "shell.execute_reply": "2023-05-22T03:22:55.461470Z"
    },
    "papermill": {
     "duration": 0.056171,
     "end_time": "2023-05-22T03:22:55.464319",
     "exception": false,
     "start_time": "2023-05-22T03:22:55.408148",
     "status": "completed"
    },
    "tags": []
   },
   "outputs": [
    {
     "data": {
      "text/html": [
       "<style>#sk-container-id-1 {color: black;background-color: white;}#sk-container-id-1 pre{padding: 0;}#sk-container-id-1 div.sk-toggleable {background-color: white;}#sk-container-id-1 label.sk-toggleable__label {cursor: pointer;display: block;width: 100%;margin-bottom: 0;padding: 0.3em;box-sizing: border-box;text-align: center;}#sk-container-id-1 label.sk-toggleable__label-arrow:before {content: \"▸\";float: left;margin-right: 0.25em;color: #696969;}#sk-container-id-1 label.sk-toggleable__label-arrow:hover:before {color: black;}#sk-container-id-1 div.sk-estimator:hover label.sk-toggleable__label-arrow:before {color: black;}#sk-container-id-1 div.sk-toggleable__content {max-height: 0;max-width: 0;overflow: hidden;text-align: left;background-color: #f0f8ff;}#sk-container-id-1 div.sk-toggleable__content pre {margin: 0.2em;color: black;border-radius: 0.25em;background-color: #f0f8ff;}#sk-container-id-1 input.sk-toggleable__control:checked~div.sk-toggleable__content {max-height: 200px;max-width: 100%;overflow: auto;}#sk-container-id-1 input.sk-toggleable__control:checked~label.sk-toggleable__label-arrow:before {content: \"▾\";}#sk-container-id-1 div.sk-estimator input.sk-toggleable__control:checked~label.sk-toggleable__label {background-color: #d4ebff;}#sk-container-id-1 div.sk-label input.sk-toggleable__control:checked~label.sk-toggleable__label {background-color: #d4ebff;}#sk-container-id-1 input.sk-hidden--visually {border: 0;clip: rect(1px 1px 1px 1px);clip: rect(1px, 1px, 1px, 1px);height: 1px;margin: -1px;overflow: hidden;padding: 0;position: absolute;width: 1px;}#sk-container-id-1 div.sk-estimator {font-family: monospace;background-color: #f0f8ff;border: 1px dotted black;border-radius: 0.25em;box-sizing: border-box;margin-bottom: 0.5em;}#sk-container-id-1 div.sk-estimator:hover {background-color: #d4ebff;}#sk-container-id-1 div.sk-parallel-item::after {content: \"\";width: 100%;border-bottom: 1px solid gray;flex-grow: 1;}#sk-container-id-1 div.sk-label:hover label.sk-toggleable__label {background-color: #d4ebff;}#sk-container-id-1 div.sk-serial::before {content: \"\";position: absolute;border-left: 1px solid gray;box-sizing: border-box;top: 0;bottom: 0;left: 50%;z-index: 0;}#sk-container-id-1 div.sk-serial {display: flex;flex-direction: column;align-items: center;background-color: white;padding-right: 0.2em;padding-left: 0.2em;position: relative;}#sk-container-id-1 div.sk-item {position: relative;z-index: 1;}#sk-container-id-1 div.sk-parallel {display: flex;align-items: stretch;justify-content: center;background-color: white;position: relative;}#sk-container-id-1 div.sk-item::before, #sk-container-id-1 div.sk-parallel-item::before {content: \"\";position: absolute;border-left: 1px solid gray;box-sizing: border-box;top: 0;bottom: 0;left: 50%;z-index: -1;}#sk-container-id-1 div.sk-parallel-item {display: flex;flex-direction: column;z-index: 1;position: relative;background-color: white;}#sk-container-id-1 div.sk-parallel-item:first-child::after {align-self: flex-end;width: 50%;}#sk-container-id-1 div.sk-parallel-item:last-child::after {align-self: flex-start;width: 50%;}#sk-container-id-1 div.sk-parallel-item:only-child::after {width: 0;}#sk-container-id-1 div.sk-dashed-wrapped {border: 1px dashed gray;margin: 0 0.4em 0.5em 0.4em;box-sizing: border-box;padding-bottom: 0.4em;background-color: white;}#sk-container-id-1 div.sk-label label {font-family: monospace;font-weight: bold;display: inline-block;line-height: 1.2em;}#sk-container-id-1 div.sk-label-container {text-align: center;}#sk-container-id-1 div.sk-container {/* jupyter's `normalize.less` sets `[hidden] { display: none; }` but bootstrap.min.css set `[hidden] { display: none !important; }` so we also need the `!important` here to be able to override the default hidden behavior on the sphinx rendered scikit-learn.org. See: https://github.com/scikit-learn/scikit-learn/issues/21755 */display: inline-block !important;position: relative;}#sk-container-id-1 div.sk-text-repr-fallback {display: none;}</style><div id=\"sk-container-id-1\" class=\"sk-top-container\"><div class=\"sk-text-repr-fallback\"><pre>LogisticRegression()</pre><b>In a Jupyter environment, please rerun this cell to show the HTML representation or trust the notebook. <br />On GitHub, the HTML representation is unable to render, please try loading this page with nbviewer.org.</b></div><div class=\"sk-container\" hidden><div class=\"sk-item\"><div class=\"sk-estimator sk-toggleable\"><input class=\"sk-toggleable__control sk-hidden--visually\" id=\"sk-estimator-id-1\" type=\"checkbox\" checked><label for=\"sk-estimator-id-1\" class=\"sk-toggleable__label sk-toggleable__label-arrow\">LogisticRegression</label><div class=\"sk-toggleable__content\"><pre>LogisticRegression()</pre></div></div></div></div></div>"
      ],
      "text/plain": [
       "LogisticRegression()"
      ]
     },
     "execution_count": 60,
     "metadata": {},
     "output_type": "execute_result"
    }
   ],
   "source": [
    "# Logistic Regression\n",
    "from sklearn.linear_model import LogisticRegression\n",
    "\n",
    "model = LogisticRegression()\n",
    "\n",
    "# fit the model\n",
    "model.fit(X_train, y_train)"
   ]
  },
  {
   "cell_type": "code",
   "execution_count": 61,
   "id": "d73f655d",
   "metadata": {
    "execution": {
     "iopub.execute_input": "2023-05-22T03:22:55.532644Z",
     "iopub.status.busy": "2023-05-22T03:22:55.532340Z",
     "iopub.status.idle": "2023-05-22T03:22:55.538141Z",
     "shell.execute_reply": "2023-05-22T03:22:55.537190Z"
    },
    "papermill": {
     "duration": 0.042905,
     "end_time": "2023-05-22T03:22:55.540371",
     "exception": false,
     "start_time": "2023-05-22T03:22:55.497466",
     "status": "completed"
    },
    "tags": []
   },
   "outputs": [],
   "source": [
    "# Making Prediction with Logistic Regression Model\n",
    "y_pred_lr = model.predict(X_test)"
   ]
  },
  {
   "cell_type": "markdown",
   "id": "d6afb19f",
   "metadata": {
    "papermill": {
     "duration": 0.033756,
     "end_time": "2023-05-22T03:22:55.607535",
     "exception": false,
     "start_time": "2023-05-22T03:22:55.573779",
     "status": "completed"
    },
    "tags": []
   },
   "source": [
    "**2. Naive Bayes Classifier**"
   ]
  },
  {
   "cell_type": "code",
   "execution_count": 62,
   "id": "1f336862",
   "metadata": {
    "execution": {
     "iopub.execute_input": "2023-05-22T03:22:55.675922Z",
     "iopub.status.busy": "2023-05-22T03:22:55.675142Z",
     "iopub.status.idle": "2023-05-22T03:22:55.692419Z",
     "shell.execute_reply": "2023-05-22T03:22:55.691593Z"
    },
    "papermill": {
     "duration": 0.053376,
     "end_time": "2023-05-22T03:22:55.694227",
     "exception": false,
     "start_time": "2023-05-22T03:22:55.640851",
     "status": "completed"
    },
    "tags": []
   },
   "outputs": [
    {
     "data": {
      "text/html": [
       "<style>#sk-container-id-2 {color: black;background-color: white;}#sk-container-id-2 pre{padding: 0;}#sk-container-id-2 div.sk-toggleable {background-color: white;}#sk-container-id-2 label.sk-toggleable__label {cursor: pointer;display: block;width: 100%;margin-bottom: 0;padding: 0.3em;box-sizing: border-box;text-align: center;}#sk-container-id-2 label.sk-toggleable__label-arrow:before {content: \"▸\";float: left;margin-right: 0.25em;color: #696969;}#sk-container-id-2 label.sk-toggleable__label-arrow:hover:before {color: black;}#sk-container-id-2 div.sk-estimator:hover label.sk-toggleable__label-arrow:before {color: black;}#sk-container-id-2 div.sk-toggleable__content {max-height: 0;max-width: 0;overflow: hidden;text-align: left;background-color: #f0f8ff;}#sk-container-id-2 div.sk-toggleable__content pre {margin: 0.2em;color: black;border-radius: 0.25em;background-color: #f0f8ff;}#sk-container-id-2 input.sk-toggleable__control:checked~div.sk-toggleable__content {max-height: 200px;max-width: 100%;overflow: auto;}#sk-container-id-2 input.sk-toggleable__control:checked~label.sk-toggleable__label-arrow:before {content: \"▾\";}#sk-container-id-2 div.sk-estimator input.sk-toggleable__control:checked~label.sk-toggleable__label {background-color: #d4ebff;}#sk-container-id-2 div.sk-label input.sk-toggleable__control:checked~label.sk-toggleable__label {background-color: #d4ebff;}#sk-container-id-2 input.sk-hidden--visually {border: 0;clip: rect(1px 1px 1px 1px);clip: rect(1px, 1px, 1px, 1px);height: 1px;margin: -1px;overflow: hidden;padding: 0;position: absolute;width: 1px;}#sk-container-id-2 div.sk-estimator {font-family: monospace;background-color: #f0f8ff;border: 1px dotted black;border-radius: 0.25em;box-sizing: border-box;margin-bottom: 0.5em;}#sk-container-id-2 div.sk-estimator:hover {background-color: #d4ebff;}#sk-container-id-2 div.sk-parallel-item::after {content: \"\";width: 100%;border-bottom: 1px solid gray;flex-grow: 1;}#sk-container-id-2 div.sk-label:hover label.sk-toggleable__label {background-color: #d4ebff;}#sk-container-id-2 div.sk-serial::before {content: \"\";position: absolute;border-left: 1px solid gray;box-sizing: border-box;top: 0;bottom: 0;left: 50%;z-index: 0;}#sk-container-id-2 div.sk-serial {display: flex;flex-direction: column;align-items: center;background-color: white;padding-right: 0.2em;padding-left: 0.2em;position: relative;}#sk-container-id-2 div.sk-item {position: relative;z-index: 1;}#sk-container-id-2 div.sk-parallel {display: flex;align-items: stretch;justify-content: center;background-color: white;position: relative;}#sk-container-id-2 div.sk-item::before, #sk-container-id-2 div.sk-parallel-item::before {content: \"\";position: absolute;border-left: 1px solid gray;box-sizing: border-box;top: 0;bottom: 0;left: 50%;z-index: -1;}#sk-container-id-2 div.sk-parallel-item {display: flex;flex-direction: column;z-index: 1;position: relative;background-color: white;}#sk-container-id-2 div.sk-parallel-item:first-child::after {align-self: flex-end;width: 50%;}#sk-container-id-2 div.sk-parallel-item:last-child::after {align-self: flex-start;width: 50%;}#sk-container-id-2 div.sk-parallel-item:only-child::after {width: 0;}#sk-container-id-2 div.sk-dashed-wrapped {border: 1px dashed gray;margin: 0 0.4em 0.5em 0.4em;box-sizing: border-box;padding-bottom: 0.4em;background-color: white;}#sk-container-id-2 div.sk-label label {font-family: monospace;font-weight: bold;display: inline-block;line-height: 1.2em;}#sk-container-id-2 div.sk-label-container {text-align: center;}#sk-container-id-2 div.sk-container {/* jupyter's `normalize.less` sets `[hidden] { display: none; }` but bootstrap.min.css set `[hidden] { display: none !important; }` so we also need the `!important` here to be able to override the default hidden behavior on the sphinx rendered scikit-learn.org. See: https://github.com/scikit-learn/scikit-learn/issues/21755 */display: inline-block !important;position: relative;}#sk-container-id-2 div.sk-text-repr-fallback {display: none;}</style><div id=\"sk-container-id-2\" class=\"sk-top-container\"><div class=\"sk-text-repr-fallback\"><pre>GaussianNB()</pre><b>In a Jupyter environment, please rerun this cell to show the HTML representation or trust the notebook. <br />On GitHub, the HTML representation is unable to render, please try loading this page with nbviewer.org.</b></div><div class=\"sk-container\" hidden><div class=\"sk-item\"><div class=\"sk-estimator sk-toggleable\"><input class=\"sk-toggleable__control sk-hidden--visually\" id=\"sk-estimator-id-2\" type=\"checkbox\" checked><label for=\"sk-estimator-id-2\" class=\"sk-toggleable__label sk-toggleable__label-arrow\">GaussianNB</label><div class=\"sk-toggleable__content\"><pre>GaussianNB()</pre></div></div></div></div></div>"
      ],
      "text/plain": [
       "GaussianNB()"
      ]
     },
     "execution_count": 62,
     "metadata": {},
     "output_type": "execute_result"
    }
   ],
   "source": [
    "# Naive Bayes Classifier\n",
    "from sklearn.naive_bayes import GaussianNB\n",
    "clf = GaussianNB()\n",
    "\n",
    "# fit the model\n",
    "clf.fit(X_train, y_train)"
   ]
  },
  {
   "cell_type": "code",
   "execution_count": 63,
   "id": "6fb5c0dd",
   "metadata": {
    "execution": {
     "iopub.execute_input": "2023-05-22T03:22:55.762490Z",
     "iopub.status.busy": "2023-05-22T03:22:55.761746Z",
     "iopub.status.idle": "2023-05-22T03:22:55.767610Z",
     "shell.execute_reply": "2023-05-22T03:22:55.766817Z"
    },
    "papermill": {
     "duration": 0.04269,
     "end_time": "2023-05-22T03:22:55.769741",
     "exception": false,
     "start_time": "2023-05-22T03:22:55.727051",
     "status": "completed"
    },
    "tags": []
   },
   "outputs": [],
   "source": [
    "# making prediction with Naive Bayes\n",
    "y_pred_nb = clf.predict(X_test)"
   ]
  },
  {
   "cell_type": "markdown",
   "id": "afa169b3",
   "metadata": {
    "papermill": {
     "duration": 0.032984,
     "end_time": "2023-05-22T03:22:55.836078",
     "exception": false,
     "start_time": "2023-05-22T03:22:55.803094",
     "status": "completed"
    },
    "tags": []
   },
   "source": [
    "**3. Support Vector Machine**"
   ]
  },
  {
   "cell_type": "code",
   "execution_count": 64,
   "id": "806fab74",
   "metadata": {
    "execution": {
     "iopub.execute_input": "2023-05-22T03:22:55.905507Z",
     "iopub.status.busy": "2023-05-22T03:22:55.904684Z",
     "iopub.status.idle": "2023-05-22T03:22:55.924731Z",
     "shell.execute_reply": "2023-05-22T03:22:55.923765Z"
    },
    "papermill": {
     "duration": 0.057713,
     "end_time": "2023-05-22T03:22:55.926844",
     "exception": false,
     "start_time": "2023-05-22T03:22:55.869131",
     "status": "completed"
    },
    "tags": []
   },
   "outputs": [
    {
     "data": {
      "text/html": [
       "<style>#sk-container-id-3 {color: black;background-color: white;}#sk-container-id-3 pre{padding: 0;}#sk-container-id-3 div.sk-toggleable {background-color: white;}#sk-container-id-3 label.sk-toggleable__label {cursor: pointer;display: block;width: 100%;margin-bottom: 0;padding: 0.3em;box-sizing: border-box;text-align: center;}#sk-container-id-3 label.sk-toggleable__label-arrow:before {content: \"▸\";float: left;margin-right: 0.25em;color: #696969;}#sk-container-id-3 label.sk-toggleable__label-arrow:hover:before {color: black;}#sk-container-id-3 div.sk-estimator:hover label.sk-toggleable__label-arrow:before {color: black;}#sk-container-id-3 div.sk-toggleable__content {max-height: 0;max-width: 0;overflow: hidden;text-align: left;background-color: #f0f8ff;}#sk-container-id-3 div.sk-toggleable__content pre {margin: 0.2em;color: black;border-radius: 0.25em;background-color: #f0f8ff;}#sk-container-id-3 input.sk-toggleable__control:checked~div.sk-toggleable__content {max-height: 200px;max-width: 100%;overflow: auto;}#sk-container-id-3 input.sk-toggleable__control:checked~label.sk-toggleable__label-arrow:before {content: \"▾\";}#sk-container-id-3 div.sk-estimator input.sk-toggleable__control:checked~label.sk-toggleable__label {background-color: #d4ebff;}#sk-container-id-3 div.sk-label input.sk-toggleable__control:checked~label.sk-toggleable__label {background-color: #d4ebff;}#sk-container-id-3 input.sk-hidden--visually {border: 0;clip: rect(1px 1px 1px 1px);clip: rect(1px, 1px, 1px, 1px);height: 1px;margin: -1px;overflow: hidden;padding: 0;position: absolute;width: 1px;}#sk-container-id-3 div.sk-estimator {font-family: monospace;background-color: #f0f8ff;border: 1px dotted black;border-radius: 0.25em;box-sizing: border-box;margin-bottom: 0.5em;}#sk-container-id-3 div.sk-estimator:hover {background-color: #d4ebff;}#sk-container-id-3 div.sk-parallel-item::after {content: \"\";width: 100%;border-bottom: 1px solid gray;flex-grow: 1;}#sk-container-id-3 div.sk-label:hover label.sk-toggleable__label {background-color: #d4ebff;}#sk-container-id-3 div.sk-serial::before {content: \"\";position: absolute;border-left: 1px solid gray;box-sizing: border-box;top: 0;bottom: 0;left: 50%;z-index: 0;}#sk-container-id-3 div.sk-serial {display: flex;flex-direction: column;align-items: center;background-color: white;padding-right: 0.2em;padding-left: 0.2em;position: relative;}#sk-container-id-3 div.sk-item {position: relative;z-index: 1;}#sk-container-id-3 div.sk-parallel {display: flex;align-items: stretch;justify-content: center;background-color: white;position: relative;}#sk-container-id-3 div.sk-item::before, #sk-container-id-3 div.sk-parallel-item::before {content: \"\";position: absolute;border-left: 1px solid gray;box-sizing: border-box;top: 0;bottom: 0;left: 50%;z-index: -1;}#sk-container-id-3 div.sk-parallel-item {display: flex;flex-direction: column;z-index: 1;position: relative;background-color: white;}#sk-container-id-3 div.sk-parallel-item:first-child::after {align-self: flex-end;width: 50%;}#sk-container-id-3 div.sk-parallel-item:last-child::after {align-self: flex-start;width: 50%;}#sk-container-id-3 div.sk-parallel-item:only-child::after {width: 0;}#sk-container-id-3 div.sk-dashed-wrapped {border: 1px dashed gray;margin: 0 0.4em 0.5em 0.4em;box-sizing: border-box;padding-bottom: 0.4em;background-color: white;}#sk-container-id-3 div.sk-label label {font-family: monospace;font-weight: bold;display: inline-block;line-height: 1.2em;}#sk-container-id-3 div.sk-label-container {text-align: center;}#sk-container-id-3 div.sk-container {/* jupyter's `normalize.less` sets `[hidden] { display: none; }` but bootstrap.min.css set `[hidden] { display: none !important; }` so we also need the `!important` here to be able to override the default hidden behavior on the sphinx rendered scikit-learn.org. See: https://github.com/scikit-learn/scikit-learn/issues/21755 */display: inline-block !important;position: relative;}#sk-container-id-3 div.sk-text-repr-fallback {display: none;}</style><div id=\"sk-container-id-3\" class=\"sk-top-container\"><div class=\"sk-text-repr-fallback\"><pre>SVC(kernel=&#x27;poly&#x27;)</pre><b>In a Jupyter environment, please rerun this cell to show the HTML representation or trust the notebook. <br />On GitHub, the HTML representation is unable to render, please try loading this page with nbviewer.org.</b></div><div class=\"sk-container\" hidden><div class=\"sk-item\"><div class=\"sk-estimator sk-toggleable\"><input class=\"sk-toggleable__control sk-hidden--visually\" id=\"sk-estimator-id-3\" type=\"checkbox\" checked><label for=\"sk-estimator-id-3\" class=\"sk-toggleable__label sk-toggleable__label-arrow\">SVC</label><div class=\"sk-toggleable__content\"><pre>SVC(kernel=&#x27;poly&#x27;)</pre></div></div></div></div></div>"
      ],
      "text/plain": [
       "SVC(kernel='poly')"
      ]
     },
     "execution_count": 64,
     "metadata": {},
     "output_type": "execute_result"
    }
   ],
   "source": [
    "# Support Vector Machine\n",
    "from sklearn import svm\n",
    "classifier = svm.SVC(kernel = 'poly')\n",
    "\n",
    "#fit the model\n",
    "classifier.fit(X_train, y_train)"
   ]
  },
  {
   "cell_type": "code",
   "execution_count": 65,
   "id": "0c158778",
   "metadata": {
    "execution": {
     "iopub.execute_input": "2023-05-22T03:22:55.998300Z",
     "iopub.status.busy": "2023-05-22T03:22:55.997189Z",
     "iopub.status.idle": "2023-05-22T03:22:56.005495Z",
     "shell.execute_reply": "2023-05-22T03:22:56.004539Z"
    },
    "papermill": {
     "duration": 0.045395,
     "end_time": "2023-05-22T03:22:56.007830",
     "exception": false,
     "start_time": "2023-05-22T03:22:55.962435",
     "status": "completed"
    },
    "tags": []
   },
   "outputs": [],
   "source": [
    "# Make a prediction for the test set with SVM\n",
    "y_pred_svm = classifier.predict(X_test)"
   ]
  },
  {
   "cell_type": "markdown",
   "id": "e3b47483",
   "metadata": {
    "papermill": {
     "duration": 0.033013,
     "end_time": "2023-05-22T03:22:56.077872",
     "exception": false,
     "start_time": "2023-05-22T03:22:56.044859",
     "status": "completed"
    },
    "tags": []
   },
   "source": [
    "# Model Evaluation"
   ]
  },
  {
   "cell_type": "code",
   "execution_count": 66,
   "id": "00fe1692",
   "metadata": {
    "execution": {
     "iopub.execute_input": "2023-05-22T03:22:56.145797Z",
     "iopub.status.busy": "2023-05-22T03:22:56.145488Z",
     "iopub.status.idle": "2023-05-22T03:22:56.150030Z",
     "shell.execute_reply": "2023-05-22T03:22:56.149019Z"
    },
    "papermill": {
     "duration": 0.040604,
     "end_time": "2023-05-22T03:22:56.151934",
     "exception": false,
     "start_time": "2023-05-22T03:22:56.111330",
     "status": "completed"
    },
    "tags": []
   },
   "outputs": [],
   "source": [
    "from sklearn.metrics import accuracy_score, confusion_matrix, f1_score, precision_score, recall_score, classification_report"
   ]
  },
  {
   "cell_type": "markdown",
   "id": "2e1b89f5",
   "metadata": {
    "papermill": {
     "duration": 0.032994,
     "end_time": "2023-05-22T03:22:56.218024",
     "exception": false,
     "start_time": "2023-05-22T03:22:56.185030",
     "status": "completed"
    },
    "tags": []
   },
   "source": [
    "* **Accuracy Score**"
   ]
  },
  {
   "cell_type": "code",
   "execution_count": 67,
   "id": "74cd29c4",
   "metadata": {
    "execution": {
     "iopub.execute_input": "2023-05-22T03:22:56.286277Z",
     "iopub.status.busy": "2023-05-22T03:22:56.285509Z",
     "iopub.status.idle": "2023-05-22T03:22:56.293981Z",
     "shell.execute_reply": "2023-05-22T03:22:56.292936Z"
    },
    "papermill": {
     "duration": 0.044831,
     "end_time": "2023-05-22T03:22:56.296154",
     "exception": false,
     "start_time": "2023-05-22T03:22:56.251323",
     "status": "completed"
    },
    "tags": []
   },
   "outputs": [
    {
     "name": "stdout",
     "output_type": "stream",
     "text": [
      "Accuracy Score on test data using Logistic Regression: 0.8076923076923077\n",
      "Accuracy Score on test data using Naive Bayes: 0.8076923076923077\n",
      "Accuracy Score on test data using SVM: 0.8076923076923077\n"
     ]
    }
   ],
   "source": [
    "print(\"Accuracy Score on test data using Logistic Regression:\", accuracy_score(y_test, y_pred_lr))\n",
    "print(\"Accuracy Score on test data using Naive Bayes:\", accuracy_score(y_test, y_pred_nb))\n",
    "print(\"Accuracy Score on test data using SVM:\", accuracy_score(y_test, y_pred_svm))"
   ]
  },
  {
   "cell_type": "markdown",
   "id": "672d8cb1",
   "metadata": {
    "papermill": {
     "duration": 0.038366,
     "end_time": "2023-05-22T03:22:56.367875",
     "exception": false,
     "start_time": "2023-05-22T03:22:56.329509",
     "status": "completed"
    },
    "tags": []
   },
   "source": [
    "* **Precision Score:**"
   ]
  },
  {
   "cell_type": "code",
   "execution_count": 68,
   "id": "b901eb0f",
   "metadata": {
    "execution": {
     "iopub.execute_input": "2023-05-22T03:22:56.440280Z",
     "iopub.status.busy": "2023-05-22T03:22:56.439964Z",
     "iopub.status.idle": "2023-05-22T03:22:56.452816Z",
     "shell.execute_reply": "2023-05-22T03:22:56.451464Z"
    },
    "papermill": {
     "duration": 0.049529,
     "end_time": "2023-05-22T03:22:56.454824",
     "exception": false,
     "start_time": "2023-05-22T03:22:56.405295",
     "status": "completed"
    },
    "tags": []
   },
   "outputs": [
    {
     "name": "stdout",
     "output_type": "stream",
     "text": [
      "Precision Score: 0.7976190476190477\n",
      "Precision Score: 0.7976190476190477\n",
      "Precision Score: 0.7976190476190477\n"
     ]
    }
   ],
   "source": [
    "print('Precision Score:', precision_score(y_test, y_pred_lr))\n",
    "print('Precision Score:', precision_score(y_test, y_pred_nb))\n",
    "print('Precision Score:', precision_score(y_test, y_pred_svm))"
   ]
  },
  {
   "cell_type": "markdown",
   "id": "f862dc00",
   "metadata": {
    "papermill": {
     "duration": 0.033779,
     "end_time": "2023-05-22T03:22:56.523456",
     "exception": false,
     "start_time": "2023-05-22T03:22:56.489677",
     "status": "completed"
    },
    "tags": []
   },
   "source": [
    "* **recall-score**"
   ]
  },
  {
   "cell_type": "code",
   "execution_count": 69,
   "id": "8c28483d",
   "metadata": {
    "execution": {
     "iopub.execute_input": "2023-05-22T03:22:56.594746Z",
     "iopub.status.busy": "2023-05-22T03:22:56.594407Z",
     "iopub.status.idle": "2023-05-22T03:22:56.606649Z",
     "shell.execute_reply": "2023-05-22T03:22:56.605314Z"
    },
    "papermill": {
     "duration": 0.051938,
     "end_time": "2023-05-22T03:22:56.608863",
     "exception": false,
     "start_time": "2023-05-22T03:22:56.556925",
     "status": "completed"
    },
    "tags": []
   },
   "outputs": [
    {
     "name": "stdout",
     "output_type": "stream",
     "text": [
      "Recall Score: 0.9571428571428572\n",
      "Recall Score: 0.9571428571428572\n",
      "Recall Score: 0.9571428571428572\n"
     ]
    }
   ],
   "source": [
    "print('Recall Score:', recall_score(y_test, y_pred_lr))\n",
    "print('Recall Score:', recall_score(y_test, y_pred_nb))\n",
    "print('Recall Score:', recall_score(y_test, y_pred_svm))"
   ]
  },
  {
   "cell_type": "markdown",
   "id": "dd4475d3",
   "metadata": {
    "papermill": {
     "duration": 0.03376,
     "end_time": "2023-05-22T03:22:56.676763",
     "exception": false,
     "start_time": "2023-05-22T03:22:56.643003",
     "status": "completed"
    },
    "tags": []
   },
   "source": [
    "* **F1-score**"
   ]
  },
  {
   "cell_type": "code",
   "execution_count": 70,
   "id": "70a4dfff",
   "metadata": {
    "execution": {
     "iopub.execute_input": "2023-05-22T03:22:56.745534Z",
     "iopub.status.busy": "2023-05-22T03:22:56.744755Z",
     "iopub.status.idle": "2023-05-22T03:22:56.756301Z",
     "shell.execute_reply": "2023-05-22T03:22:56.755170Z"
    },
    "papermill": {
     "duration": 0.047763,
     "end_time": "2023-05-22T03:22:56.758280",
     "exception": false,
     "start_time": "2023-05-22T03:22:56.710517",
     "status": "completed"
    },
    "tags": []
   },
   "outputs": [
    {
     "name": "stdout",
     "output_type": "stream",
     "text": [
      "F1 Score: 0.8701298701298702\n",
      "F1 Score: 0.8701298701298702\n",
      "F1 Score: 0.8701298701298702\n"
     ]
    }
   ],
   "source": [
    "print('F1 Score:', f1_score(y_test, y_pred_lr))\n",
    "print('F1 Score:', f1_score(y_test, y_pred_nb))\n",
    "print('F1 Score:', f1_score(y_test, y_pred_svm))"
   ]
  },
  {
   "cell_type": "markdown",
   "id": "f6d23ca4",
   "metadata": {
    "papermill": {
     "duration": 0.033613,
     "end_time": "2023-05-22T03:22:56.826592",
     "exception": false,
     "start_time": "2023-05-22T03:22:56.792979",
     "status": "completed"
    },
    "tags": []
   },
   "source": [
    "# **classification report**"
   ]
  },
  {
   "cell_type": "code",
   "execution_count": 71,
   "id": "fdca5968",
   "metadata": {
    "execution": {
     "iopub.execute_input": "2023-05-22T03:22:56.895833Z",
     "iopub.status.busy": "2023-05-22T03:22:56.895046Z",
     "iopub.status.idle": "2023-05-22T03:22:56.907178Z",
     "shell.execute_reply": "2023-05-22T03:22:56.906083Z"
    },
    "papermill": {
     "duration": 0.04947,
     "end_time": "2023-05-22T03:22:56.909586",
     "exception": false,
     "start_time": "2023-05-22T03:22:56.860116",
     "status": "completed"
    },
    "tags": []
   },
   "outputs": [
    {
     "name": "stdout",
     "output_type": "stream",
     "text": [
      "              precision    recall  f1-score   support\n",
      "\n",
      "           0       0.85      0.50      0.63        34\n",
      "           1       0.80      0.96      0.87        70\n",
      "\n",
      "    accuracy                           0.81       104\n",
      "   macro avg       0.82      0.73      0.75       104\n",
      "weighted avg       0.81      0.81      0.79       104\n",
      "\n"
     ]
    }
   ],
   "source": [
    "print(classification_report(y_test, y_pred_svm))"
   ]
  },
  {
   "cell_type": "markdown",
   "id": "8c7ca7d4",
   "metadata": {
    "papermill": {
     "duration": 0.033752,
     "end_time": "2023-05-22T03:22:56.979328",
     "exception": false,
     "start_time": "2023-05-22T03:22:56.945576",
     "status": "completed"
    },
    "tags": []
   },
   "source": [
    "# **confusion matrix**"
   ]
  },
  {
   "cell_type": "code",
   "execution_count": 72,
   "id": "bbfc118a",
   "metadata": {
    "execution": {
     "iopub.execute_input": "2023-05-22T03:22:57.048496Z",
     "iopub.status.busy": "2023-05-22T03:22:57.047489Z",
     "iopub.status.idle": "2023-05-22T03:22:57.302479Z",
     "shell.execute_reply": "2023-05-22T03:22:57.301623Z"
    },
    "papermill": {
     "duration": 0.291615,
     "end_time": "2023-05-22T03:22:57.304529",
     "exception": false,
     "start_time": "2023-05-22T03:22:57.012914",
     "status": "completed"
    },
    "tags": []
   },
   "outputs": [
    {
     "data": {
      "text/plain": [
       "<AxesSubplot: >"
      ]
     },
     "execution_count": 72,
     "metadata": {},
     "output_type": "execute_result"
    },
    {
     "data": {
      "image/png": "[encoded data removed]",
      "text/plain": [
       "<Figure size 640x480 with 2 Axes>"
      ]
     },
     "metadata": {},
     "output_type": "display_data"
    }
   ],
   "source": [
    "cm=confusion_matrix(y_test,y_pred_svm)\n",
    "sns.heatmap(cm,annot=True,cmap = 'OrRd')"
   ]
  },
  {
   "cell_type": "markdown",
   "id": "7c6bc884",
   "metadata": {
    "papermill": {
     "duration": 0.034178,
     "end_time": "2023-05-22T03:22:57.373963",
     "exception": false,
     "start_time": "2023-05-22T03:22:57.339785",
     "status": "completed"
    },
    "tags": []
   },
   "source": [
    "# Hyper Parameter Tunning"
   ]
  },
  {
   "cell_type": "code",
   "execution_count": 73,
   "id": "abf6999b",
   "metadata": {
    "execution": {
     "iopub.execute_input": "2023-05-22T03:22:57.444596Z",
     "iopub.status.busy": "2023-05-22T03:22:57.443690Z",
     "iopub.status.idle": "2023-05-22T03:22:57.448690Z",
     "shell.execute_reply": "2023-05-22T03:22:57.447755Z"
    },
    "papermill": {
     "duration": 0.042684,
     "end_time": "2023-05-22T03:22:57.450750",
     "exception": false,
     "start_time": "2023-05-22T03:22:57.408066",
     "status": "completed"
    },
    "tags": []
   },
   "outputs": [],
   "source": [
    "from sklearn.model_selection import GridSearchCV"
   ]
  },
  {
   "cell_type": "code",
   "execution_count": 74,
   "id": "55b39505",
   "metadata": {
    "execution": {
     "iopub.execute_input": "2023-05-22T03:22:57.521479Z",
     "iopub.status.busy": "2023-05-22T03:22:57.520568Z",
     "iopub.status.idle": "2023-05-22T03:22:57.525856Z",
     "shell.execute_reply": "2023-05-22T03:22:57.525047Z"
    },
    "papermill": {
     "duration": 0.042652,
     "end_time": "2023-05-22T03:22:57.527768",
     "exception": false,
     "start_time": "2023-05-22T03:22:57.485116",
     "status": "completed"
    },
    "tags": []
   },
   "outputs": [],
   "source": [
    "param_grid={'C':[0.1,1,10,100,1000],\n",
    "            'gamma':[1,0.1,0.01,0.001,0.0001],\n",
    "            'kernel': ['rbf','poly']}"
   ]
  },
  {
   "cell_type": "code",
   "execution_count": 75,
   "id": "9a432d20",
   "metadata": {
    "execution": {
     "iopub.execute_input": "2023-05-22T03:22:57.597397Z",
     "iopub.status.busy": "2023-05-22T03:22:57.596657Z",
     "iopub.status.idle": "2023-05-22T03:26:09.301918Z",
     "shell.execute_reply": "2023-05-22T03:26:09.300821Z"
    },
    "papermill": {
     "duration": 191.778108,
     "end_time": "2023-05-22T03:26:09.340067",
     "exception": false,
     "start_time": "2023-05-22T03:22:57.561959",
     "status": "completed"
    },
    "tags": []
   },
   "outputs": [
    {
     "name": "stdout",
     "output_type": "stream",
     "text": [
      "Fitting 5 folds for each of 50 candidates, totalling 250 fits\n"
     ]
    },
    {
     "name": "stderr",
     "output_type": "stream",
     "text": [
      "/opt/conda/lib/python3.10/site-packages/scipy/__init__.py:146: UserWarning: A NumPy version >=1.16.5 and <1.23.0 is required for this version of SciPy (detected version 1.23.5\n",
      "  warnings.warn(f\"A NumPy version >={np_minversion} and <{np_maxversion}\"\n",
      "/opt/conda/lib/python3.10/site-packages/scipy/__init__.py:146: UserWarning: A NumPy version >=1.16.5 and <1.23.0 is required for this version of SciPy (detected version 1.23.5\n",
      "  warnings.warn(f\"A NumPy version >={np_minversion} and <{np_maxversion}\"\n"
     ]
    },
    {
     "name": "stdout",
     "output_type": "stream",
     "text": [
      "[CV 2/5] END ........C=0.1, gamma=1, kernel=rbf;, score=0.759 total time=   0.0s\n",
      "[CV 2/5] END .......C=0.1, gamma=1, kernel=poly;, score=0.795 total time=   0.0s\n",
      "[CV 4/5] END .......C=0.1, gamma=1, kernel=poly;, score=0.831 total time=   0.0s\n",
      "[CV 1/5] END ......C=0.1, gamma=0.1, kernel=rbf;, score=0.702 total time=   0.0s\n",
      "[CV 2/5] END ......C=0.1, gamma=0.1, kernel=rbf;, score=0.711 total time=   0.0s\n",
      "[CV 4/5] END ......C=0.1, gamma=0.1, kernel=rbf;, score=0.699 total time=   0.0s\n",
      "[CV 1/5] END .....C=0.1, gamma=0.1, kernel=poly;, score=0.702 total time=   0.0s\n",
      "[CV 3/5] END .....C=0.1, gamma=0.1, kernel=poly;, score=0.699 total time=   0.0s\n",
      "[CV 1/5] END .....C=0.1, gamma=0.01, kernel=rbf;, score=0.702 total time=   0.0s\n",
      "[CV 2/5] END .....C=0.1, gamma=0.01, kernel=rbf;, score=0.711 total time=   0.0s\n",
      "[CV 5/5] END .....C=0.1, gamma=0.01, kernel=rbf;, score=0.699 total time=   0.0s\n",
      "[CV 1/5] END ....C=0.1, gamma=0.01, kernel=poly;, score=0.702 total time=   0.0s\n",
      "[CV 1/5] END ....C=0.1, gamma=0.001, kernel=rbf;, score=0.702 total time=   0.0s\n",
      "[CV 2/5] END ....C=0.1, gamma=0.001, kernel=rbf;, score=0.711 total time=   0.0s\n",
      "[CV 3/5] END ....C=0.1, gamma=0.001, kernel=rbf;, score=0.699 total time=   0.0s\n",
      "[CV 4/5] END ....C=0.1, gamma=0.001, kernel=rbf;, score=0.699 total time=   0.0s\n",
      "[CV 4/5] END ...C=0.1, gamma=0.001, kernel=poly;, score=0.699 total time=   0.0s\n",
      "[CV 5/5] END ...C=0.1, gamma=0.001, kernel=poly;, score=0.699 total time=   0.0s\n",
      "[CV 1/5] END ...C=0.1, gamma=0.0001, kernel=rbf;, score=0.702 total time=   0.0s\n",
      "[CV 2/5] END ...C=0.1, gamma=0.0001, kernel=rbf;, score=0.711 total time=   0.0s\n",
      "[CV 1/5] END ..........C=1, gamma=1, kernel=rbf;, score=0.821 total time=   0.0s\n",
      "[CV 2/5] END ..........C=1, gamma=1, kernel=rbf;, score=0.807 total time=   0.0s\n",
      "[CV 3/5] END ..........C=1, gamma=1, kernel=rbf;, score=0.807 total time=   0.0s\n",
      "[CV 4/5] END ..........C=1, gamma=1, kernel=rbf;, score=0.819 total time=   0.0s\n",
      "[CV 5/5] END ..........C=1, gamma=1, kernel=rbf;, score=0.831 total time=   0.0s\n",
      "[CV 1/5] END .........C=1, gamma=1, kernel=poly;, score=0.810 total time=   0.1s\n",
      "[CV 2/5] END .........C=1, gamma=1, kernel=poly;, score=0.795 total time=   0.0s\n",
      "[CV 3/5] END .........C=1, gamma=1, kernel=poly;, score=0.843 total time=   0.0s\n",
      "[CV 2/5] END .......C=1, gamma=0.1, kernel=poly;, score=0.711 total time=   0.0s\n",
      "[CV 3/5] END .......C=1, gamma=0.1, kernel=poly;, score=0.699 total time=   0.0s\n",
      "[CV 4/5] END .......C=1, gamma=0.1, kernel=poly;, score=0.699 total time=   0.0s\n",
      "[CV 5/5] END .......C=1, gamma=0.1, kernel=poly;, score=0.699 total time=   0.0s\n",
      "[CV 1/5] END .......C=1, gamma=0.01, kernel=rbf;, score=0.702 total time=   0.0s\n",
      "[CV 2/5] END .......C=1, gamma=0.01, kernel=rbf;, score=0.711 total time=   0.0s\n",
      "[CV 3/5] END .......C=1, gamma=0.01, kernel=rbf;, score=0.699 total time=   0.0s\n",
      "[CV 4/5] END .......C=1, gamma=0.01, kernel=rbf;, score=0.699 total time=   0.0s\n",
      "[CV 5/5] END .......C=1, gamma=0.01, kernel=rbf;, score=0.699 total time=   0.0s\n",
      "[CV 1/5] END ......C=1, gamma=0.01, kernel=poly;, score=0.702 total time=   0.0s\n",
      "[CV 2/5] END ......C=1, gamma=0.01, kernel=poly;, score=0.711 total time=   0.0s\n",
      "[CV 3/5] END ......C=1, gamma=0.01, kernel=poly;, score=0.699 total time=   0.0s\n",
      "[CV 4/5] END ......C=1, gamma=0.01, kernel=poly;, score=0.699 total time=   0.0s\n",
      "[CV 5/5] END ......C=1, gamma=0.01, kernel=poly;, score=0.699 total time=   0.0s\n",
      "[CV 1/5] END ......C=1, gamma=0.001, kernel=rbf;, score=0.702 total time=   0.0s\n",
      "[CV 2/5] END ......C=1, gamma=0.001, kernel=rbf;, score=0.711 total time=   0.0s\n",
      "[CV 3/5] END ......C=1, gamma=0.001, kernel=rbf;, score=0.699 total time=   0.0s\n",
      "[CV 4/5] END ......C=1, gamma=0.001, kernel=rbf;, score=0.699 total time=   0.0s\n",
      "[CV 5/5] END ......C=1, gamma=0.001, kernel=rbf;, score=0.699 total time=   0.0s\n",
      "[CV 1/5] END .....C=1, gamma=0.001, kernel=poly;, score=0.702 total time=   0.0s\n",
      "[CV 2/5] END .....C=1, gamma=0.001, kernel=poly;, score=0.711 total time=   0.0s\n",
      "[CV 3/5] END .....C=1, gamma=0.001, kernel=poly;, score=0.699 total time=   0.0s\n",
      "[CV 4/5] END .....C=1, gamma=0.001, kernel=poly;, score=0.699 total time=   0.0s\n",
      "[CV 5/5] END .....C=1, gamma=0.001, kernel=poly;, score=0.699 total time=   0.0s\n",
      "[CV 2/5] END ........C=10, gamma=1, kernel=poly;, score=0.795 total time=   1.5s\n",
      "[CV 3/5] END ........C=10, gamma=1, kernel=poly;, score=0.843 total time=   0.8s\n",
      "[CV 4/5] END ........C=10, gamma=1, kernel=poly;, score=0.831 total time=   0.6s\n",
      "[CV 5/5] END ........C=10, gamma=1, kernel=poly;, score=0.807 total time=   0.7s\n",
      "[CV 1/5] END .......C=10, gamma=0.1, kernel=rbf;, score=0.821 total time=   0.0s\n",
      "[CV 2/5] END .......C=10, gamma=0.1, kernel=rbf;, score=0.807 total time=   0.0s\n",
      "[CV 3/5] END .......C=10, gamma=0.1, kernel=rbf;, score=0.831 total time=   0.0s\n",
      "[CV 4/5] END .......C=10, gamma=0.1, kernel=rbf;, score=0.831 total time=   0.0s\n",
      "[CV 5/5] END .......C=10, gamma=0.1, kernel=rbf;, score=0.855 total time=   0.0s\n",
      "[CV 1/5] END ......C=10, gamma=0.1, kernel=poly;, score=0.726 total time=   0.0s\n",
      "[CV 2/5] END ......C=10, gamma=0.1, kernel=poly;, score=0.711 total time=   0.0s\n",
      "[CV 3/5] END ......C=10, gamma=0.1, kernel=poly;, score=0.699 total time=   0.0s\n",
      "[CV 4/5] END ......C=10, gamma=0.1, kernel=poly;, score=0.711 total time=   0.0s\n",
      "[CV 5/5] END ......C=10, gamma=0.1, kernel=poly;, score=0.723 total time=   0.0s\n",
      "[CV 1/5] END ......C=10, gamma=0.01, kernel=rbf;, score=0.821 total time=   0.0s\n",
      "[CV 2/5] END ......C=10, gamma=0.01, kernel=rbf;, score=0.807 total time=   0.0s\n",
      "[CV 1/5] END .....C=100, gamma=0.01, kernel=rbf;, score=0.821 total time=   0.0s\n",
      "[CV 2/5] END .....C=100, gamma=0.01, kernel=rbf;, score=0.807 total time=   0.0s\n",
      "[CV 3/5] END .....C=100, gamma=0.01, kernel=rbf;, score=0.831 total time=   0.0s\n",
      "[CV 4/5] END .....C=100, gamma=0.01, kernel=rbf;, score=0.831 total time=   0.0s\n",
      "[CV 5/5] END .....C=100, gamma=0.01, kernel=rbf;, score=0.855 total time=   0.0s\n",
      "[CV 1/5] END ....C=100, gamma=0.01, kernel=poly;, score=0.702 total time=   0.0s\n",
      "[CV 2/5] END ....C=100, gamma=0.01, kernel=poly;, score=0.711 total time=   0.0s\n",
      "[CV 3/5] END ....C=100, gamma=0.01, kernel=poly;, score=0.699 total time=   0.0s\n",
      "[CV 4/5] END ....C=100, gamma=0.01, kernel=poly;, score=0.699 total time=   0.0s\n",
      "[CV 5/5] END ....C=100, gamma=0.01, kernel=poly;, score=0.699 total time=   0.0s\n",
      "[CV 1/5] END ....C=100, gamma=0.001, kernel=rbf;, score=0.821 total time=   0.0s\n",
      "[CV 2/5] END ....C=100, gamma=0.001, kernel=rbf;, score=0.807 total time=   0.0s\n",
      "[CV 3/5] END ....C=100, gamma=0.001, kernel=rbf;, score=0.831 total time=   0.0s\n",
      "[CV 4/5] END ....C=100, gamma=0.001, kernel=rbf;, score=0.831 total time=   0.0s\n",
      "[CV 5/5] END ....C=100, gamma=0.001, kernel=rbf;, score=0.855 total time=   0.0s\n",
      "[CV 1/5] END ...C=100, gamma=0.001, kernel=poly;, score=0.702 total time=   0.0s\n",
      "[CV 2/5] END ...C=100, gamma=0.001, kernel=poly;, score=0.711 total time=   0.0s\n",
      "[CV 3/5] END ...C=100, gamma=0.001, kernel=poly;, score=0.699 total time=   0.0s\n",
      "[CV 4/5] END ...C=100, gamma=0.001, kernel=poly;, score=0.699 total time=   0.0s\n",
      "[CV 5/5] END ...C=100, gamma=0.001, kernel=poly;, score=0.699 total time=   0.0s\n",
      "[CV 1/5] END ...C=100, gamma=0.0001, kernel=rbf;, score=0.702 total time=   0.0s\n",
      "[CV 2/5] END ...C=100, gamma=0.0001, kernel=rbf;, score=0.711 total time=   0.0s\n",
      "[CV 3/5] END ...C=100, gamma=0.0001, kernel=rbf;, score=0.699 total time=   0.0s\n",
      "[CV 4/5] END ...C=100, gamma=0.0001, kernel=rbf;, score=0.699 total time=   0.0s\n",
      "[CV 5/5] END ...C=100, gamma=0.0001, kernel=rbf;, score=0.699 total time=   0.0s\n",
      "[CV 1/5] END ..C=100, gamma=0.0001, kernel=poly;, score=0.702 total time=   0.0s\n",
      "[CV 2/5] END ..C=100, gamma=0.0001, kernel=poly;, score=0.711 total time=   0.0s\n",
      "[CV 3/5] END ..C=100, gamma=0.0001, kernel=poly;, score=0.699 total time=   0.0s\n",
      "[CV 4/5] END ..C=100, gamma=0.0001, kernel=poly;, score=0.699 total time=   0.0s\n",
      "[CV 5/5] END ..C=100, gamma=0.0001, kernel=poly;, score=0.699 total time=   0.0s\n",
      "[CV 1/5] END .......C=1000, gamma=1, kernel=rbf;, score=0.774 total time=   0.1s\n",
      "[CV 2/5] END .......C=1000, gamma=1, kernel=rbf;, score=0.687 total time=   0.1s\n",
      "[CV 3/5] END .......C=1000, gamma=1, kernel=rbf;, score=0.723 total time=   0.0s\n",
      "[CV 1/5] END ........C=0.1, gamma=1, kernel=rbf;, score=0.738 total time=   0.0s\n",
      "[CV 3/5] END ........C=0.1, gamma=1, kernel=rbf;, score=0.747 total time=   0.0s\n",
      "[CV 4/5] END ........C=0.1, gamma=1, kernel=rbf;, score=0.723 total time=   0.0s\n",
      "[CV 5/5] END ........C=0.1, gamma=1, kernel=rbf;, score=0.711 total time=   0.0s\n",
      "[CV 1/5] END .......C=0.1, gamma=1, kernel=poly;, score=0.821 total time=   0.0s\n",
      "[CV 3/5] END .......C=0.1, gamma=1, kernel=poly;, score=0.831 total time=   0.0s\n",
      "[CV 5/5] END .......C=0.1, gamma=1, kernel=poly;, score=0.843 total time=   0.0s\n",
      "[CV 3/5] END ......C=0.1, gamma=0.1, kernel=rbf;, score=0.699 total time=   0.0s\n",
      "[CV 5/5] END ......C=0.1, gamma=0.1, kernel=rbf;, score=0.699 total time=   0.0s\n",
      "[CV 2/5] END .....C=0.1, gamma=0.1, kernel=poly;, score=0.711 total time=   0.0s\n",
      "[CV 4/5] END .....C=0.1, gamma=0.1, kernel=poly;, score=0.699 total time=   0.0s\n",
      "[CV 5/5] END .....C=0.1, gamma=0.1, kernel=poly;, score=0.699 total time=   0.0s\n",
      "[CV 3/5] END .....C=0.1, gamma=0.01, kernel=rbf;, score=0.699 total time=   0.0s\n",
      "[CV 4/5] END .....C=0.1, gamma=0.01, kernel=rbf;, score=0.699 total time=   0.0s\n",
      "[CV 2/5] END ....C=0.1, gamma=0.01, kernel=poly;, score=0.711 total time=   0.0s\n",
      "[CV 3/5] END ....C=0.1, gamma=0.01, kernel=poly;, score=0.699 total time=   0.0s\n",
      "[CV 4/5] END ....C=0.1, gamma=0.01, kernel=poly;, score=0.699 total time=   0.0s\n",
      "[CV 5/5] END ....C=0.1, gamma=0.01, kernel=poly;, score=0.699 total time=   0.0s\n",
      "[CV 5/5] END ....C=0.1, gamma=0.001, kernel=rbf;, score=0.699 total time=   0.0s\n",
      "[CV 1/5] END ...C=0.1, gamma=0.001, kernel=poly;, score=0.702 total time=   0.0s\n",
      "[CV 2/5] END ...C=0.1, gamma=0.001, kernel=poly;, score=0.711 total time=   0.0s\n",
      "[CV 3/5] END ...C=0.1, gamma=0.001, kernel=poly;, score=0.699 total time=   0.0s\n",
      "[CV 3/5] END ...C=0.1, gamma=0.0001, kernel=rbf;, score=0.699 total time=   0.0s\n",
      "[CV 4/5] END ...C=0.1, gamma=0.0001, kernel=rbf;, score=0.699 total time=   0.0s\n",
      "[CV 5/5] END ...C=0.1, gamma=0.0001, kernel=rbf;, score=0.699 total time=   0.0s\n",
      "[CV 1/5] END ..C=0.1, gamma=0.0001, kernel=poly;, score=0.702 total time=   0.0s\n",
      "[CV 2/5] END ..C=0.1, gamma=0.0001, kernel=poly;, score=0.711 total time=   0.0s\n",
      "[CV 3/5] END ..C=0.1, gamma=0.0001, kernel=poly;, score=0.699 total time=   0.0s\n",
      "[CV 4/5] END ..C=0.1, gamma=0.0001, kernel=poly;, score=0.699 total time=   0.0s\n",
      "[CV 5/5] END ..C=0.1, gamma=0.0001, kernel=poly;, score=0.699 total time=   0.0s\n",
      "[CV 4/5] END .........C=1, gamma=1, kernel=poly;, score=0.831 total time=   0.1s\n",
      "[CV 5/5] END .........C=1, gamma=1, kernel=poly;, score=0.819 total time=   0.1s\n",
      "[CV 1/5] END ........C=1, gamma=0.1, kernel=rbf;, score=0.821 total time=   0.0s\n",
      "[CV 2/5] END ........C=1, gamma=0.1, kernel=rbf;, score=0.807 total time=   0.0s\n",
      "[CV 3/5] END ........C=1, gamma=0.1, kernel=rbf;, score=0.831 total time=   0.0s\n",
      "[CV 4/5] END ........C=1, gamma=0.1, kernel=rbf;, score=0.831 total time=   0.0s\n",
      "[CV 5/5] END ........C=1, gamma=0.1, kernel=rbf;, score=0.855 total time=   0.0s\n",
      "[CV 1/5] END .......C=1, gamma=0.1, kernel=poly;, score=0.702 total time=   0.0s\n",
      "[CV 1/5] END .....C=1, gamma=0.0001, kernel=rbf;, score=0.702 total time=   0.0s\n",
      "[CV 2/5] END .....C=1, gamma=0.0001, kernel=rbf;, score=0.711 total time=   0.0s\n",
      "[CV 3/5] END .....C=1, gamma=0.0001, kernel=rbf;, score=0.699 total time=   0.0s\n",
      "[CV 4/5] END .....C=1, gamma=0.0001, kernel=rbf;, score=0.699 total time=   0.0s\n",
      "[CV 5/5] END .....C=1, gamma=0.0001, kernel=rbf;, score=0.699 total time=   0.0s\n",
      "[CV 1/5] END ....C=1, gamma=0.0001, kernel=poly;, score=0.702 total time=   0.0s\n",
      "[CV 2/5] END ....C=1, gamma=0.0001, kernel=poly;, score=0.711 total time=   0.0s\n",
      "[CV 3/5] END ....C=1, gamma=0.0001, kernel=poly;, score=0.699 total time=   0.0s\n",
      "[CV 4/5] END ....C=1, gamma=0.0001, kernel=poly;, score=0.699 total time=   0.0s\n",
      "[CV 5/5] END ....C=1, gamma=0.0001, kernel=poly;, score=0.699 total time=   0.0s\n",
      "[CV 1/5] END .........C=10, gamma=1, kernel=rbf;, score=0.798 total time=   0.0s\n",
      "[CV 2/5] END .........C=10, gamma=1, kernel=rbf;, score=0.747 total time=   0.0s\n",
      "[CV 3/5] END .........C=10, gamma=1, kernel=rbf;, score=0.783 total time=   0.0s\n",
      "[CV 4/5] END .........C=10, gamma=1, kernel=rbf;, score=0.795 total time=   0.0s\n",
      "[CV 5/5] END .........C=10, gamma=1, kernel=rbf;, score=0.819 total time=   0.0s\n",
      "[CV 1/5] END ........C=10, gamma=1, kernel=poly;, score=0.810 total time=   0.4s\n",
      "[CV 3/5] END ......C=10, gamma=0.01, kernel=rbf;, score=0.831 total time=   0.0s\n",
      "[CV 4/5] END ......C=10, gamma=0.01, kernel=rbf;, score=0.831 total time=   0.0s\n",
      "[CV 5/5] END ......C=10, gamma=0.01, kernel=rbf;, score=0.855 total time=   0.0s\n",
      "[CV 1/5] END .....C=10, gamma=0.01, kernel=poly;, score=0.702 total time=   0.0s\n",
      "[CV 2/5] END .....C=10, gamma=0.01, kernel=poly;, score=0.711 total time=   0.0s\n",
      "[CV 3/5] END .....C=10, gamma=0.01, kernel=poly;, score=0.699 total time=   0.0s\n",
      "[CV 4/5] END .....C=10, gamma=0.01, kernel=poly;, score=0.699 total time=   0.0s\n",
      "[CV 5/5] END .....C=10, gamma=0.01, kernel=poly;, score=0.699 total time=   0.0s\n",
      "[CV 1/5] END .....C=10, gamma=0.001, kernel=rbf;, score=0.702 total time=   0.0s\n",
      "[CV 2/5] END .....C=10, gamma=0.001, kernel=rbf;, score=0.711 total time=   0.0s\n",
      "[CV 3/5] END .....C=10, gamma=0.001, kernel=rbf;, score=0.699 total time=   0.0s\n",
      "[CV 4/5] END .....C=10, gamma=0.001, kernel=rbf;, score=0.699 total time=   0.0s\n",
      "[CV 5/5] END .....C=10, gamma=0.001, kernel=rbf;, score=0.699 total time=   0.0s\n",
      "[CV 1/5] END ....C=10, gamma=0.001, kernel=poly;, score=0.702 total time=   0.0s\n",
      "[CV 2/5] END ....C=10, gamma=0.001, kernel=poly;, score=0.711 total time=   0.0s\n",
      "[CV 3/5] END ....C=10, gamma=0.001, kernel=poly;, score=0.699 total time=   0.0s\n",
      "[CV 4/5] END ....C=10, gamma=0.001, kernel=poly;, score=0.699 total time=   0.0s\n",
      "[CV 5/5] END ....C=10, gamma=0.001, kernel=poly;, score=0.699 total time=   0.0s\n",
      "[CV 1/5] END ....C=10, gamma=0.0001, kernel=rbf;, score=0.702 total time=   0.0s\n",
      "[CV 2/5] END ....C=10, gamma=0.0001, kernel=rbf;, score=0.711 total time=   0.0s\n",
      "[CV 3/5] END ....C=10, gamma=0.0001, kernel=rbf;, score=0.699 total time=   0.0s\n",
      "[CV 4/5] END ....C=10, gamma=0.0001, kernel=rbf;, score=0.699 total time=   0.0s\n",
      "[CV 5/5] END ....C=10, gamma=0.0001, kernel=rbf;, score=0.699 total time=   0.0s\n",
      "[CV 1/5] END ...C=10, gamma=0.0001, kernel=poly;, score=0.702 total time=   0.0s\n",
      "[CV 2/5] END ...C=10, gamma=0.0001, kernel=poly;, score=0.711 total time=   0.0s\n",
      "[CV 3/5] END ...C=10, gamma=0.0001, kernel=poly;, score=0.699 total time=   0.0s\n",
      "[CV 4/5] END ...C=10, gamma=0.0001, kernel=poly;, score=0.699 total time=   0.0s\n",
      "[CV 5/5] END ...C=10, gamma=0.0001, kernel=poly;, score=0.699 total time=   0.0s\n",
      "[CV 1/5] END ........C=100, gamma=1, kernel=rbf;, score=0.774 total time=   0.0s\n",
      "[CV 2/5] END ........C=100, gamma=1, kernel=rbf;, score=0.711 total time=   0.0s\n",
      "[CV 3/5] END ........C=100, gamma=1, kernel=rbf;, score=0.723 total time=   0.0s\n",
      "[CV 4/5] END ........C=100, gamma=1, kernel=rbf;, score=0.711 total time=   0.0s\n",
      "[CV 5/5] END ........C=100, gamma=1, kernel=rbf;, score=0.759 total time=   0.0s\n",
      "[CV 1/5] END .......C=100, gamma=1, kernel=poly;, score=0.810 total time=   4.9s\n",
      "[CV 2/5] END .......C=100, gamma=1, kernel=poly;, score=0.795 total time=  19.0s\n",
      "[CV 3/5] END .......C=100, gamma=1, kernel=poly;, score=0.843 total time=   5.6s\n",
      "[CV 4/5] END .......C=100, gamma=1, kernel=poly;, score=0.843 total time=  19.2s\n",
      "[CV 5/5] END .......C=100, gamma=1, kernel=poly;, score=0.807 total time=   5.4s\n",
      "[CV 1/5] END ......C=100, gamma=0.1, kernel=rbf;, score=0.821 total time=   0.0s\n",
      "[CV 2/5] END ......C=100, gamma=0.1, kernel=rbf;, score=0.795 total time=   0.0s\n",
      "[CV 3/5] END ......C=100, gamma=0.1, kernel=rbf;, score=0.843 total time=   0.0s\n",
      "[CV 4/5] END ......C=100, gamma=0.1, kernel=rbf;, score=0.795 total time=   0.0s\n",
      "[CV 5/5] END ......C=100, gamma=0.1, kernel=rbf;, score=0.843 total time=   0.0s\n",
      "[CV 1/5] END .....C=100, gamma=0.1, kernel=poly;, score=0.821 total time=   0.0s\n",
      "[CV 2/5] END .....C=100, gamma=0.1, kernel=poly;, score=0.795 total time=   0.0s\n",
      "[CV 3/5] END .....C=100, gamma=0.1, kernel=poly;, score=0.831 total time=   0.0s\n",
      "[CV 4/5] END .....C=100, gamma=0.1, kernel=poly;, score=0.831 total time=   0.0s\n"
     ]
    },
    {
     "data": {
      "text/html": [
       "<style>#sk-container-id-4 {color: black;background-color: white;}#sk-container-id-4 pre{padding: 0;}#sk-container-id-4 div.sk-toggleable {background-color: white;}#sk-container-id-4 label.sk-toggleable__label {cursor: pointer;display: block;width: 100%;margin-bottom: 0;padding: 0.3em;box-sizing: border-box;text-align: center;}#sk-container-id-4 label.sk-toggleable__label-arrow:before {content: \"▸\";float: left;margin-right: 0.25em;color: #696969;}#sk-container-id-4 label.sk-toggleable__label-arrow:hover:before {color: black;}#sk-container-id-4 div.sk-estimator:hover label.sk-toggleable__label-arrow:before {color: black;}#sk-container-id-4 div.sk-toggleable__content {max-height: 0;max-width: 0;overflow: hidden;text-align: left;background-color: #f0f8ff;}#sk-container-id-4 div.sk-toggleable__content pre {margin: 0.2em;color: black;border-radius: 0.25em;background-color: #f0f8ff;}#sk-container-id-4 input.sk-toggleable__control:checked~div.sk-toggleable__content {max-height: 200px;max-width: 100%;overflow: auto;}#sk-container-id-4 input.sk-toggleable__control:checked~label.sk-toggleable__label-arrow:before {content: \"▾\";}#sk-container-id-4 div.sk-estimator input.sk-toggleable__control:checked~label.sk-toggleable__label {background-color: #d4ebff;}#sk-container-id-4 div.sk-label input.sk-toggleable__control:checked~label.sk-toggleable__label {background-color: #d4ebff;}#sk-container-id-4 input.sk-hidden--visually {border: 0;clip: rect(1px 1px 1px 1px);clip: rect(1px, 1px, 1px, 1px);height: 1px;margin: -1px;overflow: hidden;padding: 0;position: absolute;width: 1px;}#sk-container-id-4 div.sk-estimator {font-family: monospace;background-color: #f0f8ff;border: 1px dotted black;border-radius: 0.25em;box-sizing: border-box;margin-bottom: 0.5em;}#sk-container-id-4 div.sk-estimator:hover {background-color: #d4ebff;}#sk-container-id-4 div.sk-parallel-item::after {content: \"\";width: 100%;border-bottom: 1px solid gray;flex-grow: 1;}#sk-container-id-4 div.sk-label:hover label.sk-toggleable__label {background-color: #d4ebff;}#sk-container-id-4 div.sk-serial::before {content: \"\";position: absolute;border-left: 1px solid gray;box-sizing: border-box;top: 0;bottom: 0;left: 50%;z-index: 0;}#sk-container-id-4 div.sk-serial {display: flex;flex-direction: column;align-items: center;background-color: white;padding-right: 0.2em;padding-left: 0.2em;position: relative;}#sk-container-id-4 div.sk-item {position: relative;z-index: 1;}#sk-container-id-4 div.sk-parallel {display: flex;align-items: stretch;justify-content: center;background-color: white;position: relative;}#sk-container-id-4 div.sk-item::before, #sk-container-id-4 div.sk-parallel-item::before {content: \"\";position: absolute;border-left: 1px solid gray;box-sizing: border-box;top: 0;bottom: 0;left: 50%;z-index: -1;}#sk-container-id-4 div.sk-parallel-item {display: flex;flex-direction: column;z-index: 1;position: relative;background-color: white;}#sk-container-id-4 div.sk-parallel-item:first-child::after {align-self: flex-end;width: 50%;}#sk-container-id-4 div.sk-parallel-item:last-child::after {align-self: flex-start;width: 50%;}#sk-container-id-4 div.sk-parallel-item:only-child::after {width: 0;}#sk-container-id-4 div.sk-dashed-wrapped {border: 1px dashed gray;margin: 0 0.4em 0.5em 0.4em;box-sizing: border-box;padding-bottom: 0.4em;background-color: white;}#sk-container-id-4 div.sk-label label {font-family: monospace;font-weight: bold;display: inline-block;line-height: 1.2em;}#sk-container-id-4 div.sk-label-container {text-align: center;}#sk-container-id-4 div.sk-container {/* jupyter's `normalize.less` sets `[hidden] { display: none; }` but bootstrap.min.css set `[hidden] { display: none !important; }` so we also need the `!important` here to be able to override the default hidden behavior on the sphinx rendered scikit-learn.org. See: https://github.com/scikit-learn/scikit-learn/issues/21755 */display: inline-block !important;position: relative;}#sk-container-id-4 div.sk-text-repr-fallback {display: none;}</style><div id=\"sk-container-id-4\" class=\"sk-top-container\"><div class=\"sk-text-repr-fallback\"><pre>GridSearchCV(estimator=SVC(kernel=&#x27;poly&#x27;), n_jobs=-1,\n",
       "             param_grid={&#x27;C&#x27;: [0.1, 1, 10, 100, 1000],\n",
       "                         &#x27;gamma&#x27;: [1, 0.1, 0.01, 0.001, 0.0001],\n",
       "                         &#x27;kernel&#x27;: [&#x27;rbf&#x27;, &#x27;poly&#x27;]},\n",
       "             verbose=3)</pre><b>In a Jupyter environment, please rerun this cell to show the HTML representation or trust the notebook. <br />On GitHub, the HTML representation is unable to render, please try loading this page with nbviewer.org.</b></div><div class=\"sk-container\" hidden><div class=\"sk-item sk-dashed-wrapped\"><div class=\"sk-label-container\"><div class=\"sk-label sk-toggleable\"><input class=\"sk-toggleable__control sk-hidden--visually\" id=\"sk-estimator-id-4\" type=\"checkbox\" ><label for=\"sk-estimator-id-4\" class=\"sk-toggleable__label sk-toggleable__label-arrow\">GridSearchCV</label><div class=\"sk-toggleable__content\"><pre>GridSearchCV(estimator=SVC(kernel=&#x27;poly&#x27;), n_jobs=-1,\n",
       "             param_grid={&#x27;C&#x27;: [0.1, 1, 10, 100, 1000],\n",
       "                         &#x27;gamma&#x27;: [1, 0.1, 0.01, 0.001, 0.0001],\n",
       "                         &#x27;kernel&#x27;: [&#x27;rbf&#x27;, &#x27;poly&#x27;]},\n",
       "             verbose=3)</pre></div></div></div><div class=\"sk-parallel\"><div class=\"sk-parallel-item\"><div class=\"sk-item\"><div class=\"sk-label-container\"><div class=\"sk-label sk-toggleable\"><input class=\"sk-toggleable__control sk-hidden--visually\" id=\"sk-estimator-id-5\" type=\"checkbox\" ><label for=\"sk-estimator-id-5\" class=\"sk-toggleable__label sk-toggleable__label-arrow\">estimator: SVC</label><div class=\"sk-toggleable__content\"><pre>SVC(kernel=&#x27;poly&#x27;)</pre></div></div></div><div class=\"sk-serial\"><div class=\"sk-item\"><div class=\"sk-estimator sk-toggleable\"><input class=\"sk-toggleable__control sk-hidden--visually\" id=\"sk-estimator-id-6\" type=\"checkbox\" ><label for=\"sk-estimator-id-6\" class=\"sk-toggleable__label sk-toggleable__label-arrow\">SVC</label><div class=\"sk-toggleable__content\"><pre>SVC(kernel=&#x27;poly&#x27;)</pre></div></div></div></div></div></div></div></div></div></div>"
      ],
      "text/plain": [
       "GridSearchCV(estimator=SVC(kernel='poly'), n_jobs=-1,\n",
       "             param_grid={'C': [0.1, 1, 10, 100, 1000],\n",
       "                         'gamma': [1, 0.1, 0.01, 0.001, 0.0001],\n",
       "                         'kernel': ['rbf', 'poly']},\n",
       "             verbose=3)"
      ]
     },
     "execution_count": 75,
     "metadata": {},
     "output_type": "execute_result"
    }
   ],
   "source": [
    "grid= GridSearchCV(classifier,param_grid, verbose=3, n_jobs=-1)\n",
    "grid.fit(X_train,y_train)"
   ]
  },
  {
   "cell_type": "code",
   "execution_count": 76,
   "id": "93f11958",
   "metadata": {
    "execution": {
     "iopub.execute_input": "2023-05-22T03:26:09.412420Z",
     "iopub.status.busy": "2023-05-22T03:26:09.411473Z",
     "iopub.status.idle": "2023-05-22T03:26:09.418565Z",
     "shell.execute_reply": "2023-05-22T03:26:09.417600Z"
    },
    "papermill": {
     "duration": 0.045616,
     "end_time": "2023-05-22T03:26:09.420475",
     "exception": false,
     "start_time": "2023-05-22T03:26:09.374859",
     "status": "completed"
    },
    "tags": []
   },
   "outputs": [
    {
     "data": {
      "text/plain": [
       "{'C': 1, 'gamma': 0.1, 'kernel': 'rbf'}"
      ]
     },
     "execution_count": 76,
     "metadata": {},
     "output_type": "execute_result"
    }
   ],
   "source": [
    "grid.best_params_"
   ]
  },
  {
   "cell_type": "code",
   "execution_count": 77,
   "id": "f58b474a",
   "metadata": {
    "execution": {
     "iopub.execute_input": "2023-05-22T03:26:09.492783Z",
     "iopub.status.busy": "2023-05-22T03:26:09.491945Z",
     "iopub.status.idle": "2023-05-22T03:26:09.496904Z",
     "shell.execute_reply": "2023-05-22T03:26:09.495978Z"
    },
    "papermill": {
     "duration": 0.043577,
     "end_time": "2023-05-22T03:26:09.499103",
     "exception": false,
     "start_time": "2023-05-22T03:26:09.455526",
     "status": "completed"
    },
    "tags": []
   },
   "outputs": [],
   "source": [
    "classifier_new = svm.SVC(kernel = 'rbf', C=1, gamma=0.1)"
   ]
  },
  {
   "cell_type": "code",
   "execution_count": 78,
   "id": "fe4308a2",
   "metadata": {
    "execution": {
     "iopub.execute_input": "2023-05-22T03:26:09.570768Z",
     "iopub.status.busy": "2023-05-22T03:26:09.570101Z",
     "iopub.status.idle": "2023-05-22T03:26:09.587741Z",
     "shell.execute_reply": "2023-05-22T03:26:09.586876Z"
    },
    "papermill": {
     "duration": 0.055715,
     "end_time": "2023-05-22T03:26:09.589660",
     "exception": false,
     "start_time": "2023-05-22T03:26:09.533945",
     "status": "completed"
    },
    "tags": []
   },
   "outputs": [
    {
     "data": {
      "text/html": [
       "<style>#sk-container-id-5 {color: black;background-color: white;}#sk-container-id-5 pre{padding: 0;}#sk-container-id-5 div.sk-toggleable {background-color: white;}#sk-container-id-5 label.sk-toggleable__label {cursor: pointer;display: block;width: 100%;margin-bottom: 0;padding: 0.3em;box-sizing: border-box;text-align: center;}#sk-container-id-5 label.sk-toggleable__label-arrow:before {content: \"▸\";float: left;margin-right: 0.25em;color: #696969;}#sk-container-id-5 label.sk-toggleable__label-arrow:hover:before {color: black;}#sk-container-id-5 div.sk-estimator:hover label.sk-toggleable__label-arrow:before {color: black;}#sk-container-id-5 div.sk-toggleable__content {max-height: 0;max-width: 0;overflow: hidden;text-align: left;background-color: #f0f8ff;}#sk-container-id-5 div.sk-toggleable__content pre {margin: 0.2em;color: black;border-radius: 0.25em;background-color: #f0f8ff;}#sk-container-id-5 input.sk-toggleable__control:checked~div.sk-toggleable__content {max-height: 200px;max-width: 100%;overflow: auto;}#sk-container-id-5 input.sk-toggleable__control:checked~label.sk-toggleable__label-arrow:before {content: \"▾\";}#sk-container-id-5 div.sk-estimator input.sk-toggleable__control:checked~label.sk-toggleable__label {background-color: #d4ebff;}#sk-container-id-5 div.sk-label input.sk-toggleable__control:checked~label.sk-toggleable__label {background-color: #d4ebff;}#sk-container-id-5 input.sk-hidden--visually {border: 0;clip: rect(1px 1px 1px 1px);clip: rect(1px, 1px, 1px, 1px);height: 1px;margin: -1px;overflow: hidden;padding: 0;position: absolute;width: 1px;}#sk-container-id-5 div.sk-estimator {font-family: monospace;background-color: #f0f8ff;border: 1px dotted black;border-radius: 0.25em;box-sizing: border-box;margin-bottom: 0.5em;}#sk-container-id-5 div.sk-estimator:hover {background-color: #d4ebff;}#sk-container-id-5 div.sk-parallel-item::after {content: \"\";width: 100%;border-bottom: 1px solid gray;flex-grow: 1;}#sk-container-id-5 div.sk-label:hover label.sk-toggleable__label {background-color: #d4ebff;}#sk-container-id-5 div.sk-serial::before {content: \"\";position: absolute;border-left: 1px solid gray;box-sizing: border-box;top: 0;bottom: 0;left: 50%;z-index: 0;}#sk-container-id-5 div.sk-serial {display: flex;flex-direction: column;align-items: center;background-color: white;padding-right: 0.2em;padding-left: 0.2em;position: relative;}#sk-container-id-5 div.sk-item {position: relative;z-index: 1;}#sk-container-id-5 div.sk-parallel {display: flex;align-items: stretch;justify-content: center;background-color: white;position: relative;}#sk-container-id-5 div.sk-item::before, #sk-container-id-5 div.sk-parallel-item::before {content: \"\";position: absolute;border-left: 1px solid gray;box-sizing: border-box;top: 0;bottom: 0;left: 50%;z-index: -1;}#sk-container-id-5 div.sk-parallel-item {display: flex;flex-direction: column;z-index: 1;position: relative;background-color: white;}#sk-container-id-5 div.sk-parallel-item:first-child::after {align-self: flex-end;width: 50%;}#sk-container-id-5 div.sk-parallel-item:last-child::after {align-self: flex-start;width: 50%;}#sk-container-id-5 div.sk-parallel-item:only-child::after {width: 0;}#sk-container-id-5 div.sk-dashed-wrapped {border: 1px dashed gray;margin: 0 0.4em 0.5em 0.4em;box-sizing: border-box;padding-bottom: 0.4em;background-color: white;}#sk-container-id-5 div.sk-label label {font-family: monospace;font-weight: bold;display: inline-block;line-height: 1.2em;}#sk-container-id-5 div.sk-label-container {text-align: center;}#sk-container-id-5 div.sk-container {/* jupyter's `normalize.less` sets `[hidden] { display: none; }` but bootstrap.min.css set `[hidden] { display: none !important; }` so we also need the `!important` here to be able to override the default hidden behavior on the sphinx rendered scikit-learn.org. See: https://github.com/scikit-learn/scikit-learn/issues/21755 */display: inline-block !important;position: relative;}#sk-container-id-5 div.sk-text-repr-fallback {display: none;}</style><div id=\"sk-container-id-5\" class=\"sk-top-container\"><div class=\"sk-text-repr-fallback\"><pre>SVC(kernel=&#x27;poly&#x27;)</pre><b>In a Jupyter environment, please rerun this cell to show the HTML representation or trust the notebook. <br />On GitHub, the HTML representation is unable to render, please try loading this page with nbviewer.org.</b></div><div class=\"sk-container\" hidden><div class=\"sk-item\"><div class=\"sk-estimator sk-toggleable\"><input class=\"sk-toggleable__control sk-hidden--visually\" id=\"sk-estimator-id-7\" type=\"checkbox\" checked><label for=\"sk-estimator-id-7\" class=\"sk-toggleable__label sk-toggleable__label-arrow\">SVC</label><div class=\"sk-toggleable__content\"><pre>SVC(kernel=&#x27;poly&#x27;)</pre></div></div></div></div></div>"
      ],
      "text/plain": [
       "SVC(kernel='poly')"
      ]
     },
     "execution_count": 78,
     "metadata": {},
     "output_type": "execute_result"
    }
   ],
   "source": [
    "classifier.fit(X_train, y_train)"
   ]
  },
  {
   "cell_type": "code",
   "execution_count": 79,
   "id": "0aec009c",
   "metadata": {
    "execution": {
     "iopub.execute_input": "2023-05-22T03:26:09.661938Z",
     "iopub.status.busy": "2023-05-22T03:26:09.661666Z",
     "iopub.status.idle": "2023-05-22T03:26:09.676154Z",
     "shell.execute_reply": "2023-05-22T03:26:09.675040Z"
    },
    "papermill": {
     "duration": 0.05304,
     "end_time": "2023-05-22T03:26:09.678141",
     "exception": false,
     "start_time": "2023-05-22T03:26:09.625101",
     "status": "completed"
    },
    "tags": []
   },
   "outputs": [
    {
     "data": {
      "text/html": [
       "<style>#sk-container-id-6 {color: black;background-color: white;}#sk-container-id-6 pre{padding: 0;}#sk-container-id-6 div.sk-toggleable {background-color: white;}#sk-container-id-6 label.sk-toggleable__label {cursor: pointer;display: block;width: 100%;margin-bottom: 0;padding: 0.3em;box-sizing: border-box;text-align: center;}#sk-container-id-6 label.sk-toggleable__label-arrow:before {content: \"▸\";float: left;margin-right: 0.25em;color: #696969;}#sk-container-id-6 label.sk-toggleable__label-arrow:hover:before {color: black;}#sk-container-id-6 div.sk-estimator:hover label.sk-toggleable__label-arrow:before {color: black;}#sk-container-id-6 div.sk-toggleable__content {max-height: 0;max-width: 0;overflow: hidden;text-align: left;background-color: #f0f8ff;}#sk-container-id-6 div.sk-toggleable__content pre {margin: 0.2em;color: black;border-radius: 0.25em;background-color: #f0f8ff;}#sk-container-id-6 input.sk-toggleable__control:checked~div.sk-toggleable__content {max-height: 200px;max-width: 100%;overflow: auto;}#sk-container-id-6 input.sk-toggleable__control:checked~label.sk-toggleable__label-arrow:before {content: \"▾\";}#sk-container-id-6 div.sk-estimator input.sk-toggleable__control:checked~label.sk-toggleable__label {background-color: #d4ebff;}#sk-container-id-6 div.sk-label input.sk-toggleable__control:checked~label.sk-toggleable__label {background-color: #d4ebff;}#sk-container-id-6 input.sk-hidden--visually {border: 0;clip: rect(1px 1px 1px 1px);clip: rect(1px, 1px, 1px, 1px);height: 1px;margin: -1px;overflow: hidden;padding: 0;position: absolute;width: 1px;}#sk-container-id-6 div.sk-estimator {font-family: monospace;background-color: #f0f8ff;border: 1px dotted black;border-radius: 0.25em;box-sizing: border-box;margin-bottom: 0.5em;}#sk-container-id-6 div.sk-estimator:hover {background-color: #d4ebff;}#sk-container-id-6 div.sk-parallel-item::after {content: \"\";width: 100%;border-bottom: 1px solid gray;flex-grow: 1;}#sk-container-id-6 div.sk-label:hover label.sk-toggleable__label {background-color: #d4ebff;}#sk-container-id-6 div.sk-serial::before {content: \"\";position: absolute;border-left: 1px solid gray;box-sizing: border-box;top: 0;bottom: 0;left: 50%;z-index: 0;}#sk-container-id-6 div.sk-serial {display: flex;flex-direction: column;align-items: center;background-color: white;padding-right: 0.2em;padding-left: 0.2em;position: relative;}#sk-container-id-6 div.sk-item {position: relative;z-index: 1;}#sk-container-id-6 div.sk-parallel {display: flex;align-items: stretch;justify-content: center;background-color: white;position: relative;}#sk-container-id-6 div.sk-item::before, #sk-container-id-6 div.sk-parallel-item::before {content: \"\";position: absolute;border-left: 1px solid gray;box-sizing: border-box;top: 0;bottom: 0;left: 50%;z-index: -1;}#sk-container-id-6 div.sk-parallel-item {display: flex;flex-direction: column;z-index: 1;position: relative;background-color: white;}#sk-container-id-6 div.sk-parallel-item:first-child::after {align-self: flex-end;width: 50%;}#sk-container-id-6 div.sk-parallel-item:last-child::after {align-self: flex-start;width: 50%;}#sk-container-id-6 div.sk-parallel-item:only-child::after {width: 0;}#sk-container-id-6 div.sk-dashed-wrapped {border: 1px dashed gray;margin: 0 0.4em 0.5em 0.4em;box-sizing: border-box;padding-bottom: 0.4em;background-color: white;}#sk-container-id-6 div.sk-label label {font-family: monospace;font-weight: bold;display: inline-block;line-height: 1.2em;}#sk-container-id-6 div.sk-label-container {text-align: center;}#sk-container-id-6 div.sk-container {/* jupyter's `normalize.less` sets `[hidden] { display: none; }` but bootstrap.min.css set `[hidden] { display: none !important; }` so we also need the `!important` here to be able to override the default hidden behavior on the sphinx rendered scikit-learn.org. See: https://github.com/scikit-learn/scikit-learn/issues/21755 */display: inline-block !important;position: relative;}#sk-container-id-6 div.sk-text-repr-fallback {display: none;}</style><div id=\"sk-container-id-6\" class=\"sk-top-container\"><div class=\"sk-text-repr-fallback\"><pre>SVC(C=1, gamma=0.1)</pre><b>In a Jupyter environment, please rerun this cell to show the HTML representation or trust the notebook. <br />On GitHub, the HTML representation is unable to render, please try loading this page with nbviewer.org.</b></div><div class=\"sk-container\" hidden><div class=\"sk-item\"><div class=\"sk-estimator sk-toggleable\"><input class=\"sk-toggleable__control sk-hidden--visually\" id=\"sk-estimator-id-8\" type=\"checkbox\" checked><label for=\"sk-estimator-id-8\" class=\"sk-toggleable__label sk-toggleable__label-arrow\">SVC</label><div class=\"sk-toggleable__content\"><pre>SVC(C=1, gamma=0.1)</pre></div></div></div></div></div>"
      ],
      "text/plain": [
       "SVC(C=1, gamma=0.1)"
      ]
     },
     "execution_count": 79,
     "metadata": {},
     "output_type": "execute_result"
    }
   ],
   "source": [
    "classifier_new.fit(X_train, y_train)"
   ]
  },
  {
   "cell_type": "code",
   "execution_count": 80,
   "id": "3e4eb2c7",
   "metadata": {
    "execution": {
     "iopub.execute_input": "2023-05-22T03:26:09.750575Z",
     "iopub.status.busy": "2023-05-22T03:26:09.749784Z",
     "iopub.status.idle": "2023-05-22T03:26:09.756356Z",
     "shell.execute_reply": "2023-05-22T03:26:09.755451Z"
    },
    "papermill": {
     "duration": 0.044737,
     "end_time": "2023-05-22T03:26:09.758292",
     "exception": false,
     "start_time": "2023-05-22T03:26:09.713555",
     "status": "completed"
    },
    "tags": []
   },
   "outputs": [],
   "source": [
    "# Make a prediction for the test set with SVM\n",
    "y_pred_svm_new = classifier_new.predict(X_test)"
   ]
  },
  {
   "cell_type": "code",
   "execution_count": 81,
   "id": "c6561378",
   "metadata": {
    "execution": {
     "iopub.execute_input": "2023-05-22T03:26:09.830490Z",
     "iopub.status.busy": "2023-05-22T03:26:09.829703Z",
     "iopub.status.idle": "2023-05-22T03:26:09.835650Z",
     "shell.execute_reply": "2023-05-22T03:26:09.834682Z"
    },
    "papermill": {
     "duration": 0.04443,
     "end_time": "2023-05-22T03:26:09.837748",
     "exception": false,
     "start_time": "2023-05-22T03:26:09.793318",
     "status": "completed"
    },
    "tags": []
   },
   "outputs": [
    {
     "name": "stdout",
     "output_type": "stream",
     "text": [
      "Accuracy Score on test data using SVM: 0.8076923076923077\n"
     ]
    }
   ],
   "source": [
    "print(\"Accuracy Score on test data using SVM:\", accuracy_score(y_test, y_pred_svm_new))"
   ]
  },
  {
   "cell_type": "markdown",
   "id": "59206fdd",
   "metadata": {
    "papermill": {
     "duration": 0.036011,
     "end_time": "2023-05-22T03:26:09.908833",
     "exception": false,
     "start_time": "2023-05-22T03:26:09.872822",
     "status": "completed"
    },
    "tags": []
   },
   "source": [
    "# Build the Predictive System"
   ]
  },
  {
   "cell_type": "code",
   "execution_count": 82,
   "id": "6da36714",
   "metadata": {
    "execution": {
     "iopub.execute_input": "2023-05-22T03:26:09.982702Z",
     "iopub.status.busy": "2023-05-22T03:26:09.981757Z",
     "iopub.status.idle": "2023-05-22T03:26:09.989308Z",
     "shell.execute_reply": "2023-05-22T03:26:09.988277Z"
    },
    "papermill": {
     "duration": 0.046655,
     "end_time": "2023-05-22T03:26:09.991464",
     "exception": false,
     "start_time": "2023-05-22T03:26:09.944809",
     "status": "completed"
    },
    "tags": []
   },
   "outputs": [
    {
     "name": "stdout",
     "output_type": "stream",
     "text": [
      "The application is approved\n"
     ]
    }
   ],
   "source": [
    "input_data = (0, 0.515229, 0.106444, 0.616667, 1)\n",
    "\n",
    "input_data_as_array = np.asarray(input_data)\n",
    "input_data_reshaped = input_data_as_array.reshape(1, -1)\n",
    "\n",
    "# scale the input data\n",
    "#scaled_data = scaler.fit_transform(input_data_reshaped)\n",
    "\n",
    "prediction = classifier.predict(input_data_reshaped)\n",
    "\n",
    "if prediction[0] == 1:\n",
    "    print(\"The application is approved\")\n",
    "else:\n",
    "    print(\"The application is rejected\")"
   ]
  },
  {
   "cell_type": "code",
   "execution_count": 83,
   "id": "763e22f2",
   "metadata": {
    "execution": {
     "iopub.execute_input": "2023-05-22T03:26:10.067284Z",
     "iopub.status.busy": "2023-05-22T03:26:10.067025Z",
     "iopub.status.idle": "2023-05-22T03:26:10.071879Z",
     "shell.execute_reply": "2023-05-22T03:26:10.071056Z"
    },
    "papermill": {
     "duration": 0.044686,
     "end_time": "2023-05-22T03:26:10.073792",
     "exception": false,
     "start_time": "2023-05-22T03:26:10.029106",
     "status": "completed"
    },
    "tags": []
   },
   "outputs": [],
   "source": [
    "# saving the model \n",
    "import pickle \n",
    "pickle_out = open(\"Automating_Loan_Prediction_System.pkl\", mode = \"wb\") \n",
    "pickle.dump(model, pickle_out) \n",
    "pickle_out.close()"
   ]
  },
  {
   "cell_type": "code",
   "execution_count": null,
   "id": "bf358fff",
   "metadata": {
    "papermill": {
     "duration": 0.035061,
     "end_time": "2023-05-22T03:26:10.144323",
     "exception": false,
     "start_time": "2023-05-22T03:26:10.109262",
     "status": "completed"
    },
    "tags": []
   },
   "outputs": [],
   "source": []
  }
 ],
 "metadata": {
  "kernelspec": {
   "display_name": "Python 3",
   "language": "python",
   "name": "python3"
  },
  "language_info": {
   "codemirror_mode": {
    "name": "ipython",
    "version": 3
   },
   "file_extension": ".py",
   "mimetype": "text/x-python",
   "name": "python",
   "nbconvert_exporter": "python",
   "pygments_lexer": "ipython3",
   "version": "3.10.10"
  },
  "papermill": {
   "default_parameters": {},
   "duration": 218.137237,
   "end_time": "2023-05-22T03:26:12.798675",
   "environment_variables": {},
   "exception": null,
   "input_path": "__notebook__.ipynb",
   "output_path": "__notebook__.ipynb",
   "parameters": {},
   "start_time": "2023-05-22T03:22:34.661438",
   "version": "2.4.0"
  }
 },
 "nbformat": 4,
 "nbformat_minor": 5
}
